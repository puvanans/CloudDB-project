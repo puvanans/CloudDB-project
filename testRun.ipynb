{
 "cells": [
  {
   "cell_type": "code",
   "execution_count": 7,
   "id": "90a126ab-3f84-4e88-bd11-9857f6479447",
   "metadata": {},
   "outputs": [],
   "source": [
    "import requests\n",
    "import pickle\n",
    "import pprint\n",
    "import time\n",
    "from datetime import datetime\n",
    "import plotly.express as px\n",
    "import plotly.graph_objs as go"
   ]
  },
  {
   "cell_type": "code",
   "execution_count": 8,
   "id": "3595cbab-7f07-4c1a-b32d-2780c2ac2e81",
   "metadata": {},
   "outputs": [
    {
     "ename": "ImportError",
     "evalue": "cannot import name 'accessing_endpoints_loop' from 'accessing_API_script' (C:\\Users\\puvan\\Desktop\\CloudDB-project\\accessing_API_script.py)",
     "output_type": "error",
     "traceback": [
      "\u001b[1;31m---------------------------------------------------------------------------\u001b[0m",
      "\u001b[1;31mImportError\u001b[0m                               Traceback (most recent call last)",
      "Input \u001b[1;32mIn [8]\u001b[0m, in \u001b[0;36m<cell line: 1>\u001b[1;34m()\u001b[0m\n\u001b[1;32m----> 1\u001b[0m \u001b[38;5;28;01mfrom\u001b[39;00m \u001b[38;5;21;01maccessing_API_script\u001b[39;00m \u001b[38;5;28;01mimport\u001b[39;00m accessing_endpoints_loop\n",
      "\u001b[1;31mImportError\u001b[0m: cannot import name 'accessing_endpoints_loop' from 'accessing_API_script' (C:\\Users\\puvan\\Desktop\\CloudDB-project\\accessing_API_script.py)"
     ]
    }
   ],
   "source": [
    "from accessing_API_script import accessing_endpoints_loop"
   ]
  }
 ],
 "metadata": {
  "kernelspec": {
   "display_name": "Python 3 (ipykernel)",
   "language": "python",
   "name": "python3"
  },
  "language_info": {
   "codemirror_mode": {
    "name": "ipython",
    "version": 3
   },
   "file_extension": ".py",
   "mimetype": "text/x-python",
   "name": "python",
   "nbconvert_exporter": "python",
   "pygments_lexer": "ipython3",
   "version": "3.10.6"
  }
 },
 "nbformat": 4,
 "nbformat_minor": 5
}
