{
 "cells": [
  {
   "cell_type": "code",
   "execution_count": 1,
   "id": "90a126ab-3f84-4e88-bd11-9857f6479447",
   "metadata": {},
   "outputs": [],
   "source": [
    "import requests\n",
    "import pickle\n",
    "import pprint\n",
    "import time\n",
    "from datetime import datetime\n",
    "import plotly.express as px\n",
    "import plotly.graph_objs as go"
   ]
  },
  {
   "cell_type": "code",
   "execution_count": 2,
   "id": "3595cbab-7f07-4c1a-b32d-2780c2ac2e81",
   "metadata": {},
   "outputs": [],
   "source": [
    "from fundamentalScripts import accessing_endpoints_loop,dataExtraction,percent_Change,dataTransformation,stockViz"
   ]
  },
  {
   "cell_type": "code",
   "execution_count": 3,
   "id": "ebaf685f-ff8e-403a-991f-1ff51e8ee02c",
   "metadata": {},
   "outputs": [],
   "source": [
    "# stockViz(dataTransformation(dataExtraction(accessing_endpoints_loop('AAPL'))))"
   ]
  },
  {
   "cell_type": "code",
   "execution_count": 3,
   "id": "fb003fc6-c032-4c6d-9748-8a6efb0b8c89",
   "metadata": {},
   "outputs": [],
   "source": [
    "\n",
    "from flask import Flask, render_template, request\n",
    "\n",
    "app = Flask(__name__)"
   ]
  },
  {
   "cell_type": "code",
   "execution_count": 4,
   "id": "dee80050-167c-4f2d-b860-9f36b6cb6ba4",
   "metadata": {},
   "outputs": [],
   "source": [
    "\n",
    "@app.route('/', methods =['GET','POST'])\n",
    "\n",
    "def home():\n",
    "    if request.method == 'POST':\n",
    "        ticker = request.form['ticker']\n",
    "        data = accessing_endpoints_loop(ticker)\n",
    "        data = dataExtraction(data)\n",
    "        data = dataTransformation(data)\n",
    "        priceTracker,volumeTracker = stockViz(data)\n",
    "        \n",
    "        return render_template('result.html', price_plot = priceTracker.to_html(full_html=False),volume_plot = volumeTracker.to_html(full_html=False))\n",
    "\n",
    "    return render_template('home.html')\n",
    "        \n",
    "        "
   ]
  },
  {
   "cell_type": "code",
   "execution_count": null,
   "id": "e8d7ebf6-5eb0-4000-b6d1-9e153dd6e9c0",
   "metadata": {},
   "outputs": [
    {
     "name": "stdout",
     "output_type": "stream",
     "text": [
      " * Serving Flask app '__main__'\n",
      " * Debug mode: off\n"
     ]
    },
    {
     "name": "stderr",
     "output_type": "stream",
     "text": [
      "WARNING: This is a development server. Do not use it in a production deployment. Use a production WSGI server instead.\n",
      " * Running on http://127.0.0.1:5000\n",
      "Press CTRL+C to quit\n",
      "127.0.0.1 - - [21/Feb/2023 12:32:36] \"GET / HTTP/1.1\" 200 -\n",
      "127.0.0.1 - - [21/Feb/2023 12:32:41] \"POST / HTTP/1.1\" 200 -\n",
      "127.0.0.1 - - [21/Feb/2023 12:32:47] \"GET / HTTP/1.1\" 200 -\n",
      "127.0.0.1 - - [21/Feb/2023 12:32:53] \"POST / HTTP/1.1\" 200 -\n",
      "127.0.0.1 - - [21/Feb/2023 12:34:12] \"POST / HTTP/1.1\" 200 -\n",
      "127.0.0.1 - - [21/Feb/2023 12:34:56] \"POST / HTTP/1.1\" 200 -\n",
      "127.0.0.1 - - [21/Feb/2023 12:36:27] \"POST / HTTP/1.1\" 200 -\n"
     ]
    }
   ],
   "source": [
    "\n",
    "if __name__ == '__main__':\n",
    "    app.run()"
   ]
  }
 ],
 "metadata": {
  "kernelspec": {
   "display_name": "Python 3 (ipykernel)",
   "language": "python",
   "name": "python3"
  },
  "language_info": {
   "codemirror_mode": {
    "name": "ipython",
    "version": 3
   },
   "file_extension": ".py",
   "mimetype": "text/x-python",
   "name": "python",
   "nbconvert_exporter": "python",
   "pygments_lexer": "ipython3",
   "version": "3.10.6"
  }
 },
 "nbformat": 4,
 "nbformat_minor": 5
}
