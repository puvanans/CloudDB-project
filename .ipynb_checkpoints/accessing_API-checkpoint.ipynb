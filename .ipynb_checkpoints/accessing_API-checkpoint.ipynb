{
 "cells": [
  {
   "cell_type": "code",
   "execution_count": 1,
   "id": "1895621e-04f9-4a40-81f2-5b41414a5474",
   "metadata": {},
   "outputs": [],
   "source": [
    "import requests\n",
    "# Used to access APIs\n",
    "import time\n",
    "# Used to check the runtime of the function\n",
    "from fundamentalScripts import dataExtraction"
   ]
  },
  {
   "cell_type": "code",
   "execution_count": 3,
   "id": "da0f3007-7fc5-4142-9a7c-ecfa9516c982",
   "metadata": {},
   "outputs": [],
   "source": [
    "def accessing_endpoints_loop(ticker:str):\n",
    "    \n",
    "    endpoints =[\n",
    "      # {'name':'Balance_sheet','url':f'https://www.alphavantage.co/query?function=BALANCE_SHEET&symbol={ticker}&apikey=RQRA0RQ6ZZAVMA26'},\n",
    "      {'name':'Stock_price','url': f'https://www.alphavantage.co/query?function=TIME_SERIES_MONTHLY&symbol={ticker}&outputsize=full&apikey=RQRA0RQ6ZZAVMA26'}\n",
    "        # ,{'name':'Income_statement','url':f'https://www.alphavantage.co/query?function=INCOME_STATEMENT&symbol={ticker}&apikey=RQRA0RQ6ZZAVMA26'},\n",
    "    ]\n",
    "    \n",
    "    raw_data = None\n",
    "    \n",
    "    for endpoint in endpoints:\n",
    "        name = endpoint['name']\n",
    "        url = endpoint['url']\n",
    "        \n",
    "    try:\n",
    "        response = requests.get(url)\n",
    "        response.raise_for_status()\n",
    "        raw_data = response.json()\n",
    "    \n",
    "    except response.exceptions.HTTPError as err:\n",
    "      return f'HTTP error with {name} endpoint :{err}'\n",
    "\n",
    "    except response.exceptions.RequestExceptions as err:\n",
    "      return f'Request error with {name} endpoint:{err}'\n",
    "\n",
    "    return raw_data\n",
    "        \n",
    "        "
   ]
  },
  {
   "cell_type": "code",
   "execution_count": 5,
   "id": "1c8daa50-aa25-4f3b-af10-8848bc8db947",
   "metadata": {},
   "outputs": [
    {
     "ename": "NameError",
     "evalue": "name 'none' is not defined",
     "output_type": "error",
     "traceback": [
      "\u001b[1;31m---------------------------------------------------------------------------\u001b[0m",
      "\u001b[1;31mNameError\u001b[0m                                 Traceback (most recent call last)",
      "Input \u001b[1;32mIn [5]\u001b[0m, in \u001b[0;36m<cell line: 1>\u001b[1;34m()\u001b[0m\n\u001b[1;32m----> 1\u001b[0m \u001b[43maccessing_endpoints_loop\u001b[49m\u001b[43m(\u001b[49m\u001b[38;5;124;43m'\u001b[39;49m\u001b[38;5;124;43mTSLA\u001b[39;49m\u001b[38;5;124;43m'\u001b[39;49m\u001b[43m)\u001b[49m\n",
      "Input \u001b[1;32mIn [3]\u001b[0m, in \u001b[0;36maccessing_endpoints_loop\u001b[1;34m(ticker)\u001b[0m\n\u001b[0;32m      1\u001b[0m \u001b[38;5;28;01mdef\u001b[39;00m \u001b[38;5;21maccessing_endpoints_loop\u001b[39m(ticker:\u001b[38;5;28mstr\u001b[39m):\n\u001b[0;32m      3\u001b[0m     endpoints \u001b[38;5;241m=\u001b[39m[\n\u001b[0;32m      4\u001b[0m       \u001b[38;5;66;03m# {'name':'Balance_sheet','url':f'https://www.alphavantage.co/query?function=BALANCE_SHEET&symbol={ticker}&apikey=RQRA0RQ6ZZAVMA26'},\u001b[39;00m\n\u001b[0;32m      5\u001b[0m       {\u001b[38;5;124m'\u001b[39m\u001b[38;5;124mname\u001b[39m\u001b[38;5;124m'\u001b[39m:\u001b[38;5;124m'\u001b[39m\u001b[38;5;124mStock_price\u001b[39m\u001b[38;5;124m'\u001b[39m,\u001b[38;5;124m'\u001b[39m\u001b[38;5;124murl\u001b[39m\u001b[38;5;124m'\u001b[39m: \u001b[38;5;124mf\u001b[39m\u001b[38;5;124m'\u001b[39m\u001b[38;5;124mhttps://www.alphavantage.co/query?function=TIME_SERIES_MONTHLY&symbol=\u001b[39m\u001b[38;5;132;01m{\u001b[39;00mticker\u001b[38;5;132;01m}\u001b[39;00m\u001b[38;5;124m&outputsize=full&apikey=RQRA0RQ6ZZAVMA26\u001b[39m\u001b[38;5;124m'\u001b[39m}\n\u001b[0;32m      6\u001b[0m         \u001b[38;5;66;03m# ,{'name':'Income_statement','url':f'https://www.alphavantage.co/query?function=INCOME_STATEMENT&symbol={ticker}&apikey=RQRA0RQ6ZZAVMA26'},\u001b[39;00m\n\u001b[0;32m      7\u001b[0m     ]\n\u001b[1;32m----> 9\u001b[0m     raw_data \u001b[38;5;241m=\u001b[39m \u001b[43mnone\u001b[49m\n\u001b[0;32m     11\u001b[0m     \u001b[38;5;28;01mfor\u001b[39;00m endpoint \u001b[38;5;129;01min\u001b[39;00m endpoints:\n\u001b[0;32m     12\u001b[0m         name \u001b[38;5;241m=\u001b[39m endpoint[\u001b[38;5;124m'\u001b[39m\u001b[38;5;124mname\u001b[39m\u001b[38;5;124m'\u001b[39m]\n",
      "\u001b[1;31mNameError\u001b[0m: name 'none' is not defined"
     ]
    }
   ],
   "source": [
    "accessing_endpoints_loop('TSLA')"
   ]
  },
  {
   "cell_type": "code",
   "execution_count": null,
   "id": "272a807f-c74a-4f52-a3e2-06ef677c4980",
   "metadata": {},
   "outputs": [],
   "source": []
  },
  {
   "cell_type": "code",
   "execution_count": 27,
   "id": "d44bf7fd-96cc-46b0-a2f0-08f87fb6a456",
   "metadata": {},
   "outputs": [
    {
     "name": "stdout",
     "output_type": "stream",
     "text": [
      "The average runtime is:\n",
      "0.22313609917958577\n"
     ]
    }
   ],
   "source": [
    "\n",
    "ticker_symbols = ['AAPL', 'MSFT', 'AMZN', 'GOOGL', 'GOOG', 'FB', 'JNJ', 'V', 'PG', 'JPM','XOM', 'VZ', 'T', 'HD', 'UNH', 'MA', 'INTC', 'CVX', 'WFC', 'PFE','CSCO', 'DIS', 'PEP', 'BAC', 'BA', 'MRK', 'NKE', 'KO', 'GE', 'MCD','CAT', 'DWDP', 'MMM', 'IBM', 'WMT', 'UNP', 'AXP', 'VRSN', 'UPS', 'ORCL','CHTR', 'TMO', 'ADBE', 'DOW', 'LLY', 'ACN', 'ABT', 'NVDA', 'AVGO', 'HON','TXN', 'NEE', 'INTU', 'MO', 'MDLZ', 'PM', 'TATAMOTORS', 'VOD', 'MMC', 'VFC','ADP', 'ITW', 'ROP', 'CELG', 'LMT', 'BLK', 'BKNG', 'WBA', 'SBUX', 'DUK','EXC', 'LOW', 'AMT', 'SO', 'PNC', 'EMR', 'HUM', 'PPG', 'RTN', 'LRCX','CVS', 'PPL', 'MRO', 'AEP', 'MS', 'D', 'CAG', 'ED', 'AIG', 'CMCSA']\n",
    "\n",
    "run_time_list = []\n",
    "\n",
    "for i in ticker_symbols:\n",
    "\n",
    "  start_time = time.time()\n",
    "\n",
    "  accessing_endpoints_loop(i)\n",
    "\n",
    "  end_time = time.time()\n",
    "\n",
    "  run_time = (end_time)-(start_time)\n",
    "\n",
    "  run_time_list.append(run_time)\n",
    "\n",
    "print(\"The average runtime is:\")\n",
    "print(sum(run_time_list)/len(ticker_symbols))  \n"
   ]
  },
  {
   "cell_type": "code",
   "execution_count": 73,
   "id": "fa1d82c3-5208-4ab7-b321-67cafc0dc9d9",
   "metadata": {},
   "outputs": [
    {
     "data": {
      "text/plain": [
       "dict"
      ]
     },
     "execution_count": 73,
     "metadata": {},
     "output_type": "execute_result"
    }
   ],
   "source": [
    "type(company_stock_data[0])\n",
    "# (company_stock_data[0])"
   ]
  },
  {
   "cell_type": "code",
   "execution_count": 74,
   "id": "060b8367-4997-4853-8e08-9339db4d0e41",
   "metadata": {},
   "outputs": [],
   "source": [
    "import pickle"
   ]
  },
  {
   "cell_type": "code",
   "execution_count": 75,
   "id": "8a98dd6f-8a33-477c-a595-a0aeda3cf3e9",
   "metadata": {},
   "outputs": [],
   "source": [
    "with open(\"tesla_stock_data.pkl\", \"wb\") as f:\n",
    "    pickle.dump(company_stock_data,f)"
   ]
  }
 ],
 "metadata": {
  "kernelspec": {
   "display_name": "Python 3 (ipykernel)",
   "language": "python",
   "name": "python3"
  },
  "language_info": {
   "codemirror_mode": {
    "name": "ipython",
    "version": 3
   },
   "file_extension": ".py",
   "mimetype": "text/x-python",
   "name": "python",
   "nbconvert_exporter": "python",
   "pygments_lexer": "ipython3",
   "version": "3.10.6"
  }
 },
 "nbformat": 4,
 "nbformat_minor": 5
}
