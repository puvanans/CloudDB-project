{
 "cells": [
  {
   "cell_type": "code",
   "execution_count": 4,
   "id": "1895621e-04f9-4a40-81f2-5b41414a5474",
   "metadata": {},
   "outputs": [],
   "source": [
    "import requests\n",
    "# Used to access APIs\n",
    "import time\n",
    "# Used to check the runtime of the function"
   ]
  },
  {
   "cell_type": "code",
   "execution_count": 12,
   "id": "da0f3007-7fc5-4142-9a7c-ecfa9516c982",
   "metadata": {},
   "outputs": [],
   "source": [
    "def accessing_endpoints_loop(ticker:str):\n",
    "    \n",
    "    endpoints =[\n",
    "      # {'name':'Balance_sheet','url':f'https://www.alphavantage.co/query?function=BALANCE_SHEET&symbol={ticker}&apikey=RQRA0RQ6ZZAVMA26'},\n",
    "      {'name':'Stock_price','url': f'https://www.alphavantage.co/query?function=TIME_SERIES_MONTHLY_ADJUSTED&symbol={ticker}&apikey=RQRA0RQ6ZZAVMA26'}\n",
    "        # ,{'name':'Income_statement','url':f'https://www.alphavantage.co/query?function=INCOME_STATEMENT&symbol={ticker}&apikey=RQRA0RQ6ZZAVMA26'},\n",
    "    ]\n",
    "    \n",
    "    raw_data = []\n",
    "    \n",
    "    for endpoint in endpoints:\n",
    "        name = endpoint['name']\n",
    "        url = endpoint['url']\n",
    "        \n",
    "    try:\n",
    "        response = requests.get(url)\n",
    "        response.raise_for_status()\n",
    "        raw_data.append(response.json())\n",
    "    \n",
    "    except response.exceptions.HTTPError as err:\n",
    "      return f'HTTP error with {name} endpoint :{err}'\n",
    "\n",
    "    except response.exceptions.RequestExceptions as err:\n",
    "      return f'Request error with {name} endpoint:{err}'\n",
    "\n",
    "    return raw_data\n",
    "        \n",
    "        "
   ]
  },
  {
   "cell_type": "code",
   "execution_count": 13,
   "id": "1c8daa50-aa25-4f3b-af10-8848bc8db947",
   "metadata": {},
   "outputs": [],
   "source": [
    "tesla_stock_data = accessing_endpoints_loop('TSLA')"
   ]
  },
  {
   "cell_type": "code",
   "execution_count": 14,
   "id": "272a807f-c74a-4f52-a3e2-06ef677c4980",
   "metadata": {},
   "outputs": [],
   "source": [
    "# tesla_stock_data"
   ]
  },
  {
   "cell_type": "code",
   "execution_count": null,
   "id": "d44bf7fd-96cc-46b0-a2f0-08f87fb6a456",
   "metadata": {},
   "outputs": [],
   "source": [
    "\n",
    "ticker_symbols = ['AAPL', 'MSFT', 'AMZN', 'GOOGL', 'GOOG', 'FB', 'JNJ', 'V', 'PG', 'JPM','XOM', 'VZ', 'T', 'HD', 'UNH', 'MA', 'INTC', 'CVX', 'WFC', 'PFE','CSCO', 'DIS', 'PEP', 'BAC', 'BA', 'MRK', 'NKE', 'KO', 'GE', 'MCD','CAT', 'DWDP', 'MMM', 'IBM', 'WMT', 'UNP', 'AXP', 'VRSN', 'UPS', 'ORCL','CHTR', 'TMO', 'ADBE', 'DOW', 'LLY', 'ACN', 'ABT', 'NVDA', 'AVGO', 'HON','TXN', 'NEE', 'INTU', 'MO', 'MDLZ', 'PM', 'TATAMOTORS', 'VOD', 'MMC', 'VFC','ADP', 'ITW', 'ROP', 'CELG', 'LMT', 'BLK', 'BKNG', 'WBA', 'SBUX', 'DUK','EXC', 'LOW', 'AMT', 'SO', 'PNC', 'EMR', 'HUM', 'PPG', 'RTN', 'LRCX','CVS', 'PPL', 'MRO', 'AEP', 'MS', 'D', 'CAG', 'ED', 'AIG', 'CMCSA']\n",
    "\n",
    "run_time_list = []\n",
    "\n",
    "for i in ticker_symbols:\n",
    "\n",
    "  start_time = time.time()\n",
    "\n",
    "  accessing_endpoints_loop(i)\n",
    "\n",
    "  end_time = time.time()\n",
    "\n",
    "  run_time = (end_time)-(start_time)\n",
    "\n",
    "  run_time_list.append(run_time)\n",
    "\n",
    "print(\"The average runtime is:\")\n",
    "print(sum(run_time_list)/len(ticker_symbols))  \n"
   ]
  }
 ],
 "metadata": {
  "kernelspec": {
   "display_name": "Python 3 (ipykernel)",
   "language": "python",
   "name": "python3"
  },
  "language_info": {
   "codemirror_mode": {
    "name": "ipython",
    "version": 3
   },
   "file_extension": ".py",
   "mimetype": "text/x-python",
   "name": "python",
   "nbconvert_exporter": "python",
   "pygments_lexer": "ipython3",
   "version": "3.10.6"
  }
 },
 "nbformat": 4,
 "nbformat_minor": 5
}
