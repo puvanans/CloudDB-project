{
 "cells": [
  {
   "cell_type": "code",
   "execution_count": 22,
   "id": "946157cc-3469-4f29-9bae-ccc669aafcec",
   "metadata": {},
   "outputs": [],
   "source": [
    "import pickle\n",
    "import pprint\n",
    "import time"
   ]
  },
  {
   "cell_type": "code",
   "execution_count": 6,
   "id": "6be206c3-5229-4299-8d13-1ec19dd0e34d",
   "metadata": {},
   "outputs": [],
   "source": [
    "with open(\"tesla_stock_data.pkl\", \"rb\") as f:\n",
    "    company_stock_data = pickle.load(f)\n"
   ]
  },
  {
   "cell_type": "code",
   "execution_count": 8,
   "id": "8b27fb86-d82b-424c-a887-15f49d8a2684",
   "metadata": {},
   "outputs": [
    {
     "data": {
      "text/plain": [
       "658"
      ]
     },
     "execution_count": 8,
     "metadata": {},
     "output_type": "execute_result"
    }
   ],
   "source": [
    "len(company_stock_data[0])\n",
    "len(company_stock_data[0]['Weekly Time Series'])"
   ]
  },
  {
   "cell_type": "code",
   "execution_count": 9,
   "id": "a9b9113f-3fc9-4537-b399-2d00a3ff75c0",
   "metadata": {},
   "outputs": [],
   "source": [
    "# pprint.pprint(tesla_weekly_data )"
   ]
  },
  {
   "cell_type": "code",
   "execution_count": 35,
   "id": "e8767349-b1f5-4991-9628-c79e17176fb5",
   "metadata": {},
   "outputs": [],
   "source": [
    "def dataExtraction(dict):\n",
    "    company_weekly_data = company_stock_data[0]['Weekly Time Series']\n",
    "    dates = list(company_weekly_data.keys())\n",
    "    weekly_closing_price = []\n",
    "    weekly_trading_volume = []\n",
    "    for date in dates:\n",
    "        value = company_weekly_data[date]\n",
    "        closing_price = float(value['4. close'])\n",
    "        stock_Volume = int(value['5. volume'])\n",
    "        weekly_closing_price.append(closing_price)\n",
    "        weekly_trading_volume.append(stock_Volume)\n",
    "    return dates,weekly_closing_price,weekly_trading_volume\n",
    "   \n"
   ]
  },
  {
   "cell_type": "code",
   "execution_count": 36,
   "id": "76d99a6f-6c7d-486a-a77a-246cd8b8ebfd",
   "metadata": {},
   "outputs": [
    {
     "data": {
      "text/plain": [
       "tuple"
      ]
     },
     "execution_count": 36,
     "metadata": {},
     "output_type": "execute_result"
    }
   ],
   "source": [
    "type(dataExtraction(company_stock_data))"
   ]
  },
  {
   "cell_type": "code",
   "execution_count": 38,
   "id": "d2e4a7a6-a102-4420-b42a-9aaf3826f491",
   "metadata": {},
   "outputs": [],
   "source": [
    "dates, stock_Price, stock_Volume = dataExtraction(company_stock_data)"
   ]
  },
  {
   "cell_type": "markdown",
   "id": "f548ec02-dc5c-4114-a036-a38d4fa54077",
   "metadata": {},
   "source": [
    "## Average runtime\n",
    "\n",
    "* The cell below calculates the average runtime of the dataExtraction function. \n",
    "* Eventually this will be encapsulated into a function itself, which will taken in a function as an arguement."
   ]
  },
  {
   "cell_type": "code",
   "execution_count": null,
   "id": "a4261361-b2bc-4251-baf0-4a7b9d589dd3",
   "metadata": {},
   "outputs": [],
   "source": [
    "x = 0\n",
    "\n",
    "run_time_list = []\n",
    "\n",
    "while x <= 5000:\n",
    "    \n",
    "    start = time.time()\n",
    "    \n",
    "    dataExtraction(company_stock_data)\n",
    "    \n",
    "    end = time.time()\n",
    "    \n",
    "    run_time = end - start\n",
    "    \n",
    "    run_time_list.append(run_time)\n",
    "    \n",
    "    x += 1\n",
    "\n",
    "print(\"The average run time of the dataExtraction function is :\")\n",
    "print(sum(run_time_list)/x)\n",
    "    "
   ]
  },
  {
   "cell_type": "code",
   "execution_count": null,
   "id": "f6ace6ef-f826-4103-a9e8-100e05b2a7bb",
   "metadata": {},
   "outputs": [],
   "source": [
    "stock_Price_Change = [9]"
   ]
  }
 ],
 "metadata": {
  "kernelspec": {
   "display_name": "Python 3 (ipykernel)",
   "language": "python",
   "name": "python3"
  },
  "language_info": {
   "codemirror_mode": {
    "name": "ipython",
    "version": 3
   },
   "file_extension": ".py",
   "mimetype": "text/x-python",
   "name": "python",
   "nbconvert_exporter": "python",
   "pygments_lexer": "ipython3",
   "version": "3.10.6"
  }
 },
 "nbformat": 4,
 "nbformat_minor": 5
}
