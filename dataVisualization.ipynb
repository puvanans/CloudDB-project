{
 "cells": [
  {
   "cell_type": "code",
   "execution_count": 45,
   "id": "780681de-bdac-43b6-9700-002a3e5d3cb8",
   "metadata": {},
   "outputs": [],
   "source": [
    "import pickle\n",
    "import pprint\n",
    "import time\n",
    "from datetime import datetime\n",
    "import plotly.express as px\n",
    "import plotly.graph_objs as go"
   ]
  },
  {
   "cell_type": "code",
   "execution_count": 6,
   "id": "5dedbfac-cc04-4cb3-a772-d7568e79c4a4",
   "metadata": {},
   "outputs": [],
   "source": [
    "with open(\"data_for_visualization.pkl\", \"rb\") as file:\n",
    "    data_for_visualization = pickle.load(file)\n",
    "\n"
   ]
  },
  {
   "cell_type": "code",
   "execution_count": 54,
   "id": "0c72557e-69bc-4b8b-a669-03a82dbe4420",
   "metadata": {},
   "outputs": [],
   "source": [
    "def stockViz(data):\n",
    "    date = data_for_visualization[1]\n",
    "    stock_Price = data_for_visualization[2]\n",
    "    stock_Volume_Change = data_for_visualization[5]\n",
    "    stock_Volume_Change_abs = [abs(change) for change in stock_Volume_Change]\n",
    "    \n",
    "    priceTracker = px.line(x = date, y = stock_Price, title = \"Stock Price over time\" )\n",
    "\n",
    "    priceTracker.update_layout(\n",
    "        title='Stock Price',\n",
    "        yaxis_tickformat='$',\n",
    "        yaxis_title='Price',\n",
    "        xaxis_showgrid=False,   # Set the x-axis grid lines to show\n",
    "        # yaxis_showgrid=False,   # Set the y-axis grid lines to show\n",
    "        xaxis_gridcolor='lightgray',  # Set the x-axis grid color\n",
    "        yaxis_gridcolor='lightgray',  # Set the y-axis grid color\n",
    "        plot_bgcolor='rgb(255, 255, 255)',  # Set the background color to white\n",
    "    )\n",
    "    \n",
    "    changeTracker = px.scatter( x = date, y = stock_Volume_Change, title = 'Trade over time', size = stock_Volume_Change_abs)\n",
    "\n",
    "    changeTracker.update_layout(\n",
    "        yaxis_tickformat = '.2%',\n",
    "        yaxis_title = 'Percent Change',\n",
    "        xaxis_showgrid=False,   # Set the x-axis grid lines to show\n",
    "        # yaxis_showgrid=False,   # Set the y-axis grid lines to show\n",
    "        xaxis_gridcolor='lightgray',  # Set the x-axis grid color\n",
    "        yaxis_gridcolor='lightgray',  # Set the y-axis grid color\n",
    "        plot_bgcolor='rgb(255, 255, 255)',  # Set the background color to white\n",
    "    )\n",
    "    priceTracker.show()\n",
    "    changeTracker.show()"
   ]
  },
  {
   "cell_type": "code",
   "execution_count": 55,
   "id": "b689d29f-9223-45ab-9da2-792c34475d6f",
   "metadata": {},
   "outputs": [
    {
     "data": {
      "application/vnd.plotly.v1+json": {
       "config": {
        "plotlyServerURL": "https://plot.ly"
       },
       "data": [
        {
         "hovertemplate": "x=%{x}<br>y=%{y}<extra></extra>",
         "legendgroup": "",
         "line": {
          "color": "#636efa",
          "dash": "solid"
         },
         "marker": {
          "symbol": "circle"
         },
         "mode": "lines",
         "name": "",
         "orientation": "v",
         "showlegend": false,
         "type": "scatter",
         "x": [
          "2023-02-15T00:00:00",
          "2023-01-31T00:00:00",
          "2022-12-30T00:00:00",
          "2022-11-30T00:00:00",
          "2022-10-31T00:00:00",
          "2022-09-30T00:00:00",
          "2022-08-31T00:00:00",
          "2022-07-29T00:00:00",
          "2022-06-30T00:00:00",
          "2022-05-31T00:00:00",
          "2022-04-29T00:00:00",
          "2022-03-31T00:00:00",
          "2022-02-28T00:00:00",
          "2022-01-31T00:00:00",
          "2021-12-31T00:00:00",
          "2021-11-30T00:00:00",
          "2021-10-29T00:00:00",
          "2021-09-30T00:00:00",
          "2021-08-31T00:00:00",
          "2021-07-30T00:00:00",
          "2021-06-30T00:00:00",
          "2021-05-28T00:00:00",
          "2021-04-30T00:00:00",
          "2021-03-31T00:00:00",
          "2021-02-26T00:00:00",
          "2021-01-29T00:00:00",
          "2020-12-31T00:00:00",
          "2020-11-30T00:00:00",
          "2020-10-30T00:00:00",
          "2020-09-30T00:00:00",
          "2020-08-31T00:00:00",
          "2020-07-31T00:00:00",
          "2020-06-30T00:00:00",
          "2020-05-29T00:00:00",
          "2020-04-30T00:00:00",
          "2020-03-31T00:00:00",
          "2020-02-28T00:00:00",
          "2020-01-31T00:00:00",
          "2019-12-31T00:00:00",
          "2019-11-29T00:00:00",
          "2019-10-31T00:00:00",
          "2019-09-30T00:00:00",
          "2019-08-30T00:00:00",
          "2019-07-31T00:00:00",
          "2019-06-28T00:00:00",
          "2019-05-31T00:00:00",
          "2019-04-30T00:00:00",
          "2019-03-29T00:00:00",
          "2019-02-28T00:00:00",
          "2019-01-31T00:00:00",
          "2018-12-31T00:00:00",
          "2018-11-30T00:00:00",
          "2018-10-31T00:00:00",
          "2018-09-28T00:00:00",
          "2018-08-31T00:00:00",
          "2018-07-31T00:00:00",
          "2018-06-29T00:00:00",
          "2018-05-31T00:00:00",
          "2018-04-30T00:00:00",
          "2018-03-29T00:00:00",
          "2018-02-28T00:00:00",
          "2018-01-31T00:00:00",
          "2017-12-29T00:00:00",
          "2017-11-30T00:00:00",
          "2017-10-31T00:00:00",
          "2017-09-29T00:00:00",
          "2017-08-31T00:00:00",
          "2017-07-31T00:00:00",
          "2017-06-30T00:00:00",
          "2017-05-31T00:00:00",
          "2017-04-28T00:00:00",
          "2017-03-31T00:00:00",
          "2017-02-28T00:00:00",
          "2017-01-31T00:00:00",
          "2016-12-30T00:00:00",
          "2016-11-30T00:00:00",
          "2016-10-31T00:00:00",
          "2016-09-30T00:00:00",
          "2016-08-31T00:00:00",
          "2016-07-29T00:00:00",
          "2016-06-30T00:00:00",
          "2016-05-31T00:00:00",
          "2016-04-29T00:00:00",
          "2016-03-31T00:00:00",
          "2016-02-29T00:00:00",
          "2016-01-29T00:00:00",
          "2015-12-31T00:00:00",
          "2015-11-30T00:00:00",
          "2015-10-30T00:00:00",
          "2015-09-30T00:00:00",
          "2015-08-31T00:00:00",
          "2015-07-31T00:00:00",
          "2015-06-30T00:00:00",
          "2015-05-29T00:00:00",
          "2015-04-30T00:00:00",
          "2015-03-31T00:00:00",
          "2015-02-27T00:00:00",
          "2015-01-30T00:00:00",
          "2014-12-31T00:00:00",
          "2014-11-28T00:00:00",
          "2014-10-31T00:00:00",
          "2014-09-30T00:00:00",
          "2014-08-29T00:00:00",
          "2014-07-31T00:00:00",
          "2014-06-30T00:00:00",
          "2014-05-30T00:00:00",
          "2014-04-30T00:00:00",
          "2014-03-31T00:00:00",
          "2014-02-28T00:00:00",
          "2014-01-31T00:00:00",
          "2013-12-31T00:00:00",
          "2013-11-29T00:00:00",
          "2013-10-31T00:00:00",
          "2013-09-30T00:00:00",
          "2013-08-30T00:00:00",
          "2013-07-31T00:00:00",
          "2013-06-28T00:00:00",
          "2013-05-31T00:00:00",
          "2013-04-30T00:00:00",
          "2013-03-28T00:00:00",
          "2013-02-28T00:00:00",
          "2013-01-31T00:00:00",
          "2012-12-31T00:00:00",
          "2012-11-30T00:00:00",
          "2012-10-31T00:00:00",
          "2012-09-28T00:00:00",
          "2012-08-31T00:00:00",
          "2012-07-31T00:00:00",
          "2012-06-29T00:00:00",
          "2012-05-31T00:00:00",
          "2012-04-30T00:00:00",
          "2012-03-30T00:00:00",
          "2012-02-29T00:00:00",
          "2012-01-31T00:00:00",
          "2011-12-30T00:00:00",
          "2011-11-30T00:00:00",
          "2011-10-31T00:00:00",
          "2011-09-30T00:00:00",
          "2011-08-31T00:00:00",
          "2011-07-29T00:00:00",
          "2011-06-30T00:00:00",
          "2011-05-31T00:00:00",
          "2011-04-29T00:00:00",
          "2011-03-31T00:00:00",
          "2011-02-28T00:00:00",
          "2011-01-31T00:00:00",
          "2010-12-31T00:00:00",
          "2010-11-30T00:00:00",
          "2010-10-29T00:00:00",
          "2010-09-30T00:00:00",
          "2010-08-31T00:00:00",
          "2010-07-30T00:00:00"
         ],
         "xaxis": "x",
         "y": [
          214.24,
          173.22,
          123.18,
          194.7,
          227.54,
          265.25,
          275.61,
          891.45,
          673.42,
          758.26,
          870.76,
          1077.6,
          870.43,
          936.72,
          1056.78,
          1144.76,
          1114,
          775.48,
          735.72,
          687.2,
          679.7,
          625.22,
          709.44,
          667.93,
          675.5,
          793.53,
          705.67,
          567.6,
          388.04,
          429.01,
          498.32,
          1430.76,
          1079.81,
          835,
          781.88,
          524,
          667.99,
          650.57,
          418.33,
          329.94,
          314.92,
          240.87,
          225.61,
          241.61,
          223.46,
          185.16,
          238.69,
          279.86,
          319.88,
          307.02,
          332.8,
          350.48,
          337.32,
          264.77,
          301.66,
          298.14,
          342.95,
          284.73,
          293.9,
          266.13,
          343.06,
          354.31,
          311.35,
          308.85,
          331.53,
          341.1,
          355.9,
          323.47,
          361.61,
          341.01,
          314.07,
          278.3,
          249.99,
          251.93,
          213.69,
          189.4,
          197.73,
          204.03,
          212.01,
          234.79,
          212.28,
          223.23,
          240.76,
          229.77,
          191.93,
          191.2,
          240.01,
          230.26,
          206.93,
          248.4,
          249.06,
          266.15,
          268.26,
          250.8,
          226.05,
          188.77,
          203.34,
          203.6,
          222.41,
          244.52,
          241.7,
          242.68,
          269.7,
          223.3,
          240.06,
          207.77,
          207.89,
          208.45,
          244.81,
          181.41,
          150.429,
          127.28,
          159.94,
          193.37,
          169,
          134.28,
          107.36,
          97.76,
          53.99,
          37.89,
          34.83,
          37.51,
          33.87,
          33.82,
          28.1314,
          29.28,
          28.52,
          27.42,
          31.29,
          29.5,
          33.13,
          37.24,
          33.41,
          29.07,
          28.56,
          32.74,
          29.37,
          24.39,
          24.74,
          28.17,
          29.13,
          30.14,
          27.6,
          27.75,
          23.89,
          24.1,
          26.63,
          35.33,
          21.84,
          20.405,
          19.48,
          19.94
         ],
         "yaxis": "y"
        }
       ],
       "layout": {
        "autosize": true,
        "legend": {
         "tracegroupgap": 0
        },
        "plot_bgcolor": "rgb(255, 255, 255)",
        "template": {
         "data": {
          "bar": [
           {
            "error_x": {
             "color": "#2a3f5f"
            },
            "error_y": {
             "color": "#2a3f5f"
            },
            "marker": {
             "line": {
              "color": "#E5ECF6",
              "width": 0.5
             },
             "pattern": {
              "fillmode": "overlay",
              "size": 10,
              "solidity": 0.2
             }
            },
            "type": "bar"
           }
          ],
          "barpolar": [
           {
            "marker": {
             "line": {
              "color": "#E5ECF6",
              "width": 0.5
             },
             "pattern": {
              "fillmode": "overlay",
              "size": 10,
              "solidity": 0.2
             }
            },
            "type": "barpolar"
           }
          ],
          "carpet": [
           {
            "aaxis": {
             "endlinecolor": "#2a3f5f",
             "gridcolor": "white",
             "linecolor": "white",
             "minorgridcolor": "white",
             "startlinecolor": "#2a3f5f"
            },
            "baxis": {
             "endlinecolor": "#2a3f5f",
             "gridcolor": "white",
             "linecolor": "white",
             "minorgridcolor": "white",
             "startlinecolor": "#2a3f5f"
            },
            "type": "carpet"
           }
          ],
          "choropleth": [
           {
            "colorbar": {
             "outlinewidth": 0,
             "ticks": ""
            },
            "type": "choropleth"
           }
          ],
          "contour": [
           {
            "colorbar": {
             "outlinewidth": 0,
             "ticks": ""
            },
            "colorscale": [
             [
              0,
              "#0d0887"
             ],
             [
              0.1111111111111111,
              "#46039f"
             ],
             [
              0.2222222222222222,
              "#7201a8"
             ],
             [
              0.3333333333333333,
              "#9c179e"
             ],
             [
              0.4444444444444444,
              "#bd3786"
             ],
             [
              0.5555555555555556,
              "#d8576b"
             ],
             [
              0.6666666666666666,
              "#ed7953"
             ],
             [
              0.7777777777777778,
              "#fb9f3a"
             ],
             [
              0.8888888888888888,
              "#fdca26"
             ],
             [
              1,
              "#f0f921"
             ]
            ],
            "type": "contour"
           }
          ],
          "contourcarpet": [
           {
            "colorbar": {
             "outlinewidth": 0,
             "ticks": ""
            },
            "type": "contourcarpet"
           }
          ],
          "heatmap": [
           {
            "colorbar": {
             "outlinewidth": 0,
             "ticks": ""
            },
            "colorscale": [
             [
              0,
              "#0d0887"
             ],
             [
              0.1111111111111111,
              "#46039f"
             ],
             [
              0.2222222222222222,
              "#7201a8"
             ],
             [
              0.3333333333333333,
              "#9c179e"
             ],
             [
              0.4444444444444444,
              "#bd3786"
             ],
             [
              0.5555555555555556,
              "#d8576b"
             ],
             [
              0.6666666666666666,
              "#ed7953"
             ],
             [
              0.7777777777777778,
              "#fb9f3a"
             ],
             [
              0.8888888888888888,
              "#fdca26"
             ],
             [
              1,
              "#f0f921"
             ]
            ],
            "type": "heatmap"
           }
          ],
          "heatmapgl": [
           {
            "colorbar": {
             "outlinewidth": 0,
             "ticks": ""
            },
            "colorscale": [
             [
              0,
              "#0d0887"
             ],
             [
              0.1111111111111111,
              "#46039f"
             ],
             [
              0.2222222222222222,
              "#7201a8"
             ],
             [
              0.3333333333333333,
              "#9c179e"
             ],
             [
              0.4444444444444444,
              "#bd3786"
             ],
             [
              0.5555555555555556,
              "#d8576b"
             ],
             [
              0.6666666666666666,
              "#ed7953"
             ],
             [
              0.7777777777777778,
              "#fb9f3a"
             ],
             [
              0.8888888888888888,
              "#fdca26"
             ],
             [
              1,
              "#f0f921"
             ]
            ],
            "type": "heatmapgl"
           }
          ],
          "histogram": [
           {
            "marker": {
             "pattern": {
              "fillmode": "overlay",
              "size": 10,
              "solidity": 0.2
             }
            },
            "type": "histogram"
           }
          ],
          "histogram2d": [
           {
            "colorbar": {
             "outlinewidth": 0,
             "ticks": ""
            },
            "colorscale": [
             [
              0,
              "#0d0887"
             ],
             [
              0.1111111111111111,
              "#46039f"
             ],
             [
              0.2222222222222222,
              "#7201a8"
             ],
             [
              0.3333333333333333,
              "#9c179e"
             ],
             [
              0.4444444444444444,
              "#bd3786"
             ],
             [
              0.5555555555555556,
              "#d8576b"
             ],
             [
              0.6666666666666666,
              "#ed7953"
             ],
             [
              0.7777777777777778,
              "#fb9f3a"
             ],
             [
              0.8888888888888888,
              "#fdca26"
             ],
             [
              1,
              "#f0f921"
             ]
            ],
            "type": "histogram2d"
           }
          ],
          "histogram2dcontour": [
           {
            "colorbar": {
             "outlinewidth": 0,
             "ticks": ""
            },
            "colorscale": [
             [
              0,
              "#0d0887"
             ],
             [
              0.1111111111111111,
              "#46039f"
             ],
             [
              0.2222222222222222,
              "#7201a8"
             ],
             [
              0.3333333333333333,
              "#9c179e"
             ],
             [
              0.4444444444444444,
              "#bd3786"
             ],
             [
              0.5555555555555556,
              "#d8576b"
             ],
             [
              0.6666666666666666,
              "#ed7953"
             ],
             [
              0.7777777777777778,
              "#fb9f3a"
             ],
             [
              0.8888888888888888,
              "#fdca26"
             ],
             [
              1,
              "#f0f921"
             ]
            ],
            "type": "histogram2dcontour"
           }
          ],
          "mesh3d": [
           {
            "colorbar": {
             "outlinewidth": 0,
             "ticks": ""
            },
            "type": "mesh3d"
           }
          ],
          "parcoords": [
           {
            "line": {
             "colorbar": {
              "outlinewidth": 0,
              "ticks": ""
             }
            },
            "type": "parcoords"
           }
          ],
          "pie": [
           {
            "automargin": true,
            "type": "pie"
           }
          ],
          "scatter": [
           {
            "fillpattern": {
             "fillmode": "overlay",
             "size": 10,
             "solidity": 0.2
            },
            "type": "scatter"
           }
          ],
          "scatter3d": [
           {
            "line": {
             "colorbar": {
              "outlinewidth": 0,
              "ticks": ""
             }
            },
            "marker": {
             "colorbar": {
              "outlinewidth": 0,
              "ticks": ""
             }
            },
            "type": "scatter3d"
           }
          ],
          "scattercarpet": [
           {
            "marker": {
             "colorbar": {
              "outlinewidth": 0,
              "ticks": ""
             }
            },
            "type": "scattercarpet"
           }
          ],
          "scattergeo": [
           {
            "marker": {
             "colorbar": {
              "outlinewidth": 0,
              "ticks": ""
             }
            },
            "type": "scattergeo"
           }
          ],
          "scattergl": [
           {
            "marker": {
             "colorbar": {
              "outlinewidth": 0,
              "ticks": ""
             }
            },
            "type": "scattergl"
           }
          ],
          "scattermapbox": [
           {
            "marker": {
             "colorbar": {
              "outlinewidth": 0,
              "ticks": ""
             }
            },
            "type": "scattermapbox"
           }
          ],
          "scatterpolar": [
           {
            "marker": {
             "colorbar": {
              "outlinewidth": 0,
              "ticks": ""
             }
            },
            "type": "scatterpolar"
           }
          ],
          "scatterpolargl": [
           {
            "marker": {
             "colorbar": {
              "outlinewidth": 0,
              "ticks": ""
             }
            },
            "type": "scatterpolargl"
           }
          ],
          "scatterternary": [
           {
            "marker": {
             "colorbar": {
              "outlinewidth": 0,
              "ticks": ""
             }
            },
            "type": "scatterternary"
           }
          ],
          "surface": [
           {
            "colorbar": {
             "outlinewidth": 0,
             "ticks": ""
            },
            "colorscale": [
             [
              0,
              "#0d0887"
             ],
             [
              0.1111111111111111,
              "#46039f"
             ],
             [
              0.2222222222222222,
              "#7201a8"
             ],
             [
              0.3333333333333333,
              "#9c179e"
             ],
             [
              0.4444444444444444,
              "#bd3786"
             ],
             [
              0.5555555555555556,
              "#d8576b"
             ],
             [
              0.6666666666666666,
              "#ed7953"
             ],
             [
              0.7777777777777778,
              "#fb9f3a"
             ],
             [
              0.8888888888888888,
              "#fdca26"
             ],
             [
              1,
              "#f0f921"
             ]
            ],
            "type": "surface"
           }
          ],
          "table": [
           {
            "cells": {
             "fill": {
              "color": "#EBF0F8"
             },
             "line": {
              "color": "white"
             }
            },
            "header": {
             "fill": {
              "color": "#C8D4E3"
             },
             "line": {
              "color": "white"
             }
            },
            "type": "table"
           }
          ]
         },
         "layout": {
          "annotationdefaults": {
           "arrowcolor": "#2a3f5f",
           "arrowhead": 0,
           "arrowwidth": 1
          },
          "autotypenumbers": "strict",
          "coloraxis": {
           "colorbar": {
            "outlinewidth": 0,
            "ticks": ""
           }
          },
          "colorscale": {
           "diverging": [
            [
             0,
             "#8e0152"
            ],
            [
             0.1,
             "#c51b7d"
            ],
            [
             0.2,
             "#de77ae"
            ],
            [
             0.3,
             "#f1b6da"
            ],
            [
             0.4,
             "#fde0ef"
            ],
            [
             0.5,
             "#f7f7f7"
            ],
            [
             0.6,
             "#e6f5d0"
            ],
            [
             0.7,
             "#b8e186"
            ],
            [
             0.8,
             "#7fbc41"
            ],
            [
             0.9,
             "#4d9221"
            ],
            [
             1,
             "#276419"
            ]
           ],
           "sequential": [
            [
             0,
             "#0d0887"
            ],
            [
             0.1111111111111111,
             "#46039f"
            ],
            [
             0.2222222222222222,
             "#7201a8"
            ],
            [
             0.3333333333333333,
             "#9c179e"
            ],
            [
             0.4444444444444444,
             "#bd3786"
            ],
            [
             0.5555555555555556,
             "#d8576b"
            ],
            [
             0.6666666666666666,
             "#ed7953"
            ],
            [
             0.7777777777777778,
             "#fb9f3a"
            ],
            [
             0.8888888888888888,
             "#fdca26"
            ],
            [
             1,
             "#f0f921"
            ]
           ],
           "sequentialminus": [
            [
             0,
             "#0d0887"
            ],
            [
             0.1111111111111111,
             "#46039f"
            ],
            [
             0.2222222222222222,
             "#7201a8"
            ],
            [
             0.3333333333333333,
             "#9c179e"
            ],
            [
             0.4444444444444444,
             "#bd3786"
            ],
            [
             0.5555555555555556,
             "#d8576b"
            ],
            [
             0.6666666666666666,
             "#ed7953"
            ],
            [
             0.7777777777777778,
             "#fb9f3a"
            ],
            [
             0.8888888888888888,
             "#fdca26"
            ],
            [
             1,
             "#f0f921"
            ]
           ]
          },
          "colorway": [
           "#636efa",
           "#EF553B",
           "#00cc96",
           "#ab63fa",
           "#FFA15A",
           "#19d3f3",
           "#FF6692",
           "#B6E880",
           "#FF97FF",
           "#FECB52"
          ],
          "font": {
           "color": "#2a3f5f"
          },
          "geo": {
           "bgcolor": "white",
           "lakecolor": "white",
           "landcolor": "#E5ECF6",
           "showlakes": true,
           "showland": true,
           "subunitcolor": "white"
          },
          "hoverlabel": {
           "align": "left"
          },
          "hovermode": "closest",
          "mapbox": {
           "style": "light"
          },
          "paper_bgcolor": "white",
          "plot_bgcolor": "#E5ECF6",
          "polar": {
           "angularaxis": {
            "gridcolor": "white",
            "linecolor": "white",
            "ticks": ""
           },
           "bgcolor": "#E5ECF6",
           "radialaxis": {
            "gridcolor": "white",
            "linecolor": "white",
            "ticks": ""
           }
          },
          "scene": {
           "xaxis": {
            "backgroundcolor": "#E5ECF6",
            "gridcolor": "white",
            "gridwidth": 2,
            "linecolor": "white",
            "showbackground": true,
            "ticks": "",
            "zerolinecolor": "white"
           },
           "yaxis": {
            "backgroundcolor": "#E5ECF6",
            "gridcolor": "white",
            "gridwidth": 2,
            "linecolor": "white",
            "showbackground": true,
            "ticks": "",
            "zerolinecolor": "white"
           },
           "zaxis": {
            "backgroundcolor": "#E5ECF6",
            "gridcolor": "white",
            "gridwidth": 2,
            "linecolor": "white",
            "showbackground": true,
            "ticks": "",
            "zerolinecolor": "white"
           }
          },
          "shapedefaults": {
           "line": {
            "color": "#2a3f5f"
           }
          },
          "ternary": {
           "aaxis": {
            "gridcolor": "white",
            "linecolor": "white",
            "ticks": ""
           },
           "baxis": {
            "gridcolor": "white",
            "linecolor": "white",
            "ticks": ""
           },
           "bgcolor": "#E5ECF6",
           "caxis": {
            "gridcolor": "white",
            "linecolor": "white",
            "ticks": ""
           }
          },
          "title": {
           "x": 0.05
          },
          "xaxis": {
           "automargin": true,
           "gridcolor": "white",
           "linecolor": "white",
           "ticks": "",
           "title": {
            "standoff": 15
           },
           "zerolinecolor": "white",
           "zerolinewidth": 2
          },
          "yaxis": {
           "automargin": true,
           "gridcolor": "white",
           "linecolor": "white",
           "ticks": "",
           "title": {
            "standoff": 15
           },
           "zerolinecolor": "white",
           "zerolinewidth": 2
          }
         }
        },
        "title": {
         "text": "Stock Price"
        },
        "xaxis": {
         "anchor": "y",
         "autorange": true,
         "domain": [
          0,
          1
         ],
         "gridcolor": "lightgray",
         "range": [
          "2010-07-30",
          "2023-02-15"
         ],
         "showgrid": false,
         "title": {
          "text": "x"
         },
         "type": "date"
        },
        "yaxis": {
         "anchor": "x",
         "autorange": true,
         "domain": [
          0,
          1
         ],
         "gridcolor": "lightgray",
         "range": [
          -58.92444444444445,
          1509.1644444444444
         ],
         "tickformat": "$",
         "title": {
          "text": "Price"
         },
         "type": "linear"
        }
       }
      },
      "image/png": "[encoded data removed]",
      "text/html": [
       "<div>                            <div id=\"b128a7ac-a46f-451b-8069-24783feefd7a\" class=\"plotly-graph-div\" style=\"height:525px; width:100%;\"></div>            <script type=\"text/javascript\">                require([\"plotly\"], function(Plotly) {                    window.PLOTLYENV=window.PLOTLYENV || {};                                    if (document.getElementById(\"b128a7ac-a46f-451b-8069-24783feefd7a\")) {                    Plotly.newPlot(                        \"b128a7ac-a46f-451b-8069-24783feefd7a\",                        [{\"hovertemplate\":\"x=%{x}<br>y=%{y}<extra></extra>\",\"legendgroup\":\"\",\"line\":{\"color\":\"#636efa\",\"dash\":\"solid\"},\"marker\":{\"symbol\":\"circle\"},\"mode\":\"lines\",\"name\":\"\",\"orientation\":\"v\",\"showlegend\":false,\"x\":[\"2023-02-15T00:00:00\",\"2023-01-31T00:00:00\",\"2022-12-30T00:00:00\",\"2022-11-30T00:00:00\",\"2022-10-31T00:00:00\",\"2022-09-30T00:00:00\",\"2022-08-31T00:00:00\",\"2022-07-29T00:00:00\",\"2022-06-30T00:00:00\",\"2022-05-31T00:00:00\",\"2022-04-29T00:00:00\",\"2022-03-31T00:00:00\",\"2022-02-28T00:00:00\",\"2022-01-31T00:00:00\",\"2021-12-31T00:00:00\",\"2021-11-30T00:00:00\",\"2021-10-29T00:00:00\",\"2021-09-30T00:00:00\",\"2021-08-31T00:00:00\",\"2021-07-30T00:00:00\",\"2021-06-30T00:00:00\",\"2021-05-28T00:00:00\",\"2021-04-30T00:00:00\",\"2021-03-31T00:00:00\",\"2021-02-26T00:00:00\",\"2021-01-29T00:00:00\",\"2020-12-31T00:00:00\",\"2020-11-30T00:00:00\",\"2020-10-30T00:00:00\",\"2020-09-30T00:00:00\",\"2020-08-31T00:00:00\",\"2020-07-31T00:00:00\",\"2020-06-30T00:00:00\",\"2020-05-29T00:00:00\",\"2020-04-30T00:00:00\",\"2020-03-31T00:00:00\",\"2020-02-28T00:00:00\",\"2020-01-31T00:00:00\",\"2019-12-31T00:00:00\",\"2019-11-29T00:00:00\",\"2019-10-31T00:00:00\",\"2019-09-30T00:00:00\",\"2019-08-30T00:00:00\",\"2019-07-31T00:00:00\",\"2019-06-28T00:00:00\",\"2019-05-31T00:00:00\",\"2019-04-30T00:00:00\",\"2019-03-29T00:00:00\",\"2019-02-28T00:00:00\",\"2019-01-31T00:00:00\",\"2018-12-31T00:00:00\",\"2018-11-30T00:00:00\",\"2018-10-31T00:00:00\",\"2018-09-28T00:00:00\",\"2018-08-31T00:00:00\",\"2018-07-31T00:00:00\",\"2018-06-29T00:00:00\",\"2018-05-31T00:00:00\",\"2018-04-30T00:00:00\",\"2018-03-29T00:00:00\",\"2018-02-28T00:00:00\",\"2018-01-31T00:00:00\",\"2017-12-29T00:00:00\",\"2017-11-30T00:00:00\",\"2017-10-31T00:00:00\",\"2017-09-29T00:00:00\",\"2017-08-31T00:00:00\",\"2017-07-31T00:00:00\",\"2017-06-30T00:00:00\",\"2017-05-31T00:00:00\",\"2017-04-28T00:00:00\",\"2017-03-31T00:00:00\",\"2017-02-28T00:00:00\",\"2017-01-31T00:00:00\",\"2016-12-30T00:00:00\",\"2016-11-30T00:00:00\",\"2016-10-31T00:00:00\",\"2016-09-30T00:00:00\",\"2016-08-31T00:00:00\",\"2016-07-29T00:00:00\",\"2016-06-30T00:00:00\",\"2016-05-31T00:00:00\",\"2016-04-29T00:00:00\",\"2016-03-31T00:00:00\",\"2016-02-29T00:00:00\",\"2016-01-29T00:00:00\",\"2015-12-31T00:00:00\",\"2015-11-30T00:00:00\",\"2015-10-30T00:00:00\",\"2015-09-30T00:00:00\",\"2015-08-31T00:00:00\",\"2015-07-31T00:00:00\",\"2015-06-30T00:00:00\",\"2015-05-29T00:00:00\",\"2015-04-30T00:00:00\",\"2015-03-31T00:00:00\",\"2015-02-27T00:00:00\",\"2015-01-30T00:00:00\",\"2014-12-31T00:00:00\",\"2014-11-28T00:00:00\",\"2014-10-31T00:00:00\",\"2014-09-30T00:00:00\",\"2014-08-29T00:00:00\",\"2014-07-31T00:00:00\",\"2014-06-30T00:00:00\",\"2014-05-30T00:00:00\",\"2014-04-30T00:00:00\",\"2014-03-31T00:00:00\",\"2014-02-28T00:00:00\",\"2014-01-31T00:00:00\",\"2013-12-31T00:00:00\",\"2013-11-29T00:00:00\",\"2013-10-31T00:00:00\",\"2013-09-30T00:00:00\",\"2013-08-30T00:00:00\",\"2013-07-31T00:00:00\",\"2013-06-28T00:00:00\",\"2013-05-31T00:00:00\",\"2013-04-30T00:00:00\",\"2013-03-28T00:00:00\",\"2013-02-28T00:00:00\",\"2013-01-31T00:00:00\",\"2012-12-31T00:00:00\",\"2012-11-30T00:00:00\",\"2012-10-31T00:00:00\",\"2012-09-28T00:00:00\",\"2012-08-31T00:00:00\",\"2012-07-31T00:00:00\",\"2012-06-29T00:00:00\",\"2012-05-31T00:00:00\",\"2012-04-30T00:00:00\",\"2012-03-30T00:00:00\",\"2012-02-29T00:00:00\",\"2012-01-31T00:00:00\",\"2011-12-30T00:00:00\",\"2011-11-30T00:00:00\",\"2011-10-31T00:00:00\",\"2011-09-30T00:00:00\",\"2011-08-31T00:00:00\",\"2011-07-29T00:00:00\",\"2011-06-30T00:00:00\",\"2011-05-31T00:00:00\",\"2011-04-29T00:00:00\",\"2011-03-31T00:00:00\",\"2011-02-28T00:00:00\",\"2011-01-31T00:00:00\",\"2010-12-31T00:00:00\",\"2010-11-30T00:00:00\",\"2010-10-29T00:00:00\",\"2010-09-30T00:00:00\",\"2010-08-31T00:00:00\",\"2010-07-30T00:00:00\"],\"xaxis\":\"x\",\"y\":[214.24,173.22,123.18,194.7,227.54,265.25,275.61,891.45,673.42,758.26,870.76,1077.6,870.43,936.72,1056.78,1144.76,1114.0,775.48,735.72,687.2,679.7,625.22,709.44,667.93,675.5,793.53,705.67,567.6,388.04,429.01,498.32,1430.76,1079.81,835.0,781.88,524.0,667.99,650.57,418.33,329.94,314.92,240.87,225.61,241.61,223.46,185.16,238.69,279.86,319.88,307.02,332.8,350.48,337.32,264.77,301.66,298.14,342.95,284.73,293.9,266.13,343.06,354.31,311.35,308.85,331.53,341.1,355.9,323.47,361.61,341.01,314.07,278.3,249.99,251.93,213.69,189.4,197.73,204.03,212.01,234.79,212.28,223.23,240.76,229.77,191.93,191.2,240.01,230.26,206.93,248.4,249.06,266.15,268.26,250.8,226.05,188.77,203.34,203.6,222.41,244.52,241.7,242.68,269.7,223.3,240.06,207.77,207.89,208.45,244.81,181.41,150.429,127.28,159.94,193.37,169.0,134.28,107.36,97.76,53.99,37.89,34.83,37.51,33.87,33.82,28.1314,29.28,28.52,27.42,31.29,29.5,33.13,37.24,33.41,29.07,28.56,32.74,29.37,24.39,24.74,28.17,29.13,30.14,27.6,27.75,23.89,24.1,26.63,35.33,21.84,20.405,19.48,19.94],\"yaxis\":\"y\",\"type\":\"scatter\"}],                        {\"template\":{\"data\":{\"histogram2dcontour\":[{\"type\":\"histogram2dcontour\",\"colorbar\":{\"outlinewidth\":0,\"ticks\":\"\"},\"colorscale\":[[0.0,\"#0d0887\"],[0.1111111111111111,\"#46039f\"],[0.2222222222222222,\"#7201a8\"],[0.3333333333333333,\"#9c179e\"],[0.4444444444444444,\"#bd3786\"],[0.5555555555555556,\"#d8576b\"],[0.6666666666666666,\"#ed7953\"],[0.7777777777777778,\"#fb9f3a\"],[0.8888888888888888,\"#fdca26\"],[1.0,\"#f0f921\"]]}],\"choropleth\":[{\"type\":\"choropleth\",\"colorbar\":{\"outlinewidth\":0,\"ticks\":\"\"}}],\"histogram2d\":[{\"type\":\"histogram2d\",\"colorbar\":{\"outlinewidth\":0,\"ticks\":\"\"},\"colorscale\":[[0.0,\"#0d0887\"],[0.1111111111111111,\"#46039f\"],[0.2222222222222222,\"#7201a8\"],[0.3333333333333333,\"#9c179e\"],[0.4444444444444444,\"#bd3786\"],[0.5555555555555556,\"#d8576b\"],[0.6666666666666666,\"#ed7953\"],[0.7777777777777778,\"#fb9f3a\"],[0.8888888888888888,\"#fdca26\"],[1.0,\"#f0f921\"]]}],\"heatmap\":[{\"type\":\"heatmap\",\"colorbar\":{\"outlinewidth\":0,\"ticks\":\"\"},\"colorscale\":[[0.0,\"#0d0887\"],[0.1111111111111111,\"#46039f\"],[0.2222222222222222,\"#7201a8\"],[0.3333333333333333,\"#9c179e\"],[0.4444444444444444,\"#bd3786\"],[0.5555555555555556,\"#d8576b\"],[0.6666666666666666,\"#ed7953\"],[0.7777777777777778,\"#fb9f3a\"],[0.8888888888888888,\"#fdca26\"],[1.0,\"#f0f921\"]]}],\"heatmapgl\":[{\"type\":\"heatmapgl\",\"colorbar\":{\"outlinewidth\":0,\"ticks\":\"\"},\"colorscale\":[[0.0,\"#0d0887\"],[0.1111111111111111,\"#46039f\"],[0.2222222222222222,\"#7201a8\"],[0.3333333333333333,\"#9c179e\"],[0.4444444444444444,\"#bd3786\"],[0.5555555555555556,\"#d8576b\"],[0.6666666666666666,\"#ed7953\"],[0.7777777777777778,\"#fb9f3a\"],[0.8888888888888888,\"#fdca26\"],[1.0,\"#f0f921\"]]}],\"contourcarpet\":[{\"type\":\"contourcarpet\",\"colorbar\":{\"outlinewidth\":0,\"ticks\":\"\"}}],\"contour\":[{\"type\":\"contour\",\"colorbar\":{\"outlinewidth\":0,\"ticks\":\"\"},\"colorscale\":[[0.0,\"#0d0887\"],[0.1111111111111111,\"#46039f\"],[0.2222222222222222,\"#7201a8\"],[0.3333333333333333,\"#9c179e\"],[0.4444444444444444,\"#bd3786\"],[0.5555555555555556,\"#d8576b\"],[0.6666666666666666,\"#ed7953\"],[0.7777777777777778,\"#fb9f3a\"],[0.8888888888888888,\"#fdca26\"],[1.0,\"#f0f921\"]]}],\"surface\":[{\"type\":\"surface\",\"colorbar\":{\"outlinewidth\":0,\"ticks\":\"\"},\"colorscale\":[[0.0,\"#0d0887\"],[0.1111111111111111,\"#46039f\"],[0.2222222222222222,\"#7201a8\"],[0.3333333333333333,\"#9c179e\"],[0.4444444444444444,\"#bd3786\"],[0.5555555555555556,\"#d8576b\"],[0.6666666666666666,\"#ed7953\"],[0.7777777777777778,\"#fb9f3a\"],[0.8888888888888888,\"#fdca26\"],[1.0,\"#f0f921\"]]}],\"mesh3d\":[{\"type\":\"mesh3d\",\"colorbar\":{\"outlinewidth\":0,\"ticks\":\"\"}}],\"scatter\":[{\"fillpattern\":{\"fillmode\":\"overlay\",\"size\":10,\"solidity\":0.2},\"type\":\"scatter\"}],\"parcoords\":[{\"type\":\"parcoords\",\"line\":{\"colorbar\":{\"outlinewidth\":0,\"ticks\":\"\"}}}],\"scatterpolargl\":[{\"type\":\"scatterpolargl\",\"marker\":{\"colorbar\":{\"outlinewidth\":0,\"ticks\":\"\"}}}],\"bar\":[{\"error_x\":{\"color\":\"#2a3f5f\"},\"error_y\":{\"color\":\"#2a3f5f\"},\"marker\":{\"line\":{\"color\":\"#E5ECF6\",\"width\":0.5},\"pattern\":{\"fillmode\":\"overlay\",\"size\":10,\"solidity\":0.2}},\"type\":\"bar\"}],\"scattergeo\":[{\"type\":\"scattergeo\",\"marker\":{\"colorbar\":{\"outlinewidth\":0,\"ticks\":\"\"}}}],\"scatterpolar\":[{\"type\":\"scatterpolar\",\"marker\":{\"colorbar\":{\"outlinewidth\":0,\"ticks\":\"\"}}}],\"histogram\":[{\"marker\":{\"pattern\":{\"fillmode\":\"overlay\",\"size\":10,\"solidity\":0.2}},\"type\":\"histogram\"}],\"scattergl\":[{\"type\":\"scattergl\",\"marker\":{\"colorbar\":{\"outlinewidth\":0,\"ticks\":\"\"}}}],\"scatter3d\":[{\"type\":\"scatter3d\",\"line\":{\"colorbar\":{\"outlinewidth\":0,\"ticks\":\"\"}},\"marker\":{\"colorbar\":{\"outlinewidth\":0,\"ticks\":\"\"}}}],\"scattermapbox\":[{\"type\":\"scattermapbox\",\"marker\":{\"colorbar\":{\"outlinewidth\":0,\"ticks\":\"\"}}}],\"scatterternary\":[{\"type\":\"scatterternary\",\"marker\":{\"colorbar\":{\"outlinewidth\":0,\"ticks\":\"\"}}}],\"scattercarpet\":[{\"type\":\"scattercarpet\",\"marker\":{\"colorbar\":{\"outlinewidth\":0,\"ticks\":\"\"}}}],\"carpet\":[{\"aaxis\":{\"endlinecolor\":\"#2a3f5f\",\"gridcolor\":\"white\",\"linecolor\":\"white\",\"minorgridcolor\":\"white\",\"startlinecolor\":\"#2a3f5f\"},\"baxis\":{\"endlinecolor\":\"#2a3f5f\",\"gridcolor\":\"white\",\"linecolor\":\"white\",\"minorgridcolor\":\"white\",\"startlinecolor\":\"#2a3f5f\"},\"type\":\"carpet\"}],\"table\":[{\"cells\":{\"fill\":{\"color\":\"#EBF0F8\"},\"line\":{\"color\":\"white\"}},\"header\":{\"fill\":{\"color\":\"#C8D4E3\"},\"line\":{\"color\":\"white\"}},\"type\":\"table\"}],\"barpolar\":[{\"marker\":{\"line\":{\"color\":\"#E5ECF6\",\"width\":0.5},\"pattern\":{\"fillmode\":\"overlay\",\"size\":10,\"solidity\":0.2}},\"type\":\"barpolar\"}],\"pie\":[{\"automargin\":true,\"type\":\"pie\"}]},\"layout\":{\"autotypenumbers\":\"strict\",\"colorway\":[\"#636efa\",\"#EF553B\",\"#00cc96\",\"#ab63fa\",\"#FFA15A\",\"#19d3f3\",\"#FF6692\",\"#B6E880\",\"#FF97FF\",\"#FECB52\"],\"font\":{\"color\":\"#2a3f5f\"},\"hovermode\":\"closest\",\"hoverlabel\":{\"align\":\"left\"},\"paper_bgcolor\":\"white\",\"plot_bgcolor\":\"#E5ECF6\",\"polar\":{\"bgcolor\":\"#E5ECF6\",\"angularaxis\":{\"gridcolor\":\"white\",\"linecolor\":\"white\",\"ticks\":\"\"},\"radialaxis\":{\"gridcolor\":\"white\",\"linecolor\":\"white\",\"ticks\":\"\"}},\"ternary\":{\"bgcolor\":\"#E5ECF6\",\"aaxis\":{\"gridcolor\":\"white\",\"linecolor\":\"white\",\"ticks\":\"\"},\"baxis\":{\"gridcolor\":\"white\",\"linecolor\":\"white\",\"ticks\":\"\"},\"caxis\":{\"gridcolor\":\"white\",\"linecolor\":\"white\",\"ticks\":\"\"}},\"coloraxis\":{\"colorbar\":{\"outlinewidth\":0,\"ticks\":\"\"}},\"colorscale\":{\"sequential\":[[0.0,\"#0d0887\"],[0.1111111111111111,\"#46039f\"],[0.2222222222222222,\"#7201a8\"],[0.3333333333333333,\"#9c179e\"],[0.4444444444444444,\"#bd3786\"],[0.5555555555555556,\"#d8576b\"],[0.6666666666666666,\"#ed7953\"],[0.7777777777777778,\"#fb9f3a\"],[0.8888888888888888,\"#fdca26\"],[1.0,\"#f0f921\"]],\"sequentialminus\":[[0.0,\"#0d0887\"],[0.1111111111111111,\"#46039f\"],[0.2222222222222222,\"#7201a8\"],[0.3333333333333333,\"#9c179e\"],[0.4444444444444444,\"#bd3786\"],[0.5555555555555556,\"#d8576b\"],[0.6666666666666666,\"#ed7953\"],[0.7777777777777778,\"#fb9f3a\"],[0.8888888888888888,\"#fdca26\"],[1.0,\"#f0f921\"]],\"diverging\":[[0,\"#8e0152\"],[0.1,\"#c51b7d\"],[0.2,\"#de77ae\"],[0.3,\"#f1b6da\"],[0.4,\"#fde0ef\"],[0.5,\"#f7f7f7\"],[0.6,\"#e6f5d0\"],[0.7,\"#b8e186\"],[0.8,\"#7fbc41\"],[0.9,\"#4d9221\"],[1,\"#276419\"]]},\"xaxis\":{\"gridcolor\":\"white\",\"linecolor\":\"white\",\"ticks\":\"\",\"title\":{\"standoff\":15},\"zerolinecolor\":\"white\",\"automargin\":true,\"zerolinewidth\":2},\"yaxis\":{\"gridcolor\":\"white\",\"linecolor\":\"white\",\"ticks\":\"\",\"title\":{\"standoff\":15},\"zerolinecolor\":\"white\",\"automargin\":true,\"zerolinewidth\":2},\"scene\":{\"xaxis\":{\"backgroundcolor\":\"#E5ECF6\",\"gridcolor\":\"white\",\"linecolor\":\"white\",\"showbackground\":true,\"ticks\":\"\",\"zerolinecolor\":\"white\",\"gridwidth\":2},\"yaxis\":{\"backgroundcolor\":\"#E5ECF6\",\"gridcolor\":\"white\",\"linecolor\":\"white\",\"showbackground\":true,\"ticks\":\"\",\"zerolinecolor\":\"white\",\"gridwidth\":2},\"zaxis\":{\"backgroundcolor\":\"#E5ECF6\",\"gridcolor\":\"white\",\"linecolor\":\"white\",\"showbackground\":true,\"ticks\":\"\",\"zerolinecolor\":\"white\",\"gridwidth\":2}},\"shapedefaults\":{\"line\":{\"color\":\"#2a3f5f\"}},\"annotationdefaults\":{\"arrowcolor\":\"#2a3f5f\",\"arrowhead\":0,\"arrowwidth\":1},\"geo\":{\"bgcolor\":\"white\",\"landcolor\":\"#E5ECF6\",\"subunitcolor\":\"white\",\"showland\":true,\"showlakes\":true,\"lakecolor\":\"white\"},\"title\":{\"x\":0.05},\"mapbox\":{\"style\":\"light\"}}},\"xaxis\":{\"anchor\":\"y\",\"domain\":[0.0,1.0],\"title\":{\"text\":\"x\"},\"showgrid\":false,\"gridcolor\":\"lightgray\"},\"yaxis\":{\"anchor\":\"x\",\"domain\":[0.0,1.0],\"title\":{\"text\":\"Price\"},\"tickformat\":\"$\",\"gridcolor\":\"lightgray\"},\"legend\":{\"tracegroupgap\":0},\"title\":{\"text\":\"Stock Price\"},\"plot_bgcolor\":\"rgb(255, 255, 255)\"},                        {\"responsive\": true}                    ).then(function(){\n",
       "                            \n",
       "var gd = document.getElementById('b128a7ac-a46f-451b-8069-24783feefd7a');\n",
       "var x = new MutationObserver(function (mutations, observer) {{\n",
       "        var display = window.getComputedStyle(gd).display;\n",
       "        if (!display || display === 'none') {{\n",
       "            console.log([gd, 'removed!']);\n",
       "            Plotly.purge(gd);\n",
       "            observer.disconnect();\n",
       "        }}\n",
       "}});\n",
       "\n",
       "// Listen for the removal of the full notebook cells\n",
       "var notebookContainer = gd.closest('#notebook-container');\n",
       "if (notebookContainer) {{\n",
       "    x.observe(notebookContainer, {childList: true});\n",
       "}}\n",
       "\n",
       "// Listen for the clearing of the current output cell\n",
       "var outputEl = gd.closest('.output');\n",
       "if (outputEl) {{\n",
       "    x.observe(outputEl, {childList: true});\n",
       "}}\n",
       "\n",
       "                        })                };                });            </script>        </div>"
      ]
     },
     "metadata": {},
     "output_type": "display_data"
    },
    {
     "data": {
      "application/vnd.plotly.v1+json": {
       "config": {
        "plotlyServerURL": "https://plot.ly"
       },
       "data": [
        {
         "hovertemplate": "x=%{x}<br>y=%{y}<br>size=%{marker.size}<extra></extra>",
         "legendgroup": "",
         "marker": {
          "color": "#636efa",
          "size": [
           0,
           76.52,
           24.46,
           35.96,
           7.95,
           25.17,
           43.45,
           20.78,
           15.31,
           3.22,
           22.39,
           14.15,
           19.42,
           37.75,
           20.08,
           26.74,
           18.2,
           26.23,
           2.13,
           17.25,
           16.04,
           20.31,
           8.54,
           38.75,
           44.89,
           36.01,
           69.32,
           34.63,
           6.75,
           108.29,
           76.77,
           6.27,
           32.34,
           6.59,
           39.88,
           10.31,
           12.5,
           13.91,
           49.12,
           23.87,
           48.75,
           41.85,
           1.81,
           48.69,
           7.82,
           31.46,
           18.34,
           7.35,
           39.87,
           36.65,
           16.63,
           9.17,
           115.28,
           31.53,
           41.46,
           37.86,
           23.83,
           27.1,
           22.35,
           17.86,
           31.84,
           15.34,
           11.27,
           34.52,
           17.18,
           8.97,
           19.88,
           35.85,
           2.02,
           20.87,
           20.07,
           7.91,
           11.67,
           15.77,
           12.6,
           12.38,
           6.83,
           23.32,
           11.82,
           18.91,
           64.29,
           15.1,
           31.16,
           24.19,
           30.15,
           40.73,
           24.47,
           31.14,
           28.5,
           20.46,
           41.94,
           29.68,
           18.22,
           36.13,
           11.01,
           24.3,
           13.23,
           15.55,
           41.03,
           15.24,
           41.23,
           12.73,
           13.6,
           5.96,
           14.25,
           9.39,
           22.55,
           0.89,
           35.56,
           18.6,
           7.45,
           56.04,
           16.19,
           33.76,
           51.43,
           11.47,
           21.96,
           84.92,
           75.38,
           63.63,
           49.24,
           35.68,
           23.71,
           9.43,
           25.84,
           88.95,
           26.47,
           32.93,
           19.72,
           30.84,
           33.44,
           2.59,
           4.65,
           10.42,
           17.5,
           22.33,
           16.19,
           16.81,
           51.02,
           22.46,
           88.26,
           23.61,
           1.5,
           8.93,
           10.01,
           3.01,
           29.81,
           23.25,
           76.88,
           175.6,
           16.67,
           329.41
          ],
          "sizemode": "area",
          "sizeref": 0.8235250000000001,
          "symbol": "circle"
         },
         "mode": "markers",
         "name": "",
         "orientation": "v",
         "showlegend": false,
         "type": "scatter",
         "x": [
          "2023-02-15T00:00:00",
          "2023-01-31T00:00:00",
          "2022-12-30T00:00:00",
          "2022-11-30T00:00:00",
          "2022-10-31T00:00:00",
          "2022-09-30T00:00:00",
          "2022-08-31T00:00:00",
          "2022-07-29T00:00:00",
          "2022-06-30T00:00:00",
          "2022-05-31T00:00:00",
          "2022-04-29T00:00:00",
          "2022-03-31T00:00:00",
          "2022-02-28T00:00:00",
          "2022-01-31T00:00:00",
          "2021-12-31T00:00:00",
          "2021-11-30T00:00:00",
          "2021-10-29T00:00:00",
          "2021-09-30T00:00:00",
          "2021-08-31T00:00:00",
          "2021-07-30T00:00:00",
          "2021-06-30T00:00:00",
          "2021-05-28T00:00:00",
          "2021-04-30T00:00:00",
          "2021-03-31T00:00:00",
          "2021-02-26T00:00:00",
          "2021-01-29T00:00:00",
          "2020-12-31T00:00:00",
          "2020-11-30T00:00:00",
          "2020-10-30T00:00:00",
          "2020-09-30T00:00:00",
          "2020-08-31T00:00:00",
          "2020-07-31T00:00:00",
          "2020-06-30T00:00:00",
          "2020-05-29T00:00:00",
          "2020-04-30T00:00:00",
          "2020-03-31T00:00:00",
          "2020-02-28T00:00:00",
          "2020-01-31T00:00:00",
          "2019-12-31T00:00:00",
          "2019-11-29T00:00:00",
          "2019-10-31T00:00:00",
          "2019-09-30T00:00:00",
          "2019-08-30T00:00:00",
          "2019-07-31T00:00:00",
          "2019-06-28T00:00:00",
          "2019-05-31T00:00:00",
          "2019-04-30T00:00:00",
          "2019-03-29T00:00:00",
          "2019-02-28T00:00:00",
          "2019-01-31T00:00:00",
          "2018-12-31T00:00:00",
          "2018-11-30T00:00:00",
          "2018-10-31T00:00:00",
          "2018-09-28T00:00:00",
          "2018-08-31T00:00:00",
          "2018-07-31T00:00:00",
          "2018-06-29T00:00:00",
          "2018-05-31T00:00:00",
          "2018-04-30T00:00:00",
          "2018-03-29T00:00:00",
          "2018-02-28T00:00:00",
          "2018-01-31T00:00:00",
          "2017-12-29T00:00:00",
          "2017-11-30T00:00:00",
          "2017-10-31T00:00:00",
          "2017-09-29T00:00:00",
          "2017-08-31T00:00:00",
          "2017-07-31T00:00:00",
          "2017-06-30T00:00:00",
          "2017-05-31T00:00:00",
          "2017-04-28T00:00:00",
          "2017-03-31T00:00:00",
          "2017-02-28T00:00:00",
          "2017-01-31T00:00:00",
          "2016-12-30T00:00:00",
          "2016-11-30T00:00:00",
          "2016-10-31T00:00:00",
          "2016-09-30T00:00:00",
          "2016-08-31T00:00:00",
          "2016-07-29T00:00:00",
          "2016-06-30T00:00:00",
          "2016-05-31T00:00:00",
          "2016-04-29T00:00:00",
          "2016-03-31T00:00:00",
          "2016-02-29T00:00:00",
          "2016-01-29T00:00:00",
          "2015-12-31T00:00:00",
          "2015-11-30T00:00:00",
          "2015-10-30T00:00:00",
          "2015-09-30T00:00:00",
          "2015-08-31T00:00:00",
          "2015-07-31T00:00:00",
          "2015-06-30T00:00:00",
          "2015-05-29T00:00:00",
          "2015-04-30T00:00:00",
          "2015-03-31T00:00:00",
          "2015-02-27T00:00:00",
          "2015-01-30T00:00:00",
          "2014-12-31T00:00:00",
          "2014-11-28T00:00:00",
          "2014-10-31T00:00:00",
          "2014-09-30T00:00:00",
          "2014-08-29T00:00:00",
          "2014-07-31T00:00:00",
          "2014-06-30T00:00:00",
          "2014-05-30T00:00:00",
          "2014-04-30T00:00:00",
          "2014-03-31T00:00:00",
          "2014-02-28T00:00:00",
          "2014-01-31T00:00:00",
          "2013-12-31T00:00:00",
          "2013-11-29T00:00:00",
          "2013-10-31T00:00:00",
          "2013-09-30T00:00:00",
          "2013-08-30T00:00:00",
          "2013-07-31T00:00:00",
          "2013-06-28T00:00:00",
          "2013-05-31T00:00:00",
          "2013-04-30T00:00:00",
          "2013-03-28T00:00:00",
          "2013-02-28T00:00:00",
          "2013-01-31T00:00:00",
          "2012-12-31T00:00:00",
          "2012-11-30T00:00:00",
          "2012-10-31T00:00:00",
          "2012-09-28T00:00:00",
          "2012-08-31T00:00:00",
          "2012-07-31T00:00:00",
          "2012-06-29T00:00:00",
          "2012-05-31T00:00:00",
          "2012-04-30T00:00:00",
          "2012-03-30T00:00:00",
          "2012-02-29T00:00:00",
          "2012-01-31T00:00:00",
          "2011-12-30T00:00:00",
          "2011-11-30T00:00:00",
          "2011-10-31T00:00:00",
          "2011-09-30T00:00:00",
          "2011-08-31T00:00:00",
          "2011-07-29T00:00:00",
          "2011-06-30T00:00:00",
          "2011-05-31T00:00:00",
          "2011-04-29T00:00:00",
          "2011-03-31T00:00:00",
          "2011-02-28T00:00:00",
          "2011-01-31T00:00:00",
          "2010-12-31T00:00:00",
          "2010-11-30T00:00:00",
          "2010-10-29T00:00:00",
          "2010-09-30T00:00:00",
          "2010-08-31T00:00:00",
          "2010-07-30T00:00:00"
         ],
         "xaxis": "x",
         "y": [
          0,
          76.52,
          -24.46,
          -35.96,
          -7.95,
          -25.17,
          -43.45,
          -20.78,
          15.31,
          -3.22,
          -22.39,
          14.15,
          -19.42,
          37.75,
          -20.08,
          26.74,
          -18.2,
          -26.23,
          -2.13,
          17.25,
          16.04,
          20.31,
          8.54,
          38.75,
          -44.89,
          36.01,
          69.32,
          -34.63,
          6.75,
          108.29,
          -76.77,
          -6.27,
          -32.34,
          6.59,
          39.88,
          10.31,
          12.5,
          -13.91,
          -49.12,
          -23.87,
          48.75,
          -41.85,
          -1.81,
          48.69,
          7.82,
          31.46,
          -18.34,
          -7.35,
          -39.87,
          36.65,
          -16.63,
          -9.17,
          115.28,
          -31.53,
          41.46,
          -37.86,
          23.83,
          -27.1,
          22.35,
          -17.86,
          -31.84,
          15.34,
          -11.27,
          34.52,
          -17.18,
          -8.97,
          19.88,
          35.85,
          2.02,
          -20.87,
          -20.07,
          -7.91,
          11.67,
          -15.77,
          -12.6,
          12.38,
          -6.83,
          -23.32,
          -11.82,
          18.91,
          64.29,
          -15.1,
          31.16,
          -24.19,
          30.15,
          -40.73,
          -24.47,
          31.14,
          28.5,
          -20.46,
          41.94,
          -29.68,
          -18.22,
          36.13,
          11.01,
          24.3,
          -13.23,
          -15.55,
          41.03,
          -15.24,
          41.23,
          -12.73,
          -13.6,
          -5.96,
          14.25,
          9.39,
          22.55,
          0.89,
          35.56,
          -18.6,
          7.45,
          56.04,
          -16.19,
          -33.76,
          51.43,
          -11.47,
          -21.96,
          84.92,
          -75.38,
          -63.63,
          49.24,
          -35.68,
          -23.71,
          9.43,
          -25.84,
          88.95,
          -26.47,
          32.93,
          -19.72,
          30.84,
          -33.44,
          -2.59,
          4.65,
          10.42,
          -17.5,
          22.33,
          -16.19,
          -16.81,
          51.02,
          -22.46,
          88.26,
          -23.61,
          -1.5,
          8.93,
          -10.01,
          -3.01,
          29.81,
          -23.25,
          -76.88,
          175.6,
          -16.67,
          329.41
         ],
         "yaxis": "y"
        }
       ],
       "layout": {
        "autosize": true,
        "legend": {
         "itemsizing": "constant",
         "tracegroupgap": 0
        },
        "plot_bgcolor": "rgb(255, 255, 255)",
        "template": {
         "data": {
          "bar": [
           {
            "error_x": {
             "color": "#2a3f5f"
            },
            "error_y": {
             "color": "#2a3f5f"
            },
            "marker": {
             "line": {
              "color": "#E5ECF6",
              "width": 0.5
             },
             "pattern": {
              "fillmode": "overlay",
              "size": 10,
              "solidity": 0.2
             }
            },
            "type": "bar"
           }
          ],
          "barpolar": [
           {
            "marker": {
             "line": {
              "color": "#E5ECF6",
              "width": 0.5
             },
             "pattern": {
              "fillmode": "overlay",
              "size": 10,
              "solidity": 0.2
             }
            },
            "type": "barpolar"
           }
          ],
          "carpet": [
           {
            "aaxis": {
             "endlinecolor": "#2a3f5f",
             "gridcolor": "white",
             "linecolor": "white",
             "minorgridcolor": "white",
             "startlinecolor": "#2a3f5f"
            },
            "baxis": {
             "endlinecolor": "#2a3f5f",
             "gridcolor": "white",
             "linecolor": "white",
             "minorgridcolor": "white",
             "startlinecolor": "#2a3f5f"
            },
            "type": "carpet"
           }
          ],
          "choropleth": [
           {
            "colorbar": {
             "outlinewidth": 0,
             "ticks": ""
            },
            "type": "choropleth"
           }
          ],
          "contour": [
           {
            "colorbar": {
             "outlinewidth": 0,
             "ticks": ""
            },
            "colorscale": [
             [
              0,
              "#0d0887"
             ],
             [
              0.1111111111111111,
              "#46039f"
             ],
             [
              0.2222222222222222,
              "#7201a8"
             ],
             [
              0.3333333333333333,
              "#9c179e"
             ],
             [
              0.4444444444444444,
              "#bd3786"
             ],
             [
              0.5555555555555556,
              "#d8576b"
             ],
             [
              0.6666666666666666,
              "#ed7953"
             ],
             [
              0.7777777777777778,
              "#fb9f3a"
             ],
             [
              0.8888888888888888,
              "#fdca26"
             ],
             [
              1,
              "#f0f921"
             ]
            ],
            "type": "contour"
           }
          ],
          "contourcarpet": [
           {
            "colorbar": {
             "outlinewidth": 0,
             "ticks": ""
            },
            "type": "contourcarpet"
           }
          ],
          "heatmap": [
           {
            "colorbar": {
             "outlinewidth": 0,
             "ticks": ""
            },
            "colorscale": [
             [
              0,
              "#0d0887"
             ],
             [
              0.1111111111111111,
              "#46039f"
             ],
             [
              0.2222222222222222,
              "#7201a8"
             ],
             [
              0.3333333333333333,
              "#9c179e"
             ],
             [
              0.4444444444444444,
              "#bd3786"
             ],
             [
              0.5555555555555556,
              "#d8576b"
             ],
             [
              0.6666666666666666,
              "#ed7953"
             ],
             [
              0.7777777777777778,
              "#fb9f3a"
             ],
             [
              0.8888888888888888,
              "#fdca26"
             ],
             [
              1,
              "#f0f921"
             ]
            ],
            "type": "heatmap"
           }
          ],
          "heatmapgl": [
           {
            "colorbar": {
             "outlinewidth": 0,
             "ticks": ""
            },
            "colorscale": [
             [
              0,
              "#0d0887"
             ],
             [
              0.1111111111111111,
              "#46039f"
             ],
             [
              0.2222222222222222,
              "#7201a8"
             ],
             [
              0.3333333333333333,
              "#9c179e"
             ],
             [
              0.4444444444444444,
              "#bd3786"
             ],
             [
              0.5555555555555556,
              "#d8576b"
             ],
             [
              0.6666666666666666,
              "#ed7953"
             ],
             [
              0.7777777777777778,
              "#fb9f3a"
             ],
             [
              0.8888888888888888,
              "#fdca26"
             ],
             [
              1,
              "#f0f921"
             ]
            ],
            "type": "heatmapgl"
           }
          ],
          "histogram": [
           {
            "marker": {
             "pattern": {
              "fillmode": "overlay",
              "size": 10,
              "solidity": 0.2
             }
            },
            "type": "histogram"
           }
          ],
          "histogram2d": [
           {
            "colorbar": {
             "outlinewidth": 0,
             "ticks": ""
            },
            "colorscale": [
             [
              0,
              "#0d0887"
             ],
             [
              0.1111111111111111,
              "#46039f"
             ],
             [
              0.2222222222222222,
              "#7201a8"
             ],
             [
              0.3333333333333333,
              "#9c179e"
             ],
             [
              0.4444444444444444,
              "#bd3786"
             ],
             [
              0.5555555555555556,
              "#d8576b"
             ],
             [
              0.6666666666666666,
              "#ed7953"
             ],
             [
              0.7777777777777778,
              "#fb9f3a"
             ],
             [
              0.8888888888888888,
              "#fdca26"
             ],
             [
              1,
              "#f0f921"
             ]
            ],
            "type": "histogram2d"
           }
          ],
          "histogram2dcontour": [
           {
            "colorbar": {
             "outlinewidth": 0,
             "ticks": ""
            },
            "colorscale": [
             [
              0,
              "#0d0887"
             ],
             [
              0.1111111111111111,
              "#46039f"
             ],
             [
              0.2222222222222222,
              "#7201a8"
             ],
             [
              0.3333333333333333,
              "#9c179e"
             ],
             [
              0.4444444444444444,
              "#bd3786"
             ],
             [
              0.5555555555555556,
              "#d8576b"
             ],
             [
              0.6666666666666666,
              "#ed7953"
             ],
             [
              0.7777777777777778,
              "#fb9f3a"
             ],
             [
              0.8888888888888888,
              "#fdca26"
             ],
             [
              1,
              "#f0f921"
             ]
            ],
            "type": "histogram2dcontour"
           }
          ],
          "mesh3d": [
           {
            "colorbar": {
             "outlinewidth": 0,
             "ticks": ""
            },
            "type": "mesh3d"
           }
          ],
          "parcoords": [
           {
            "line": {
             "colorbar": {
              "outlinewidth": 0,
              "ticks": ""
             }
            },
            "type": "parcoords"
           }
          ],
          "pie": [
           {
            "automargin": true,
            "type": "pie"
           }
          ],
          "scatter": [
           {
            "fillpattern": {
             "fillmode": "overlay",
             "size": 10,
             "solidity": 0.2
            },
            "type": "scatter"
           }
          ],
          "scatter3d": [
           {
            "line": {
             "colorbar": {
              "outlinewidth": 0,
              "ticks": ""
             }
            },
            "marker": {
             "colorbar": {
              "outlinewidth": 0,
              "ticks": ""
             }
            },
            "type": "scatter3d"
           }
          ],
          "scattercarpet": [
           {
            "marker": {
             "colorbar": {
              "outlinewidth": 0,
              "ticks": ""
             }
            },
            "type": "scattercarpet"
           }
          ],
          "scattergeo": [
           {
            "marker": {
             "colorbar": {
              "outlinewidth": 0,
              "ticks": ""
             }
            },
            "type": "scattergeo"
           }
          ],
          "scattergl": [
           {
            "marker": {
             "colorbar": {
              "outlinewidth": 0,
              "ticks": ""
             }
            },
            "type": "scattergl"
           }
          ],
          "scattermapbox": [
           {
            "marker": {
             "colorbar": {
              "outlinewidth": 0,
              "ticks": ""
             }
            },
            "type": "scattermapbox"
           }
          ],
          "scatterpolar": [
           {
            "marker": {
             "colorbar": {
              "outlinewidth": 0,
              "ticks": ""
             }
            },
            "type": "scatterpolar"
           }
          ],
          "scatterpolargl": [
           {
            "marker": {
             "colorbar": {
              "outlinewidth": 0,
              "ticks": ""
             }
            },
            "type": "scatterpolargl"
           }
          ],
          "scatterternary": [
           {
            "marker": {
             "colorbar": {
              "outlinewidth": 0,
              "ticks": ""
             }
            },
            "type": "scatterternary"
           }
          ],
          "surface": [
           {
            "colorbar": {
             "outlinewidth": 0,
             "ticks": ""
            },
            "colorscale": [
             [
              0,
              "#0d0887"
             ],
             [
              0.1111111111111111,
              "#46039f"
             ],
             [
              0.2222222222222222,
              "#7201a8"
             ],
             [
              0.3333333333333333,
              "#9c179e"
             ],
             [
              0.4444444444444444,
              "#bd3786"
             ],
             [
              0.5555555555555556,
              "#d8576b"
             ],
             [
              0.6666666666666666,
              "#ed7953"
             ],
             [
              0.7777777777777778,
              "#fb9f3a"
             ],
             [
              0.8888888888888888,
              "#fdca26"
             ],
             [
              1,
              "#f0f921"
             ]
            ],
            "type": "surface"
           }
          ],
          "table": [
           {
            "cells": {
             "fill": {
              "color": "#EBF0F8"
             },
             "line": {
              "color": "white"
             }
            },
            "header": {
             "fill": {
              "color": "#C8D4E3"
             },
             "line": {
              "color": "white"
             }
            },
            "type": "table"
           }
          ]
         },
         "layout": {
          "annotationdefaults": {
           "arrowcolor": "#2a3f5f",
           "arrowhead": 0,
           "arrowwidth": 1
          },
          "autotypenumbers": "strict",
          "coloraxis": {
           "colorbar": {
            "outlinewidth": 0,
            "ticks": ""
           }
          },
          "colorscale": {
           "diverging": [
            [
             0,
             "#8e0152"
            ],
            [
             0.1,
             "#c51b7d"
            ],
            [
             0.2,
             "#de77ae"
            ],
            [
             0.3,
             "#f1b6da"
            ],
            [
             0.4,
             "#fde0ef"
            ],
            [
             0.5,
             "#f7f7f7"
            ],
            [
             0.6,
             "#e6f5d0"
            ],
            [
             0.7,
             "#b8e186"
            ],
            [
             0.8,
             "#7fbc41"
            ],
            [
             0.9,
             "#4d9221"
            ],
            [
             1,
             "#276419"
            ]
           ],
           "sequential": [
            [
             0,
             "#0d0887"
            ],
            [
             0.1111111111111111,
             "#46039f"
            ],
            [
             0.2222222222222222,
             "#7201a8"
            ],
            [
             0.3333333333333333,
             "#9c179e"
            ],
            [
             0.4444444444444444,
             "#bd3786"
            ],
            [
             0.5555555555555556,
             "#d8576b"
            ],
            [
             0.6666666666666666,
             "#ed7953"
            ],
            [
             0.7777777777777778,
             "#fb9f3a"
            ],
            [
             0.8888888888888888,
             "#fdca26"
            ],
            [
             1,
             "#f0f921"
            ]
           ],
           "sequentialminus": [
            [
             0,
             "#0d0887"
            ],
            [
             0.1111111111111111,
             "#46039f"
            ],
            [
             0.2222222222222222,
             "#7201a8"
            ],
            [
             0.3333333333333333,
             "#9c179e"
            ],
            [
             0.4444444444444444,
             "#bd3786"
            ],
            [
             0.5555555555555556,
             "#d8576b"
            ],
            [
             0.6666666666666666,
             "#ed7953"
            ],
            [
             0.7777777777777778,
             "#fb9f3a"
            ],
            [
             0.8888888888888888,
             "#fdca26"
            ],
            [
             1,
             "#f0f921"
            ]
           ]
          },
          "colorway": [
           "#636efa",
           "#EF553B",
           "#00cc96",
           "#ab63fa",
           "#FFA15A",
           "#19d3f3",
           "#FF6692",
           "#B6E880",
           "#FF97FF",
           "#FECB52"
          ],
          "font": {
           "color": "#2a3f5f"
          },
          "geo": {
           "bgcolor": "white",
           "lakecolor": "white",
           "landcolor": "#E5ECF6",
           "showlakes": true,
           "showland": true,
           "subunitcolor": "white"
          },
          "hoverlabel": {
           "align": "left"
          },
          "hovermode": "closest",
          "mapbox": {
           "style": "light"
          },
          "paper_bgcolor": "white",
          "plot_bgcolor": "#E5ECF6",
          "polar": {
           "angularaxis": {
            "gridcolor": "white",
            "linecolor": "white",
            "ticks": ""
           },
           "bgcolor": "#E5ECF6",
           "radialaxis": {
            "gridcolor": "white",
            "linecolor": "white",
            "ticks": ""
           }
          },
          "scene": {
           "xaxis": {
            "backgroundcolor": "#E5ECF6",
            "gridcolor": "white",
            "gridwidth": 2,
            "linecolor": "white",
            "showbackground": true,
            "ticks": "",
            "zerolinecolor": "white"
           },
           "yaxis": {
            "backgroundcolor": "#E5ECF6",
            "gridcolor": "white",
            "gridwidth": 2,
            "linecolor": "white",
            "showbackground": true,
            "ticks": "",
            "zerolinecolor": "white"
           },
           "zaxis": {
            "backgroundcolor": "#E5ECF6",
            "gridcolor": "white",
            "gridwidth": 2,
            "linecolor": "white",
            "showbackground": true,
            "ticks": "",
            "zerolinecolor": "white"
           }
          },
          "shapedefaults": {
           "line": {
            "color": "#2a3f5f"
           }
          },
          "ternary": {
           "aaxis": {
            "gridcolor": "white",
            "linecolor": "white",
            "ticks": ""
           },
           "baxis": {
            "gridcolor": "white",
            "linecolor": "white",
            "ticks": ""
           },
           "bgcolor": "#E5ECF6",
           "caxis": {
            "gridcolor": "white",
            "linecolor": "white",
            "ticks": ""
           }
          },
          "title": {
           "x": 0.05
          },
          "xaxis": {
           "automargin": true,
           "gridcolor": "white",
           "linecolor": "white",
           "ticks": "",
           "title": {
            "standoff": 15
           },
           "zerolinecolor": "white",
           "zerolinewidth": 2
          },
          "yaxis": {
           "automargin": true,
           "gridcolor": "white",
           "linecolor": "white",
           "ticks": "",
           "title": {
            "standoff": 15
           },
           "zerolinecolor": "white",
           "zerolinewidth": 2
          }
         }
        },
        "title": {
         "text": "Trade over time"
        },
        "xaxis": {
         "anchor": "y",
         "autorange": true,
         "domain": [
          0,
          1
         ],
         "gridcolor": "lightgray",
         "range": [
          "2009-08-10 00:50:17.9589",
          "2023-12-03 00:18:36.5197"
         ],
         "showgrid": false,
         "title": {
          "text": "x"
         },
         "type": "date"
        },
        "yaxis": {
         "anchor": "x",
         "autorange": true,
         "domain": [
          0,
          1
         ],
         "gridcolor": "lightgray",
         "range": [
          -125.67142886603742,
          402.16792931240246
         ],
         "tickformat": ".2%",
         "title": {
          "text": "Percent Change"
         },
         "type": "linear"
        }
       }
      },
      "image/png": "[encoded data removed]",
      "text/html": [
       "<div>                            <div id=\"670d02b0-1fa5-43f8-918d-49c72edc6f4d\" class=\"plotly-graph-div\" style=\"height:525px; width:100%;\"></div>            <script type=\"text/javascript\">                require([\"plotly\"], function(Plotly) {                    window.PLOTLYENV=window.PLOTLYENV || {};                                    if (document.getElementById(\"670d02b0-1fa5-43f8-918d-49c72edc6f4d\")) {                    Plotly.newPlot(                        \"670d02b0-1fa5-43f8-918d-49c72edc6f4d\",                        [{\"hovertemplate\":\"x=%{x}<br>y=%{y}<br>size=%{marker.size}<extra></extra>\",\"legendgroup\":\"\",\"marker\":{\"color\":\"#636efa\",\"size\":[0.0,76.52,24.46,35.96,7.95,25.17,43.45,20.78,15.31,3.22,22.39,14.15,19.42,37.75,20.08,26.74,18.2,26.23,2.13,17.25,16.04,20.31,8.54,38.75,44.89,36.01,69.32,34.63,6.75,108.29,76.77,6.27,32.34,6.59,39.88,10.31,12.5,13.91,49.12,23.87,48.75,41.85,1.81,48.69,7.82,31.46,18.34,7.35,39.87,36.65,16.63,9.17,115.28,31.53,41.46,37.86,23.83,27.1,22.35,17.86,31.84,15.34,11.27,34.52,17.18,8.97,19.88,35.85,2.02,20.87,20.07,7.91,11.67,15.77,12.6,12.38,6.83,23.32,11.82,18.91,64.29,15.1,31.16,24.19,30.15,40.73,24.47,31.14,28.5,20.46,41.94,29.68,18.22,36.13,11.01,24.3,13.23,15.55,41.03,15.24,41.23,12.73,13.6,5.96,14.25,9.39,22.55,0.89,35.56,18.6,7.45,56.04,16.19,33.76,51.43,11.47,21.96,84.92,75.38,63.63,49.24,35.68,23.71,9.43,25.84,88.95,26.47,32.93,19.72,30.84,33.44,2.59,4.65,10.42,17.5,22.33,16.19,16.81,51.02,22.46,88.26,23.61,1.5,8.93,10.01,3.01,29.81,23.25,76.88,175.6,16.67,329.41],\"sizemode\":\"area\",\"sizeref\":0.8235250000000001,\"symbol\":\"circle\"},\"mode\":\"markers\",\"name\":\"\",\"orientation\":\"v\",\"showlegend\":false,\"x\":[\"2023-02-15T00:00:00\",\"2023-01-31T00:00:00\",\"2022-12-30T00:00:00\",\"2022-11-30T00:00:00\",\"2022-10-31T00:00:00\",\"2022-09-30T00:00:00\",\"2022-08-31T00:00:00\",\"2022-07-29T00:00:00\",\"2022-06-30T00:00:00\",\"2022-05-31T00:00:00\",\"2022-04-29T00:00:00\",\"2022-03-31T00:00:00\",\"2022-02-28T00:00:00\",\"2022-01-31T00:00:00\",\"2021-12-31T00:00:00\",\"2021-11-30T00:00:00\",\"2021-10-29T00:00:00\",\"2021-09-30T00:00:00\",\"2021-08-31T00:00:00\",\"2021-07-30T00:00:00\",\"2021-06-30T00:00:00\",\"2021-05-28T00:00:00\",\"2021-04-30T00:00:00\",\"2021-03-31T00:00:00\",\"2021-02-26T00:00:00\",\"2021-01-29T00:00:00\",\"2020-12-31T00:00:00\",\"2020-11-30T00:00:00\",\"2020-10-30T00:00:00\",\"2020-09-30T00:00:00\",\"2020-08-31T00:00:00\",\"2020-07-31T00:00:00\",\"2020-06-30T00:00:00\",\"2020-05-29T00:00:00\",\"2020-04-30T00:00:00\",\"2020-03-31T00:00:00\",\"2020-02-28T00:00:00\",\"2020-01-31T00:00:00\",\"2019-12-31T00:00:00\",\"2019-11-29T00:00:00\",\"2019-10-31T00:00:00\",\"2019-09-30T00:00:00\",\"2019-08-30T00:00:00\",\"2019-07-31T00:00:00\",\"2019-06-28T00:00:00\",\"2019-05-31T00:00:00\",\"2019-04-30T00:00:00\",\"2019-03-29T00:00:00\",\"2019-02-28T00:00:00\",\"2019-01-31T00:00:00\",\"2018-12-31T00:00:00\",\"2018-11-30T00:00:00\",\"2018-10-31T00:00:00\",\"2018-09-28T00:00:00\",\"2018-08-31T00:00:00\",\"2018-07-31T00:00:00\",\"2018-06-29T00:00:00\",\"2018-05-31T00:00:00\",\"2018-04-30T00:00:00\",\"2018-03-29T00:00:00\",\"2018-02-28T00:00:00\",\"2018-01-31T00:00:00\",\"2017-12-29T00:00:00\",\"2017-11-30T00:00:00\",\"2017-10-31T00:00:00\",\"2017-09-29T00:00:00\",\"2017-08-31T00:00:00\",\"2017-07-31T00:00:00\",\"2017-06-30T00:00:00\",\"2017-05-31T00:00:00\",\"2017-04-28T00:00:00\",\"2017-03-31T00:00:00\",\"2017-02-28T00:00:00\",\"2017-01-31T00:00:00\",\"2016-12-30T00:00:00\",\"2016-11-30T00:00:00\",\"2016-10-31T00:00:00\",\"2016-09-30T00:00:00\",\"2016-08-31T00:00:00\",\"2016-07-29T00:00:00\",\"2016-06-30T00:00:00\",\"2016-05-31T00:00:00\",\"2016-04-29T00:00:00\",\"2016-03-31T00:00:00\",\"2016-02-29T00:00:00\",\"2016-01-29T00:00:00\",\"2015-12-31T00:00:00\",\"2015-11-30T00:00:00\",\"2015-10-30T00:00:00\",\"2015-09-30T00:00:00\",\"2015-08-31T00:00:00\",\"2015-07-31T00:00:00\",\"2015-06-30T00:00:00\",\"2015-05-29T00:00:00\",\"2015-04-30T00:00:00\",\"2015-03-31T00:00:00\",\"2015-02-27T00:00:00\",\"2015-01-30T00:00:00\",\"2014-12-31T00:00:00\",\"2014-11-28T00:00:00\",\"2014-10-31T00:00:00\",\"2014-09-30T00:00:00\",\"2014-08-29T00:00:00\",\"2014-07-31T00:00:00\",\"2014-06-30T00:00:00\",\"2014-05-30T00:00:00\",\"2014-04-30T00:00:00\",\"2014-03-31T00:00:00\",\"2014-02-28T00:00:00\",\"2014-01-31T00:00:00\",\"2013-12-31T00:00:00\",\"2013-11-29T00:00:00\",\"2013-10-31T00:00:00\",\"2013-09-30T00:00:00\",\"2013-08-30T00:00:00\",\"2013-07-31T00:00:00\",\"2013-06-28T00:00:00\",\"2013-05-31T00:00:00\",\"2013-04-30T00:00:00\",\"2013-03-28T00:00:00\",\"2013-02-28T00:00:00\",\"2013-01-31T00:00:00\",\"2012-12-31T00:00:00\",\"2012-11-30T00:00:00\",\"2012-10-31T00:00:00\",\"2012-09-28T00:00:00\",\"2012-08-31T00:00:00\",\"2012-07-31T00:00:00\",\"2012-06-29T00:00:00\",\"2012-05-31T00:00:00\",\"2012-04-30T00:00:00\",\"2012-03-30T00:00:00\",\"2012-02-29T00:00:00\",\"2012-01-31T00:00:00\",\"2011-12-30T00:00:00\",\"2011-11-30T00:00:00\",\"2011-10-31T00:00:00\",\"2011-09-30T00:00:00\",\"2011-08-31T00:00:00\",\"2011-07-29T00:00:00\",\"2011-06-30T00:00:00\",\"2011-05-31T00:00:00\",\"2011-04-29T00:00:00\",\"2011-03-31T00:00:00\",\"2011-02-28T00:00:00\",\"2011-01-31T00:00:00\",\"2010-12-31T00:00:00\",\"2010-11-30T00:00:00\",\"2010-10-29T00:00:00\",\"2010-09-30T00:00:00\",\"2010-08-31T00:00:00\",\"2010-07-30T00:00:00\"],\"xaxis\":\"x\",\"y\":[0.0,76.52,-24.46,-35.96,-7.95,-25.17,-43.45,-20.78,15.31,-3.22,-22.39,14.15,-19.42,37.75,-20.08,26.74,-18.2,-26.23,-2.13,17.25,16.04,20.31,8.54,38.75,-44.89,36.01,69.32,-34.63,6.75,108.29,-76.77,-6.27,-32.34,6.59,39.88,10.31,12.5,-13.91,-49.12,-23.87,48.75,-41.85,-1.81,48.69,7.82,31.46,-18.34,-7.35,-39.87,36.65,-16.63,-9.17,115.28,-31.53,41.46,-37.86,23.83,-27.1,22.35,-17.86,-31.84,15.34,-11.27,34.52,-17.18,-8.97,19.88,35.85,2.02,-20.87,-20.07,-7.91,11.67,-15.77,-12.6,12.38,-6.83,-23.32,-11.82,18.91,64.29,-15.1,31.16,-24.19,30.15,-40.73,-24.47,31.14,28.5,-20.46,41.94,-29.68,-18.22,36.13,11.01,24.3,-13.23,-15.55,41.03,-15.24,41.23,-12.73,-13.6,-5.96,14.25,9.39,22.55,0.89,35.56,-18.6,7.45,56.04,-16.19,-33.76,51.43,-11.47,-21.96,84.92,-75.38,-63.63,49.24,-35.68,-23.71,9.43,-25.84,88.95,-26.47,32.93,-19.72,30.84,-33.44,-2.59,4.65,10.42,-17.5,22.33,-16.19,-16.81,51.02,-22.46,88.26,-23.61,-1.5,8.93,-10.01,-3.01,29.81,-23.25,-76.88,175.6,-16.67,329.41],\"yaxis\":\"y\",\"type\":\"scatter\"}],                        {\"template\":{\"data\":{\"histogram2dcontour\":[{\"type\":\"histogram2dcontour\",\"colorbar\":{\"outlinewidth\":0,\"ticks\":\"\"},\"colorscale\":[[0.0,\"#0d0887\"],[0.1111111111111111,\"#46039f\"],[0.2222222222222222,\"#7201a8\"],[0.3333333333333333,\"#9c179e\"],[0.4444444444444444,\"#bd3786\"],[0.5555555555555556,\"#d8576b\"],[0.6666666666666666,\"#ed7953\"],[0.7777777777777778,\"#fb9f3a\"],[0.8888888888888888,\"#fdca26\"],[1.0,\"#f0f921\"]]}],\"choropleth\":[{\"type\":\"choropleth\",\"colorbar\":{\"outlinewidth\":0,\"ticks\":\"\"}}],\"histogram2d\":[{\"type\":\"histogram2d\",\"colorbar\":{\"outlinewidth\":0,\"ticks\":\"\"},\"colorscale\":[[0.0,\"#0d0887\"],[0.1111111111111111,\"#46039f\"],[0.2222222222222222,\"#7201a8\"],[0.3333333333333333,\"#9c179e\"],[0.4444444444444444,\"#bd3786\"],[0.5555555555555556,\"#d8576b\"],[0.6666666666666666,\"#ed7953\"],[0.7777777777777778,\"#fb9f3a\"],[0.8888888888888888,\"#fdca26\"],[1.0,\"#f0f921\"]]}],\"heatmap\":[{\"type\":\"heatmap\",\"colorbar\":{\"outlinewidth\":0,\"ticks\":\"\"},\"colorscale\":[[0.0,\"#0d0887\"],[0.1111111111111111,\"#46039f\"],[0.2222222222222222,\"#7201a8\"],[0.3333333333333333,\"#9c179e\"],[0.4444444444444444,\"#bd3786\"],[0.5555555555555556,\"#d8576b\"],[0.6666666666666666,\"#ed7953\"],[0.7777777777777778,\"#fb9f3a\"],[0.8888888888888888,\"#fdca26\"],[1.0,\"#f0f921\"]]}],\"heatmapgl\":[{\"type\":\"heatmapgl\",\"colorbar\":{\"outlinewidth\":0,\"ticks\":\"\"},\"colorscale\":[[0.0,\"#0d0887\"],[0.1111111111111111,\"#46039f\"],[0.2222222222222222,\"#7201a8\"],[0.3333333333333333,\"#9c179e\"],[0.4444444444444444,\"#bd3786\"],[0.5555555555555556,\"#d8576b\"],[0.6666666666666666,\"#ed7953\"],[0.7777777777777778,\"#fb9f3a\"],[0.8888888888888888,\"#fdca26\"],[1.0,\"#f0f921\"]]}],\"contourcarpet\":[{\"type\":\"contourcarpet\",\"colorbar\":{\"outlinewidth\":0,\"ticks\":\"\"}}],\"contour\":[{\"type\":\"contour\",\"colorbar\":{\"outlinewidth\":0,\"ticks\":\"\"},\"colorscale\":[[0.0,\"#0d0887\"],[0.1111111111111111,\"#46039f\"],[0.2222222222222222,\"#7201a8\"],[0.3333333333333333,\"#9c179e\"],[0.4444444444444444,\"#bd3786\"],[0.5555555555555556,\"#d8576b\"],[0.6666666666666666,\"#ed7953\"],[0.7777777777777778,\"#fb9f3a\"],[0.8888888888888888,\"#fdca26\"],[1.0,\"#f0f921\"]]}],\"surface\":[{\"type\":\"surface\",\"colorbar\":{\"outlinewidth\":0,\"ticks\":\"\"},\"colorscale\":[[0.0,\"#0d0887\"],[0.1111111111111111,\"#46039f\"],[0.2222222222222222,\"#7201a8\"],[0.3333333333333333,\"#9c179e\"],[0.4444444444444444,\"#bd3786\"],[0.5555555555555556,\"#d8576b\"],[0.6666666666666666,\"#ed7953\"],[0.7777777777777778,\"#fb9f3a\"],[0.8888888888888888,\"#fdca26\"],[1.0,\"#f0f921\"]]}],\"mesh3d\":[{\"type\":\"mesh3d\",\"colorbar\":{\"outlinewidth\":0,\"ticks\":\"\"}}],\"scatter\":[{\"fillpattern\":{\"fillmode\":\"overlay\",\"size\":10,\"solidity\":0.2},\"type\":\"scatter\"}],\"parcoords\":[{\"type\":\"parcoords\",\"line\":{\"colorbar\":{\"outlinewidth\":0,\"ticks\":\"\"}}}],\"scatterpolargl\":[{\"type\":\"scatterpolargl\",\"marker\":{\"colorbar\":{\"outlinewidth\":0,\"ticks\":\"\"}}}],\"bar\":[{\"error_x\":{\"color\":\"#2a3f5f\"},\"error_y\":{\"color\":\"#2a3f5f\"},\"marker\":{\"line\":{\"color\":\"#E5ECF6\",\"width\":0.5},\"pattern\":{\"fillmode\":\"overlay\",\"size\":10,\"solidity\":0.2}},\"type\":\"bar\"}],\"scattergeo\":[{\"type\":\"scattergeo\",\"marker\":{\"colorbar\":{\"outlinewidth\":0,\"ticks\":\"\"}}}],\"scatterpolar\":[{\"type\":\"scatterpolar\",\"marker\":{\"colorbar\":{\"outlinewidth\":0,\"ticks\":\"\"}}}],\"histogram\":[{\"marker\":{\"pattern\":{\"fillmode\":\"overlay\",\"size\":10,\"solidity\":0.2}},\"type\":\"histogram\"}],\"scattergl\":[{\"type\":\"scattergl\",\"marker\":{\"colorbar\":{\"outlinewidth\":0,\"ticks\":\"\"}}}],\"scatter3d\":[{\"type\":\"scatter3d\",\"line\":{\"colorbar\":{\"outlinewidth\":0,\"ticks\":\"\"}},\"marker\":{\"colorbar\":{\"outlinewidth\":0,\"ticks\":\"\"}}}],\"scattermapbox\":[{\"type\":\"scattermapbox\",\"marker\":{\"colorbar\":{\"outlinewidth\":0,\"ticks\":\"\"}}}],\"scatterternary\":[{\"type\":\"scatterternary\",\"marker\":{\"colorbar\":{\"outlinewidth\":0,\"ticks\":\"\"}}}],\"scattercarpet\":[{\"type\":\"scattercarpet\",\"marker\":{\"colorbar\":{\"outlinewidth\":0,\"ticks\":\"\"}}}],\"carpet\":[{\"aaxis\":{\"endlinecolor\":\"#2a3f5f\",\"gridcolor\":\"white\",\"linecolor\":\"white\",\"minorgridcolor\":\"white\",\"startlinecolor\":\"#2a3f5f\"},\"baxis\":{\"endlinecolor\":\"#2a3f5f\",\"gridcolor\":\"white\",\"linecolor\":\"white\",\"minorgridcolor\":\"white\",\"startlinecolor\":\"#2a3f5f\"},\"type\":\"carpet\"}],\"table\":[{\"cells\":{\"fill\":{\"color\":\"#EBF0F8\"},\"line\":{\"color\":\"white\"}},\"header\":{\"fill\":{\"color\":\"#C8D4E3\"},\"line\":{\"color\":\"white\"}},\"type\":\"table\"}],\"barpolar\":[{\"marker\":{\"line\":{\"color\":\"#E5ECF6\",\"width\":0.5},\"pattern\":{\"fillmode\":\"overlay\",\"size\":10,\"solidity\":0.2}},\"type\":\"barpolar\"}],\"pie\":[{\"automargin\":true,\"type\":\"pie\"}]},\"layout\":{\"autotypenumbers\":\"strict\",\"colorway\":[\"#636efa\",\"#EF553B\",\"#00cc96\",\"#ab63fa\",\"#FFA15A\",\"#19d3f3\",\"#FF6692\",\"#B6E880\",\"#FF97FF\",\"#FECB52\"],\"font\":{\"color\":\"#2a3f5f\"},\"hovermode\":\"closest\",\"hoverlabel\":{\"align\":\"left\"},\"paper_bgcolor\":\"white\",\"plot_bgcolor\":\"#E5ECF6\",\"polar\":{\"bgcolor\":\"#E5ECF6\",\"angularaxis\":{\"gridcolor\":\"white\",\"linecolor\":\"white\",\"ticks\":\"\"},\"radialaxis\":{\"gridcolor\":\"white\",\"linecolor\":\"white\",\"ticks\":\"\"}},\"ternary\":{\"bgcolor\":\"#E5ECF6\",\"aaxis\":{\"gridcolor\":\"white\",\"linecolor\":\"white\",\"ticks\":\"\"},\"baxis\":{\"gridcolor\":\"white\",\"linecolor\":\"white\",\"ticks\":\"\"},\"caxis\":{\"gridcolor\":\"white\",\"linecolor\":\"white\",\"ticks\":\"\"}},\"coloraxis\":{\"colorbar\":{\"outlinewidth\":0,\"ticks\":\"\"}},\"colorscale\":{\"sequential\":[[0.0,\"#0d0887\"],[0.1111111111111111,\"#46039f\"],[0.2222222222222222,\"#7201a8\"],[0.3333333333333333,\"#9c179e\"],[0.4444444444444444,\"#bd3786\"],[0.5555555555555556,\"#d8576b\"],[0.6666666666666666,\"#ed7953\"],[0.7777777777777778,\"#fb9f3a\"],[0.8888888888888888,\"#fdca26\"],[1.0,\"#f0f921\"]],\"sequentialminus\":[[0.0,\"#0d0887\"],[0.1111111111111111,\"#46039f\"],[0.2222222222222222,\"#7201a8\"],[0.3333333333333333,\"#9c179e\"],[0.4444444444444444,\"#bd3786\"],[0.5555555555555556,\"#d8576b\"],[0.6666666666666666,\"#ed7953\"],[0.7777777777777778,\"#fb9f3a\"],[0.8888888888888888,\"#fdca26\"],[1.0,\"#f0f921\"]],\"diverging\":[[0,\"#8e0152\"],[0.1,\"#c51b7d\"],[0.2,\"#de77ae\"],[0.3,\"#f1b6da\"],[0.4,\"#fde0ef\"],[0.5,\"#f7f7f7\"],[0.6,\"#e6f5d0\"],[0.7,\"#b8e186\"],[0.8,\"#7fbc41\"],[0.9,\"#4d9221\"],[1,\"#276419\"]]},\"xaxis\":{\"gridcolor\":\"white\",\"linecolor\":\"white\",\"ticks\":\"\",\"title\":{\"standoff\":15},\"zerolinecolor\":\"white\",\"automargin\":true,\"zerolinewidth\":2},\"yaxis\":{\"gridcolor\":\"white\",\"linecolor\":\"white\",\"ticks\":\"\",\"title\":{\"standoff\":15},\"zerolinecolor\":\"white\",\"automargin\":true,\"zerolinewidth\":2},\"scene\":{\"xaxis\":{\"backgroundcolor\":\"#E5ECF6\",\"gridcolor\":\"white\",\"linecolor\":\"white\",\"showbackground\":true,\"ticks\":\"\",\"zerolinecolor\":\"white\",\"gridwidth\":2},\"yaxis\":{\"backgroundcolor\":\"#E5ECF6\",\"gridcolor\":\"white\",\"linecolor\":\"white\",\"showbackground\":true,\"ticks\":\"\",\"zerolinecolor\":\"white\",\"gridwidth\":2},\"zaxis\":{\"backgroundcolor\":\"#E5ECF6\",\"gridcolor\":\"white\",\"linecolor\":\"white\",\"showbackground\":true,\"ticks\":\"\",\"zerolinecolor\":\"white\",\"gridwidth\":2}},\"shapedefaults\":{\"line\":{\"color\":\"#2a3f5f\"}},\"annotationdefaults\":{\"arrowcolor\":\"#2a3f5f\",\"arrowhead\":0,\"arrowwidth\":1},\"geo\":{\"bgcolor\":\"white\",\"landcolor\":\"#E5ECF6\",\"subunitcolor\":\"white\",\"showland\":true,\"showlakes\":true,\"lakecolor\":\"white\"},\"title\":{\"x\":0.05},\"mapbox\":{\"style\":\"light\"}}},\"xaxis\":{\"anchor\":\"y\",\"domain\":[0.0,1.0],\"title\":{\"text\":\"x\"},\"showgrid\":false,\"gridcolor\":\"lightgray\"},\"yaxis\":{\"anchor\":\"x\",\"domain\":[0.0,1.0],\"title\":{\"text\":\"Percent Change\"},\"tickformat\":\".2%\",\"gridcolor\":\"lightgray\"},\"legend\":{\"tracegroupgap\":0,\"itemsizing\":\"constant\"},\"title\":{\"text\":\"Trade over time\"},\"plot_bgcolor\":\"rgb(255, 255, 255)\"},                        {\"responsive\": true}                    ).then(function(){\n",
       "                            \n",
       "var gd = document.getElementById('670d02b0-1fa5-43f8-918d-49c72edc6f4d');\n",
       "var x = new MutationObserver(function (mutations, observer) {{\n",
       "        var display = window.getComputedStyle(gd).display;\n",
       "        if (!display || display === 'none') {{\n",
       "            console.log([gd, 'removed!']);\n",
       "            Plotly.purge(gd);\n",
       "            observer.disconnect();\n",
       "        }}\n",
       "}});\n",
       "\n",
       "// Listen for the removal of the full notebook cells\n",
       "var notebookContainer = gd.closest('#notebook-container');\n",
       "if (notebookContainer) {{\n",
       "    x.observe(notebookContainer, {childList: true});\n",
       "}}\n",
       "\n",
       "// Listen for the clearing of the current output cell\n",
       "var outputEl = gd.closest('.output');\n",
       "if (outputEl) {{\n",
       "    x.observe(outputEl, {childList: true});\n",
       "}}\n",
       "\n",
       "                        })                };                });            </script>        </div>"
      ]
     },
     "metadata": {},
     "output_type": "display_data"
    }
   ],
   "source": [
    "stockViz(data_for_visualization)"
   ]
  },
  {
   "cell_type": "code",
   "execution_count": 7,
   "id": "6e2613a8-453f-4da5-a6af-0ff971dc3dc3",
   "metadata": {},
   "outputs": [],
   "source": [
    "dateString = data_for_visualization[0]\n",
    "date = data_for_visualization[1]\n",
    "stock_Price = data_for_visualization[2]\n",
    "stock_Volume = data_for_visualization[3]\n",
    "stock_Price_Change = data_for_visualization[4]\n",
    "stock_Volume_Change = data_for_visualization[5]\n",
    "\n",
    "stock_Price_Change_abs = [abs(change) for change in stock_Price_Change]\n",
    "stock_Volume_Change_abs = [abs(change) for change in stock_Volume_Change]\n"
   ]
  },
  {
   "cell_type": "code",
   "execution_count": 49,
   "id": "76d41140-3360-43c2-b074-740c46a9d55d",
   "metadata": {},
   "outputs": [
    {
     "data": {
      "application/vnd.plotly.v1+json": {
       "config": {
        "plotlyServerURL": "https://plot.ly"
       },
       "data": [
        {
         "hovertemplate": "x=%{x}<br>y=%{y}<extra></extra>",
         "legendgroup": "",
         "line": {
          "color": "#636efa",
          "dash": "solid"
         },
         "marker": {
          "symbol": "circle"
         },
         "mode": "lines",
         "name": "",
         "orientation": "v",
         "showlegend": false,
         "type": "scatter",
         "x": [
          "2023-02-15T00:00:00",
          "2023-01-31T00:00:00",
          "2022-12-30T00:00:00",
          "2022-11-30T00:00:00",
          "2022-10-31T00:00:00",
          "2022-09-30T00:00:00",
          "2022-08-31T00:00:00",
          "2022-07-29T00:00:00",
          "2022-06-30T00:00:00",
          "2022-05-31T00:00:00",
          "2022-04-29T00:00:00",
          "2022-03-31T00:00:00",
          "2022-02-28T00:00:00",
          "2022-01-31T00:00:00",
          "2021-12-31T00:00:00",
          "2021-11-30T00:00:00",
          "2021-10-29T00:00:00",
          "2021-09-30T00:00:00",
          "2021-08-31T00:00:00",
          "2021-07-30T00:00:00",
          "2021-06-30T00:00:00",
          "2021-05-28T00:00:00",
          "2021-04-30T00:00:00",
          "2021-03-31T00:00:00",
          "2021-02-26T00:00:00",
          "2021-01-29T00:00:00",
          "2020-12-31T00:00:00",
          "2020-11-30T00:00:00",
          "2020-10-30T00:00:00",
          "2020-09-30T00:00:00",
          "2020-08-31T00:00:00",
          "2020-07-31T00:00:00",
          "2020-06-30T00:00:00",
          "2020-05-29T00:00:00",
          "2020-04-30T00:00:00",
          "2020-03-31T00:00:00",
          "2020-02-28T00:00:00",
          "2020-01-31T00:00:00",
          "2019-12-31T00:00:00",
          "2019-11-29T00:00:00",
          "2019-10-31T00:00:00",
          "2019-09-30T00:00:00",
          "2019-08-30T00:00:00",
          "2019-07-31T00:00:00",
          "2019-06-28T00:00:00",
          "2019-05-31T00:00:00",
          "2019-04-30T00:00:00",
          "2019-03-29T00:00:00",
          "2019-02-28T00:00:00",
          "2019-01-31T00:00:00",
          "2018-12-31T00:00:00",
          "2018-11-30T00:00:00",
          "2018-10-31T00:00:00",
          "2018-09-28T00:00:00",
          "2018-08-31T00:00:00",
          "2018-07-31T00:00:00",
          "2018-06-29T00:00:00",
          "2018-05-31T00:00:00",
          "2018-04-30T00:00:00",
          "2018-03-29T00:00:00",
          "2018-02-28T00:00:00",
          "2018-01-31T00:00:00",
          "2017-12-29T00:00:00",
          "2017-11-30T00:00:00",
          "2017-10-31T00:00:00",
          "2017-09-29T00:00:00",
          "2017-08-31T00:00:00",
          "2017-07-31T00:00:00",
          "2017-06-30T00:00:00",
          "2017-05-31T00:00:00",
          "2017-04-28T00:00:00",
          "2017-03-31T00:00:00",
          "2017-02-28T00:00:00",
          "2017-01-31T00:00:00",
          "2016-12-30T00:00:00",
          "2016-11-30T00:00:00",
          "2016-10-31T00:00:00",
          "2016-09-30T00:00:00",
          "2016-08-31T00:00:00",
          "2016-07-29T00:00:00",
          "2016-06-30T00:00:00",
          "2016-05-31T00:00:00",
          "2016-04-29T00:00:00",
          "2016-03-31T00:00:00",
          "2016-02-29T00:00:00",
          "2016-01-29T00:00:00",
          "2015-12-31T00:00:00",
          "2015-11-30T00:00:00",
          "2015-10-30T00:00:00",
          "2015-09-30T00:00:00",
          "2015-08-31T00:00:00",
          "2015-07-31T00:00:00",
          "2015-06-30T00:00:00",
          "2015-05-29T00:00:00",
          "2015-04-30T00:00:00",
          "2015-03-31T00:00:00",
          "2015-02-27T00:00:00",
          "2015-01-30T00:00:00",
          "2014-12-31T00:00:00",
          "2014-11-28T00:00:00",
          "2014-10-31T00:00:00",
          "2014-09-30T00:00:00",
          "2014-08-29T00:00:00",
          "2014-07-31T00:00:00",
          "2014-06-30T00:00:00",
          "2014-05-30T00:00:00",
          "2014-04-30T00:00:00",
          "2014-03-31T00:00:00",
          "2014-02-28T00:00:00",
          "2014-01-31T00:00:00",
          "2013-12-31T00:00:00",
          "2013-11-29T00:00:00",
          "2013-10-31T00:00:00",
          "2013-09-30T00:00:00",
          "2013-08-30T00:00:00",
          "2013-07-31T00:00:00",
          "2013-06-28T00:00:00",
          "2013-05-31T00:00:00",
          "2013-04-30T00:00:00",
          "2013-03-28T00:00:00",
          "2013-02-28T00:00:00",
          "2013-01-31T00:00:00",
          "2012-12-31T00:00:00",
          "2012-11-30T00:00:00",
          "2012-10-31T00:00:00",
          "2012-09-28T00:00:00",
          "2012-08-31T00:00:00",
          "2012-07-31T00:00:00",
          "2012-06-29T00:00:00",
          "2012-05-31T00:00:00",
          "2012-04-30T00:00:00",
          "2012-03-30T00:00:00",
          "2012-02-29T00:00:00",
          "2012-01-31T00:00:00",
          "2011-12-30T00:00:00",
          "2011-11-30T00:00:00",
          "2011-10-31T00:00:00",
          "2011-09-30T00:00:00",
          "2011-08-31T00:00:00",
          "2011-07-29T00:00:00",
          "2011-06-30T00:00:00",
          "2011-05-31T00:00:00",
          "2011-04-29T00:00:00",
          "2011-03-31T00:00:00",
          "2011-02-28T00:00:00",
          "2011-01-31T00:00:00",
          "2010-12-31T00:00:00",
          "2010-11-30T00:00:00",
          "2010-10-29T00:00:00",
          "2010-09-30T00:00:00",
          "2010-08-31T00:00:00",
          "2010-07-30T00:00:00"
         ],
         "xaxis": "x",
         "y": [
          214.24,
          173.22,
          123.18,
          194.7,
          227.54,
          265.25,
          275.61,
          891.45,
          673.42,
          758.26,
          870.76,
          1077.6,
          870.43,
          936.72,
          1056.78,
          1144.76,
          1114,
          775.48,
          735.72,
          687.2,
          679.7,
          625.22,
          709.44,
          667.93,
          675.5,
          793.53,
          705.67,
          567.6,
          388.04,
          429.01,
          498.32,
          1430.76,
          1079.81,
          835,
          781.88,
          524,
          667.99,
          650.57,
          418.33,
          329.94,
          314.92,
          240.87,
          225.61,
          241.61,
          223.46,
          185.16,
          238.69,
          279.86,
          319.88,
          307.02,
          332.8,
          350.48,
          337.32,
          264.77,
          301.66,
          298.14,
          342.95,
          284.73,
          293.9,
          266.13,
          343.06,
          354.31,
          311.35,
          308.85,
          331.53,
          341.1,
          355.9,
          323.47,
          361.61,
          341.01,
          314.07,
          278.3,
          249.99,
          251.93,
          213.69,
          189.4,
          197.73,
          204.03,
          212.01,
          234.79,
          212.28,
          223.23,
          240.76,
          229.77,
          191.93,
          191.2,
          240.01,
          230.26,
          206.93,
          248.4,
          249.06,
          266.15,
          268.26,
          250.8,
          226.05,
          188.77,
          203.34,
          203.6,
          222.41,
          244.52,
          241.7,
          242.68,
          269.7,
          223.3,
          240.06,
          207.77,
          207.89,
          208.45,
          244.81,
          181.41,
          150.429,
          127.28,
          159.94,
          193.37,
          169,
          134.28,
          107.36,
          97.76,
          53.99,
          37.89,
          34.83,
          37.51,
          33.87,
          33.82,
          28.1314,
          29.28,
          28.52,
          27.42,
          31.29,
          29.5,
          33.13,
          37.24,
          33.41,
          29.07,
          28.56,
          32.74,
          29.37,
          24.39,
          24.74,
          28.17,
          29.13,
          30.14,
          27.6,
          27.75,
          23.89,
          24.1,
          26.63,
          35.33,
          21.84,
          20.405,
          19.48,
          19.94
         ],
         "yaxis": "y"
        }
       ],
       "layout": {
        "autosize": true,
        "legend": {
         "tracegroupgap": 0
        },
        "plot_bgcolor": "rgb(255, 255, 255)",
        "template": {
         "data": {
          "bar": [
           {
            "error_x": {
             "color": "#2a3f5f"
            },
            "error_y": {
             "color": "#2a3f5f"
            },
            "marker": {
             "line": {
              "color": "#E5ECF6",
              "width": 0.5
             },
             "pattern": {
              "fillmode": "overlay",
              "size": 10,
              "solidity": 0.2
             }
            },
            "type": "bar"
           }
          ],
          "barpolar": [
           {
            "marker": {
             "line": {
              "color": "#E5ECF6",
              "width": 0.5
             },
             "pattern": {
              "fillmode": "overlay",
              "size": 10,
              "solidity": 0.2
             }
            },
            "type": "barpolar"
           }
          ],
          "carpet": [
           {
            "aaxis": {
             "endlinecolor": "#2a3f5f",
             "gridcolor": "white",
             "linecolor": "white",
             "minorgridcolor": "white",
             "startlinecolor": "#2a3f5f"
            },
            "baxis": {
             "endlinecolor": "#2a3f5f",
             "gridcolor": "white",
             "linecolor": "white",
             "minorgridcolor": "white",
             "startlinecolor": "#2a3f5f"
            },
            "type": "carpet"
           }
          ],
          "choropleth": [
           {
            "colorbar": {
             "outlinewidth": 0,
             "ticks": ""
            },
            "type": "choropleth"
           }
          ],
          "contour": [
           {
            "colorbar": {
             "outlinewidth": 0,
             "ticks": ""
            },
            "colorscale": [
             [
              0,
              "#0d0887"
             ],
             [
              0.1111111111111111,
              "#46039f"
             ],
             [
              0.2222222222222222,
              "#7201a8"
             ],
             [
              0.3333333333333333,
              "#9c179e"
             ],
             [
              0.4444444444444444,
              "#bd3786"
             ],
             [
              0.5555555555555556,
              "#d8576b"
             ],
             [
              0.6666666666666666,
              "#ed7953"
             ],
             [
              0.7777777777777778,
              "#fb9f3a"
             ],
             [
              0.8888888888888888,
              "#fdca26"
             ],
             [
              1,
              "#f0f921"
             ]
            ],
            "type": "contour"
           }
          ],
          "contourcarpet": [
           {
            "colorbar": {
             "outlinewidth": 0,
             "ticks": ""
            },
            "type": "contourcarpet"
           }
          ],
          "heatmap": [
           {
            "colorbar": {
             "outlinewidth": 0,
             "ticks": ""
            },
            "colorscale": [
             [
              0,
              "#0d0887"
             ],
             [
              0.1111111111111111,
              "#46039f"
             ],
             [
              0.2222222222222222,
              "#7201a8"
             ],
             [
              0.3333333333333333,
              "#9c179e"
             ],
             [
              0.4444444444444444,
              "#bd3786"
             ],
             [
              0.5555555555555556,
              "#d8576b"
             ],
             [
              0.6666666666666666,
              "#ed7953"
             ],
             [
              0.7777777777777778,
              "#fb9f3a"
             ],
             [
              0.8888888888888888,
              "#fdca26"
             ],
             [
              1,
              "#f0f921"
             ]
            ],
            "type": "heatmap"
           }
          ],
          "heatmapgl": [
           {
            "colorbar": {
             "outlinewidth": 0,
             "ticks": ""
            },
            "colorscale": [
             [
              0,
              "#0d0887"
             ],
             [
              0.1111111111111111,
              "#46039f"
             ],
             [
              0.2222222222222222,
              "#7201a8"
             ],
             [
              0.3333333333333333,
              "#9c179e"
             ],
             [
              0.4444444444444444,
              "#bd3786"
             ],
             [
              0.5555555555555556,
              "#d8576b"
             ],
             [
              0.6666666666666666,
              "#ed7953"
             ],
             [
              0.7777777777777778,
              "#fb9f3a"
             ],
             [
              0.8888888888888888,
              "#fdca26"
             ],
             [
              1,
              "#f0f921"
             ]
            ],
            "type": "heatmapgl"
           }
          ],
          "histogram": [
           {
            "marker": {
             "pattern": {
              "fillmode": "overlay",
              "size": 10,
              "solidity": 0.2
             }
            },
            "type": "histogram"
           }
          ],
          "histogram2d": [
           {
            "colorbar": {
             "outlinewidth": 0,
             "ticks": ""
            },
            "colorscale": [
             [
              0,
              "#0d0887"
             ],
             [
              0.1111111111111111,
              "#46039f"
             ],
             [
              0.2222222222222222,
              "#7201a8"
             ],
             [
              0.3333333333333333,
              "#9c179e"
             ],
             [
              0.4444444444444444,
              "#bd3786"
             ],
             [
              0.5555555555555556,
              "#d8576b"
             ],
             [
              0.6666666666666666,
              "#ed7953"
             ],
             [
              0.7777777777777778,
              "#fb9f3a"
             ],
             [
              0.8888888888888888,
              "#fdca26"
             ],
             [
              1,
              "#f0f921"
             ]
            ],
            "type": "histogram2d"
           }
          ],
          "histogram2dcontour": [
           {
            "colorbar": {
             "outlinewidth": 0,
             "ticks": ""
            },
            "colorscale": [
             [
              0,
              "#0d0887"
             ],
             [
              0.1111111111111111,
              "#46039f"
             ],
             [
              0.2222222222222222,
              "#7201a8"
             ],
             [
              0.3333333333333333,
              "#9c179e"
             ],
             [
              0.4444444444444444,
              "#bd3786"
             ],
             [
              0.5555555555555556,
              "#d8576b"
             ],
             [
              0.6666666666666666,
              "#ed7953"
             ],
             [
              0.7777777777777778,
              "#fb9f3a"
             ],
             [
              0.8888888888888888,
              "#fdca26"
             ],
             [
              1,
              "#f0f921"
             ]
            ],
            "type": "histogram2dcontour"
           }
          ],
          "mesh3d": [
           {
            "colorbar": {
             "outlinewidth": 0,
             "ticks": ""
            },
            "type": "mesh3d"
           }
          ],
          "parcoords": [
           {
            "line": {
             "colorbar": {
              "outlinewidth": 0,
              "ticks": ""
             }
            },
            "type": "parcoords"
           }
          ],
          "pie": [
           {
            "automargin": true,
            "type": "pie"
           }
          ],
          "scatter": [
           {
            "fillpattern": {
             "fillmode": "overlay",
             "size": 10,
             "solidity": 0.2
            },
            "type": "scatter"
           }
          ],
          "scatter3d": [
           {
            "line": {
             "colorbar": {
              "outlinewidth": 0,
              "ticks": ""
             }
            },
            "marker": {
             "colorbar": {
              "outlinewidth": 0,
              "ticks": ""
             }
            },
            "type": "scatter3d"
           }
          ],
          "scattercarpet": [
           {
            "marker": {
             "colorbar": {
              "outlinewidth": 0,
              "ticks": ""
             }
            },
            "type": "scattercarpet"
           }
          ],
          "scattergeo": [
           {
            "marker": {
             "colorbar": {
              "outlinewidth": 0,
              "ticks": ""
             }
            },
            "type": "scattergeo"
           }
          ],
          "scattergl": [
           {
            "marker": {
             "colorbar": {
              "outlinewidth": 0,
              "ticks": ""
             }
            },
            "type": "scattergl"
           }
          ],
          "scattermapbox": [
           {
            "marker": {
             "colorbar": {
              "outlinewidth": 0,
              "ticks": ""
             }
            },
            "type": "scattermapbox"
           }
          ],
          "scatterpolar": [
           {
            "marker": {
             "colorbar": {
              "outlinewidth": 0,
              "ticks": ""
             }
            },
            "type": "scatterpolar"
           }
          ],
          "scatterpolargl": [
           {
            "marker": {
             "colorbar": {
              "outlinewidth": 0,
              "ticks": ""
             }
            },
            "type": "scatterpolargl"
           }
          ],
          "scatterternary": [
           {
            "marker": {
             "colorbar": {
              "outlinewidth": 0,
              "ticks": ""
             }
            },
            "type": "scatterternary"
           }
          ],
          "surface": [
           {
            "colorbar": {
             "outlinewidth": 0,
             "ticks": ""
            },
            "colorscale": [
             [
              0,
              "#0d0887"
             ],
             [
              0.1111111111111111,
              "#46039f"
             ],
             [
              0.2222222222222222,
              "#7201a8"
             ],
             [
              0.3333333333333333,
              "#9c179e"
             ],
             [
              0.4444444444444444,
              "#bd3786"
             ],
             [
              0.5555555555555556,
              "#d8576b"
             ],
             [
              0.6666666666666666,
              "#ed7953"
             ],
             [
              0.7777777777777778,
              "#fb9f3a"
             ],
             [
              0.8888888888888888,
              "#fdca26"
             ],
             [
              1,
              "#f0f921"
             ]
            ],
            "type": "surface"
           }
          ],
          "table": [
           {
            "cells": {
             "fill": {
              "color": "#EBF0F8"
             },
             "line": {
              "color": "white"
             }
            },
            "header": {
             "fill": {
              "color": "#C8D4E3"
             },
             "line": {
              "color": "white"
             }
            },
            "type": "table"
           }
          ]
         },
         "layout": {
          "annotationdefaults": {
           "arrowcolor": "#2a3f5f",
           "arrowhead": 0,
           "arrowwidth": 1
          },
          "autotypenumbers": "strict",
          "coloraxis": {
           "colorbar": {
            "outlinewidth": 0,
            "ticks": ""
           }
          },
          "colorscale": {
           "diverging": [
            [
             0,
             "#8e0152"
            ],
            [
             0.1,
             "#c51b7d"
            ],
            [
             0.2,
             "#de77ae"
            ],
            [
             0.3,
             "#f1b6da"
            ],
            [
             0.4,
             "#fde0ef"
            ],
            [
             0.5,
             "#f7f7f7"
            ],
            [
             0.6,
             "#e6f5d0"
            ],
            [
             0.7,
             "#b8e186"
            ],
            [
             0.8,
             "#7fbc41"
            ],
            [
             0.9,
             "#4d9221"
            ],
            [
             1,
             "#276419"
            ]
           ],
           "sequential": [
            [
             0,
             "#0d0887"
            ],
            [
             0.1111111111111111,
             "#46039f"
            ],
            [
             0.2222222222222222,
             "#7201a8"
            ],
            [
             0.3333333333333333,
             "#9c179e"
            ],
            [
             0.4444444444444444,
             "#bd3786"
            ],
            [
             0.5555555555555556,
             "#d8576b"
            ],
            [
             0.6666666666666666,
             "#ed7953"
            ],
            [
             0.7777777777777778,
             "#fb9f3a"
            ],
            [
             0.8888888888888888,
             "#fdca26"
            ],
            [
             1,
             "#f0f921"
            ]
           ],
           "sequentialminus": [
            [
             0,
             "#0d0887"
            ],
            [
             0.1111111111111111,
             "#46039f"
            ],
            [
             0.2222222222222222,
             "#7201a8"
            ],
            [
             0.3333333333333333,
             "#9c179e"
            ],
            [
             0.4444444444444444,
             "#bd3786"
            ],
            [
             0.5555555555555556,
             "#d8576b"
            ],
            [
             0.6666666666666666,
             "#ed7953"
            ],
            [
             0.7777777777777778,
             "#fb9f3a"
            ],
            [
             0.8888888888888888,
             "#fdca26"
            ],
            [
             1,
             "#f0f921"
            ]
           ]
          },
          "colorway": [
           "#636efa",
           "#EF553B",
           "#00cc96",
           "#ab63fa",
           "#FFA15A",
           "#19d3f3",
           "#FF6692",
           "#B6E880",
           "#FF97FF",
           "#FECB52"
          ],
          "font": {
           "color": "#2a3f5f"
          },
          "geo": {
           "bgcolor": "white",
           "lakecolor": "white",
           "landcolor": "#E5ECF6",
           "showlakes": true,
           "showland": true,
           "subunitcolor": "white"
          },
          "hoverlabel": {
           "align": "left"
          },
          "hovermode": "closest",
          "mapbox": {
           "style": "light"
          },
          "paper_bgcolor": "white",
          "plot_bgcolor": "#E5ECF6",
          "polar": {
           "angularaxis": {
            "gridcolor": "white",
            "linecolor": "white",
            "ticks": ""
           },
           "bgcolor": "#E5ECF6",
           "radialaxis": {
            "gridcolor": "white",
            "linecolor": "white",
            "ticks": ""
           }
          },
          "scene": {
           "xaxis": {
            "backgroundcolor": "#E5ECF6",
            "gridcolor": "white",
            "gridwidth": 2,
            "linecolor": "white",
            "showbackground": true,
            "ticks": "",
            "zerolinecolor": "white"
           },
           "yaxis": {
            "backgroundcolor": "#E5ECF6",
            "gridcolor": "white",
            "gridwidth": 2,
            "linecolor": "white",
            "showbackground": true,
            "ticks": "",
            "zerolinecolor": "white"
           },
           "zaxis": {
            "backgroundcolor": "#E5ECF6",
            "gridcolor": "white",
            "gridwidth": 2,
            "linecolor": "white",
            "showbackground": true,
            "ticks": "",
            "zerolinecolor": "white"
           }
          },
          "shapedefaults": {
           "line": {
            "color": "#2a3f5f"
           }
          },
          "ternary": {
           "aaxis": {
            "gridcolor": "white",
            "linecolor": "white",
            "ticks": ""
           },
           "baxis": {
            "gridcolor": "white",
            "linecolor": "white",
            "ticks": ""
           },
           "bgcolor": "#E5ECF6",
           "caxis": {
            "gridcolor": "white",
            "linecolor": "white",
            "ticks": ""
           }
          },
          "title": {
           "x": 0.05
          },
          "xaxis": {
           "automargin": true,
           "gridcolor": "white",
           "linecolor": "white",
           "ticks": "",
           "title": {
            "standoff": 15
           },
           "zerolinecolor": "white",
           "zerolinewidth": 2
          },
          "yaxis": {
           "automargin": true,
           "gridcolor": "white",
           "linecolor": "white",
           "ticks": "",
           "title": {
            "standoff": 15
           },
           "zerolinecolor": "white",
           "zerolinewidth": 2
          }
         }
        },
        "title": {
         "text": "Stock Price"
        },
        "xaxis": {
         "anchor": "y",
         "autorange": true,
         "domain": [
          0,
          1
         ],
         "gridcolor": "lightgray",
         "range": [
          "2010-07-30",
          "2023-02-15"
         ],
         "showgrid": false,
         "title": {
          "text": "x"
         },
         "type": "date"
        },
        "yaxis": {
         "anchor": "x",
         "autorange": true,
         "domain": [
          0,
          1
         ],
         "gridcolor": "lightgray",
         "range": [
          -58.92444444444445,
          1509.1644444444444
         ],
         "tickformat": "$",
         "title": {
          "text": "Price"
         },
         "type": "linear"
        }
       }
      },
      "image/png": "[encoded data removed]",
      "text/html": [
       "<div>                            <div id=\"b80b9126-28e2-408a-b3f0-aefe2f6c15e2\" class=\"plotly-graph-div\" style=\"height:525px; width:100%;\"></div>            <script type=\"text/javascript\">                require([\"plotly\"], function(Plotly) {                    window.PLOTLYENV=window.PLOTLYENV || {};                                    if (document.getElementById(\"b80b9126-28e2-408a-b3f0-aefe2f6c15e2\")) {                    Plotly.newPlot(                        \"b80b9126-28e2-408a-b3f0-aefe2f6c15e2\",                        [{\"hovertemplate\":\"x=%{x}<br>y=%{y}<extra></extra>\",\"legendgroup\":\"\",\"line\":{\"color\":\"#636efa\",\"dash\":\"solid\"},\"marker\":{\"symbol\":\"circle\"},\"mode\":\"lines\",\"name\":\"\",\"orientation\":\"v\",\"showlegend\":false,\"x\":[\"2023-02-15T00:00:00\",\"2023-01-31T00:00:00\",\"2022-12-30T00:00:00\",\"2022-11-30T00:00:00\",\"2022-10-31T00:00:00\",\"2022-09-30T00:00:00\",\"2022-08-31T00:00:00\",\"2022-07-29T00:00:00\",\"2022-06-30T00:00:00\",\"2022-05-31T00:00:00\",\"2022-04-29T00:00:00\",\"2022-03-31T00:00:00\",\"2022-02-28T00:00:00\",\"2022-01-31T00:00:00\",\"2021-12-31T00:00:00\",\"2021-11-30T00:00:00\",\"2021-10-29T00:00:00\",\"2021-09-30T00:00:00\",\"2021-08-31T00:00:00\",\"2021-07-30T00:00:00\",\"2021-06-30T00:00:00\",\"2021-05-28T00:00:00\",\"2021-04-30T00:00:00\",\"2021-03-31T00:00:00\",\"2021-02-26T00:00:00\",\"2021-01-29T00:00:00\",\"2020-12-31T00:00:00\",\"2020-11-30T00:00:00\",\"2020-10-30T00:00:00\",\"2020-09-30T00:00:00\",\"2020-08-31T00:00:00\",\"2020-07-31T00:00:00\",\"2020-06-30T00:00:00\",\"2020-05-29T00:00:00\",\"2020-04-30T00:00:00\",\"2020-03-31T00:00:00\",\"2020-02-28T00:00:00\",\"2020-01-31T00:00:00\",\"2019-12-31T00:00:00\",\"2019-11-29T00:00:00\",\"2019-10-31T00:00:00\",\"2019-09-30T00:00:00\",\"2019-08-30T00:00:00\",\"2019-07-31T00:00:00\",\"2019-06-28T00:00:00\",\"2019-05-31T00:00:00\",\"2019-04-30T00:00:00\",\"2019-03-29T00:00:00\",\"2019-02-28T00:00:00\",\"2019-01-31T00:00:00\",\"2018-12-31T00:00:00\",\"2018-11-30T00:00:00\",\"2018-10-31T00:00:00\",\"2018-09-28T00:00:00\",\"2018-08-31T00:00:00\",\"2018-07-31T00:00:00\",\"2018-06-29T00:00:00\",\"2018-05-31T00:00:00\",\"2018-04-30T00:00:00\",\"2018-03-29T00:00:00\",\"2018-02-28T00:00:00\",\"2018-01-31T00:00:00\",\"2017-12-29T00:00:00\",\"2017-11-30T00:00:00\",\"2017-10-31T00:00:00\",\"2017-09-29T00:00:00\",\"2017-08-31T00:00:00\",\"2017-07-31T00:00:00\",\"2017-06-30T00:00:00\",\"2017-05-31T00:00:00\",\"2017-04-28T00:00:00\",\"2017-03-31T00:00:00\",\"2017-02-28T00:00:00\",\"2017-01-31T00:00:00\",\"2016-12-30T00:00:00\",\"2016-11-30T00:00:00\",\"2016-10-31T00:00:00\",\"2016-09-30T00:00:00\",\"2016-08-31T00:00:00\",\"2016-07-29T00:00:00\",\"2016-06-30T00:00:00\",\"2016-05-31T00:00:00\",\"2016-04-29T00:00:00\",\"2016-03-31T00:00:00\",\"2016-02-29T00:00:00\",\"2016-01-29T00:00:00\",\"2015-12-31T00:00:00\",\"2015-11-30T00:00:00\",\"2015-10-30T00:00:00\",\"2015-09-30T00:00:00\",\"2015-08-31T00:00:00\",\"2015-07-31T00:00:00\",\"2015-06-30T00:00:00\",\"2015-05-29T00:00:00\",\"2015-04-30T00:00:00\",\"2015-03-31T00:00:00\",\"2015-02-27T00:00:00\",\"2015-01-30T00:00:00\",\"2014-12-31T00:00:00\",\"2014-11-28T00:00:00\",\"2014-10-31T00:00:00\",\"2014-09-30T00:00:00\",\"2014-08-29T00:00:00\",\"2014-07-31T00:00:00\",\"2014-06-30T00:00:00\",\"2014-05-30T00:00:00\",\"2014-04-30T00:00:00\",\"2014-03-31T00:00:00\",\"2014-02-28T00:00:00\",\"2014-01-31T00:00:00\",\"2013-12-31T00:00:00\",\"2013-11-29T00:00:00\",\"2013-10-31T00:00:00\",\"2013-09-30T00:00:00\",\"2013-08-30T00:00:00\",\"2013-07-31T00:00:00\",\"2013-06-28T00:00:00\",\"2013-05-31T00:00:00\",\"2013-04-30T00:00:00\",\"2013-03-28T00:00:00\",\"2013-02-28T00:00:00\",\"2013-01-31T00:00:00\",\"2012-12-31T00:00:00\",\"2012-11-30T00:00:00\",\"2012-10-31T00:00:00\",\"2012-09-28T00:00:00\",\"2012-08-31T00:00:00\",\"2012-07-31T00:00:00\",\"2012-06-29T00:00:00\",\"2012-05-31T00:00:00\",\"2012-04-30T00:00:00\",\"2012-03-30T00:00:00\",\"2012-02-29T00:00:00\",\"2012-01-31T00:00:00\",\"2011-12-30T00:00:00\",\"2011-11-30T00:00:00\",\"2011-10-31T00:00:00\",\"2011-09-30T00:00:00\",\"2011-08-31T00:00:00\",\"2011-07-29T00:00:00\",\"2011-06-30T00:00:00\",\"2011-05-31T00:00:00\",\"2011-04-29T00:00:00\",\"2011-03-31T00:00:00\",\"2011-02-28T00:00:00\",\"2011-01-31T00:00:00\",\"2010-12-31T00:00:00\",\"2010-11-30T00:00:00\",\"2010-10-29T00:00:00\",\"2010-09-30T00:00:00\",\"2010-08-31T00:00:00\",\"2010-07-30T00:00:00\"],\"xaxis\":\"x\",\"y\":[214.24,173.22,123.18,194.7,227.54,265.25,275.61,891.45,673.42,758.26,870.76,1077.6,870.43,936.72,1056.78,1144.76,1114.0,775.48,735.72,687.2,679.7,625.22,709.44,667.93,675.5,793.53,705.67,567.6,388.04,429.01,498.32,1430.76,1079.81,835.0,781.88,524.0,667.99,650.57,418.33,329.94,314.92,240.87,225.61,241.61,223.46,185.16,238.69,279.86,319.88,307.02,332.8,350.48,337.32,264.77,301.66,298.14,342.95,284.73,293.9,266.13,343.06,354.31,311.35,308.85,331.53,341.1,355.9,323.47,361.61,341.01,314.07,278.3,249.99,251.93,213.69,189.4,197.73,204.03,212.01,234.79,212.28,223.23,240.76,229.77,191.93,191.2,240.01,230.26,206.93,248.4,249.06,266.15,268.26,250.8,226.05,188.77,203.34,203.6,222.41,244.52,241.7,242.68,269.7,223.3,240.06,207.77,207.89,208.45,244.81,181.41,150.429,127.28,159.94,193.37,169.0,134.28,107.36,97.76,53.99,37.89,34.83,37.51,33.87,33.82,28.1314,29.28,28.52,27.42,31.29,29.5,33.13,37.24,33.41,29.07,28.56,32.74,29.37,24.39,24.74,28.17,29.13,30.14,27.6,27.75,23.89,24.1,26.63,35.33,21.84,20.405,19.48,19.94],\"yaxis\":\"y\",\"type\":\"scatter\"}],                        {\"template\":{\"data\":{\"histogram2dcontour\":[{\"type\":\"histogram2dcontour\",\"colorbar\":{\"outlinewidth\":0,\"ticks\":\"\"},\"colorscale\":[[0.0,\"#0d0887\"],[0.1111111111111111,\"#46039f\"],[0.2222222222222222,\"#7201a8\"],[0.3333333333333333,\"#9c179e\"],[0.4444444444444444,\"#bd3786\"],[0.5555555555555556,\"#d8576b\"],[0.6666666666666666,\"#ed7953\"],[0.7777777777777778,\"#fb9f3a\"],[0.8888888888888888,\"#fdca26\"],[1.0,\"#f0f921\"]]}],\"choropleth\":[{\"type\":\"choropleth\",\"colorbar\":{\"outlinewidth\":0,\"ticks\":\"\"}}],\"histogram2d\":[{\"type\":\"histogram2d\",\"colorbar\":{\"outlinewidth\":0,\"ticks\":\"\"},\"colorscale\":[[0.0,\"#0d0887\"],[0.1111111111111111,\"#46039f\"],[0.2222222222222222,\"#7201a8\"],[0.3333333333333333,\"#9c179e\"],[0.4444444444444444,\"#bd3786\"],[0.5555555555555556,\"#d8576b\"],[0.6666666666666666,\"#ed7953\"],[0.7777777777777778,\"#fb9f3a\"],[0.8888888888888888,\"#fdca26\"],[1.0,\"#f0f921\"]]}],\"heatmap\":[{\"type\":\"heatmap\",\"colorbar\":{\"outlinewidth\":0,\"ticks\":\"\"},\"colorscale\":[[0.0,\"#0d0887\"],[0.1111111111111111,\"#46039f\"],[0.2222222222222222,\"#7201a8\"],[0.3333333333333333,\"#9c179e\"],[0.4444444444444444,\"#bd3786\"],[0.5555555555555556,\"#d8576b\"],[0.6666666666666666,\"#ed7953\"],[0.7777777777777778,\"#fb9f3a\"],[0.8888888888888888,\"#fdca26\"],[1.0,\"#f0f921\"]]}],\"heatmapgl\":[{\"type\":\"heatmapgl\",\"colorbar\":{\"outlinewidth\":0,\"ticks\":\"\"},\"colorscale\":[[0.0,\"#0d0887\"],[0.1111111111111111,\"#46039f\"],[0.2222222222222222,\"#7201a8\"],[0.3333333333333333,\"#9c179e\"],[0.4444444444444444,\"#bd3786\"],[0.5555555555555556,\"#d8576b\"],[0.6666666666666666,\"#ed7953\"],[0.7777777777777778,\"#fb9f3a\"],[0.8888888888888888,\"#fdca26\"],[1.0,\"#f0f921\"]]}],\"contourcarpet\":[{\"type\":\"contourcarpet\",\"colorbar\":{\"outlinewidth\":0,\"ticks\":\"\"}}],\"contour\":[{\"type\":\"contour\",\"colorbar\":{\"outlinewidth\":0,\"ticks\":\"\"},\"colorscale\":[[0.0,\"#0d0887\"],[0.1111111111111111,\"#46039f\"],[0.2222222222222222,\"#7201a8\"],[0.3333333333333333,\"#9c179e\"],[0.4444444444444444,\"#bd3786\"],[0.5555555555555556,\"#d8576b\"],[0.6666666666666666,\"#ed7953\"],[0.7777777777777778,\"#fb9f3a\"],[0.8888888888888888,\"#fdca26\"],[1.0,\"#f0f921\"]]}],\"surface\":[{\"type\":\"surface\",\"colorbar\":{\"outlinewidth\":0,\"ticks\":\"\"},\"colorscale\":[[0.0,\"#0d0887\"],[0.1111111111111111,\"#46039f\"],[0.2222222222222222,\"#7201a8\"],[0.3333333333333333,\"#9c179e\"],[0.4444444444444444,\"#bd3786\"],[0.5555555555555556,\"#d8576b\"],[0.6666666666666666,\"#ed7953\"],[0.7777777777777778,\"#fb9f3a\"],[0.8888888888888888,\"#fdca26\"],[1.0,\"#f0f921\"]]}],\"mesh3d\":[{\"type\":\"mesh3d\",\"colorbar\":{\"outlinewidth\":0,\"ticks\":\"\"}}],\"scatter\":[{\"fillpattern\":{\"fillmode\":\"overlay\",\"size\":10,\"solidity\":0.2},\"type\":\"scatter\"}],\"parcoords\":[{\"type\":\"parcoords\",\"line\":{\"colorbar\":{\"outlinewidth\":0,\"ticks\":\"\"}}}],\"scatterpolargl\":[{\"type\":\"scatterpolargl\",\"marker\":{\"colorbar\":{\"outlinewidth\":0,\"ticks\":\"\"}}}],\"bar\":[{\"error_x\":{\"color\":\"#2a3f5f\"},\"error_y\":{\"color\":\"#2a3f5f\"},\"marker\":{\"line\":{\"color\":\"#E5ECF6\",\"width\":0.5},\"pattern\":{\"fillmode\":\"overlay\",\"size\":10,\"solidity\":0.2}},\"type\":\"bar\"}],\"scattergeo\":[{\"type\":\"scattergeo\",\"marker\":{\"colorbar\":{\"outlinewidth\":0,\"ticks\":\"\"}}}],\"scatterpolar\":[{\"type\":\"scatterpolar\",\"marker\":{\"colorbar\":{\"outlinewidth\":0,\"ticks\":\"\"}}}],\"histogram\":[{\"marker\":{\"pattern\":{\"fillmode\":\"overlay\",\"size\":10,\"solidity\":0.2}},\"type\":\"histogram\"}],\"scattergl\":[{\"type\":\"scattergl\",\"marker\":{\"colorbar\":{\"outlinewidth\":0,\"ticks\":\"\"}}}],\"scatter3d\":[{\"type\":\"scatter3d\",\"line\":{\"colorbar\":{\"outlinewidth\":0,\"ticks\":\"\"}},\"marker\":{\"colorbar\":{\"outlinewidth\":0,\"ticks\":\"\"}}}],\"scattermapbox\":[{\"type\":\"scattermapbox\",\"marker\":{\"colorbar\":{\"outlinewidth\":0,\"ticks\":\"\"}}}],\"scatterternary\":[{\"type\":\"scatterternary\",\"marker\":{\"colorbar\":{\"outlinewidth\":0,\"ticks\":\"\"}}}],\"scattercarpet\":[{\"type\":\"scattercarpet\",\"marker\":{\"colorbar\":{\"outlinewidth\":0,\"ticks\":\"\"}}}],\"carpet\":[{\"aaxis\":{\"endlinecolor\":\"#2a3f5f\",\"gridcolor\":\"white\",\"linecolor\":\"white\",\"minorgridcolor\":\"white\",\"startlinecolor\":\"#2a3f5f\"},\"baxis\":{\"endlinecolor\":\"#2a3f5f\",\"gridcolor\":\"white\",\"linecolor\":\"white\",\"minorgridcolor\":\"white\",\"startlinecolor\":\"#2a3f5f\"},\"type\":\"carpet\"}],\"table\":[{\"cells\":{\"fill\":{\"color\":\"#EBF0F8\"},\"line\":{\"color\":\"white\"}},\"header\":{\"fill\":{\"color\":\"#C8D4E3\"},\"line\":{\"color\":\"white\"}},\"type\":\"table\"}],\"barpolar\":[{\"marker\":{\"line\":{\"color\":\"#E5ECF6\",\"width\":0.5},\"pattern\":{\"fillmode\":\"overlay\",\"size\":10,\"solidity\":0.2}},\"type\":\"barpolar\"}],\"pie\":[{\"automargin\":true,\"type\":\"pie\"}]},\"layout\":{\"autotypenumbers\":\"strict\",\"colorway\":[\"#636efa\",\"#EF553B\",\"#00cc96\",\"#ab63fa\",\"#FFA15A\",\"#19d3f3\",\"#FF6692\",\"#B6E880\",\"#FF97FF\",\"#FECB52\"],\"font\":{\"color\":\"#2a3f5f\"},\"hovermode\":\"closest\",\"hoverlabel\":{\"align\":\"left\"},\"paper_bgcolor\":\"white\",\"plot_bgcolor\":\"#E5ECF6\",\"polar\":{\"bgcolor\":\"#E5ECF6\",\"angularaxis\":{\"gridcolor\":\"white\",\"linecolor\":\"white\",\"ticks\":\"\"},\"radialaxis\":{\"gridcolor\":\"white\",\"linecolor\":\"white\",\"ticks\":\"\"}},\"ternary\":{\"bgcolor\":\"#E5ECF6\",\"aaxis\":{\"gridcolor\":\"white\",\"linecolor\":\"white\",\"ticks\":\"\"},\"baxis\":{\"gridcolor\":\"white\",\"linecolor\":\"white\",\"ticks\":\"\"},\"caxis\":{\"gridcolor\":\"white\",\"linecolor\":\"white\",\"ticks\":\"\"}},\"coloraxis\":{\"colorbar\":{\"outlinewidth\":0,\"ticks\":\"\"}},\"colorscale\":{\"sequential\":[[0.0,\"#0d0887\"],[0.1111111111111111,\"#46039f\"],[0.2222222222222222,\"#7201a8\"],[0.3333333333333333,\"#9c179e\"],[0.4444444444444444,\"#bd3786\"],[0.5555555555555556,\"#d8576b\"],[0.6666666666666666,\"#ed7953\"],[0.7777777777777778,\"#fb9f3a\"],[0.8888888888888888,\"#fdca26\"],[1.0,\"#f0f921\"]],\"sequentialminus\":[[0.0,\"#0d0887\"],[0.1111111111111111,\"#46039f\"],[0.2222222222222222,\"#7201a8\"],[0.3333333333333333,\"#9c179e\"],[0.4444444444444444,\"#bd3786\"],[0.5555555555555556,\"#d8576b\"],[0.6666666666666666,\"#ed7953\"],[0.7777777777777778,\"#fb9f3a\"],[0.8888888888888888,\"#fdca26\"],[1.0,\"#f0f921\"]],\"diverging\":[[0,\"#8e0152\"],[0.1,\"#c51b7d\"],[0.2,\"#de77ae\"],[0.3,\"#f1b6da\"],[0.4,\"#fde0ef\"],[0.5,\"#f7f7f7\"],[0.6,\"#e6f5d0\"],[0.7,\"#b8e186\"],[0.8,\"#7fbc41\"],[0.9,\"#4d9221\"],[1,\"#276419\"]]},\"xaxis\":{\"gridcolor\":\"white\",\"linecolor\":\"white\",\"ticks\":\"\",\"title\":{\"standoff\":15},\"zerolinecolor\":\"white\",\"automargin\":true,\"zerolinewidth\":2},\"yaxis\":{\"gridcolor\":\"white\",\"linecolor\":\"white\",\"ticks\":\"\",\"title\":{\"standoff\":15},\"zerolinecolor\":\"white\",\"automargin\":true,\"zerolinewidth\":2},\"scene\":{\"xaxis\":{\"backgroundcolor\":\"#E5ECF6\",\"gridcolor\":\"white\",\"linecolor\":\"white\",\"showbackground\":true,\"ticks\":\"\",\"zerolinecolor\":\"white\",\"gridwidth\":2},\"yaxis\":{\"backgroundcolor\":\"#E5ECF6\",\"gridcolor\":\"white\",\"linecolor\":\"white\",\"showbackground\":true,\"ticks\":\"\",\"zerolinecolor\":\"white\",\"gridwidth\":2},\"zaxis\":{\"backgroundcolor\":\"#E5ECF6\",\"gridcolor\":\"white\",\"linecolor\":\"white\",\"showbackground\":true,\"ticks\":\"\",\"zerolinecolor\":\"white\",\"gridwidth\":2}},\"shapedefaults\":{\"line\":{\"color\":\"#2a3f5f\"}},\"annotationdefaults\":{\"arrowcolor\":\"#2a3f5f\",\"arrowhead\":0,\"arrowwidth\":1},\"geo\":{\"bgcolor\":\"white\",\"landcolor\":\"#E5ECF6\",\"subunitcolor\":\"white\",\"showland\":true,\"showlakes\":true,\"lakecolor\":\"white\"},\"title\":{\"x\":0.05},\"mapbox\":{\"style\":\"light\"}}},\"xaxis\":{\"anchor\":\"y\",\"domain\":[0.0,1.0],\"title\":{\"text\":\"x\"},\"showgrid\":false,\"gridcolor\":\"lightgray\"},\"yaxis\":{\"anchor\":\"x\",\"domain\":[0.0,1.0],\"title\":{\"text\":\"Price\"},\"tickformat\":\"$\",\"gridcolor\":\"lightgray\"},\"legend\":{\"tracegroupgap\":0},\"title\":{\"text\":\"Stock Price\"},\"plot_bgcolor\":\"rgb(255, 255, 255)\"},                        {\"responsive\": true}                    ).then(function(){\n",
       "                            \n",
       "var gd = document.getElementById('b80b9126-28e2-408a-b3f0-aefe2f6c15e2');\n",
       "var x = new MutationObserver(function (mutations, observer) {{\n",
       "        var display = window.getComputedStyle(gd).display;\n",
       "        if (!display || display === 'none') {{\n",
       "            console.log([gd, 'removed!']);\n",
       "            Plotly.purge(gd);\n",
       "            observer.disconnect();\n",
       "        }}\n",
       "}});\n",
       "\n",
       "// Listen for the removal of the full notebook cells\n",
       "var notebookContainer = gd.closest('#notebook-container');\n",
       "if (notebookContainer) {{\n",
       "    x.observe(notebookContainer, {childList: true});\n",
       "}}\n",
       "\n",
       "// Listen for the clearing of the current output cell\n",
       "var outputEl = gd.closest('.output');\n",
       "if (outputEl) {{\n",
       "    x.observe(outputEl, {childList: true});\n",
       "}}\n",
       "\n",
       "                        })                };                });            </script>        </div>"
      ]
     },
     "metadata": {},
     "output_type": "display_data"
    }
   ],
   "source": [
    "priceTracker = px.line(x = date, y = stock_Price, title = \"Stock Price over time\" )\n",
    "\n",
    "\n",
    "priceTracker.update_layout(\n",
    "    title='Stock Price',\n",
    "    yaxis_tickformat='$',\n",
    "    yaxis_title='Price',\n",
    "    xaxis_showgrid=False,   # Set the x-axis grid lines to show\n",
    "    # yaxis_showgrid=False,   # Set the y-axis grid lines to show\n",
    "    xaxis_gridcolor='lightgray',  # Set the x-axis grid color\n",
    "    yaxis_gridcolor='lightgray',  # Set the y-axis grid color\n",
    "    plot_bgcolor='rgb(255, 255, 255)',  # Set the background color to white\n",
    ")\n"
   ]
  },
  {
   "cell_type": "code",
   "execution_count": 57,
   "id": "ec361aae-986e-4d1b-881d-e2e380d0c3b3",
   "metadata": {},
   "outputs": [
    {
     "data": {
      "application/vnd.plotly.v1+json": {
       "config": {
        "plotlyServerURL": "https://plot.ly"
       },
       "data": [
        {
         "hovertemplate": "x=%{x}<br>y=%{y}<br>size=%{marker.size}<extra></extra>",
         "legendgroup": "",
         "marker": {
          "color": "#636efa",
          "size": [
           0,
           76.52,
           24.46,
           35.96,
           7.95,
           25.17,
           43.45,
           20.78,
           15.31,
           3.22,
           22.39,
           14.15,
           19.42,
           37.75,
           20.08,
           26.74,
           18.2,
           26.23,
           2.13,
           17.25,
           16.04,
           20.31,
           8.54,
           38.75,
           44.89,
           36.01,
           69.32,
           34.63,
           6.75,
           108.29,
           76.77,
           6.27,
           32.34,
           6.59,
           39.88,
           10.31,
           12.5,
           13.91,
           49.12,
           23.87,
           48.75,
           41.85,
           1.81,
           48.69,
           7.82,
           31.46,
           18.34,
           7.35,
           39.87,
           36.65,
           16.63,
           9.17,
           115.28,
           31.53,
           41.46,
           37.86,
           23.83,
           27.1,
           22.35,
           17.86,
           31.84,
           15.34,
           11.27,
           34.52,
           17.18,
           8.97,
           19.88,
           35.85,
           2.02,
           20.87,
           20.07,
           7.91,
           11.67,
           15.77,
           12.6,
           12.38,
           6.83,
           23.32,
           11.82,
           18.91,
           64.29,
           15.1,
           31.16,
           24.19,
           30.15,
           40.73,
           24.47,
           31.14,
           28.5,
           20.46,
           41.94,
           29.68,
           18.22,
           36.13,
           11.01,
           24.3,
           13.23,
           15.55,
           41.03,
           15.24,
           41.23,
           12.73,
           13.6,
           5.96,
           14.25,
           9.39,
           22.55,
           0.89,
           35.56,
           18.6,
           7.45,
           56.04,
           16.19,
           33.76,
           51.43,
           11.47,
           21.96,
           84.92,
           75.38,
           63.63,
           49.24,
           35.68,
           23.71,
           9.43,
           25.84,
           88.95,
           26.47,
           32.93,
           19.72,
           30.84,
           33.44,
           2.59,
           4.65,
           10.42,
           17.5,
           22.33,
           16.19,
           16.81,
           51.02,
           22.46,
           88.26,
           23.61,
           1.5,
           8.93,
           10.01,
           3.01,
           29.81,
           23.25,
           76.88,
           175.6,
           16.67,
           329.41
          ],
          "sizemode": "area",
          "sizeref": 0.8235250000000001,
          "symbol": "circle"
         },
         "mode": "markers",
         "name": "",
         "orientation": "v",
         "showlegend": false,
         "type": "scatter",
         "x": [
          "2023-02-15T00:00:00",
          "2023-01-31T00:00:00",
          "2022-12-30T00:00:00",
          "2022-11-30T00:00:00",
          "2022-10-31T00:00:00",
          "2022-09-30T00:00:00",
          "2022-08-31T00:00:00",
          "2022-07-29T00:00:00",
          "2022-06-30T00:00:00",
          "2022-05-31T00:00:00",
          "2022-04-29T00:00:00",
          "2022-03-31T00:00:00",
          "2022-02-28T00:00:00",
          "2022-01-31T00:00:00",
          "2021-12-31T00:00:00",
          "2021-11-30T00:00:00",
          "2021-10-29T00:00:00",
          "2021-09-30T00:00:00",
          "2021-08-31T00:00:00",
          "2021-07-30T00:00:00",
          "2021-06-30T00:00:00",
          "2021-05-28T00:00:00",
          "2021-04-30T00:00:00",
          "2021-03-31T00:00:00",
          "2021-02-26T00:00:00",
          "2021-01-29T00:00:00",
          "2020-12-31T00:00:00",
          "2020-11-30T00:00:00",
          "2020-10-30T00:00:00",
          "2020-09-30T00:00:00",
          "2020-08-31T00:00:00",
          "2020-07-31T00:00:00",
          "2020-06-30T00:00:00",
          "2020-05-29T00:00:00",
          "2020-04-30T00:00:00",
          "2020-03-31T00:00:00",
          "2020-02-28T00:00:00",
          "2020-01-31T00:00:00",
          "2019-12-31T00:00:00",
          "2019-11-29T00:00:00",
          "2019-10-31T00:00:00",
          "2019-09-30T00:00:00",
          "2019-08-30T00:00:00",
          "2019-07-31T00:00:00",
          "2019-06-28T00:00:00",
          "2019-05-31T00:00:00",
          "2019-04-30T00:00:00",
          "2019-03-29T00:00:00",
          "2019-02-28T00:00:00",
          "2019-01-31T00:00:00",
          "2018-12-31T00:00:00",
          "2018-11-30T00:00:00",
          "2018-10-31T00:00:00",
          "2018-09-28T00:00:00",
          "2018-08-31T00:00:00",
          "2018-07-31T00:00:00",
          "2018-06-29T00:00:00",
          "2018-05-31T00:00:00",
          "2018-04-30T00:00:00",
          "2018-03-29T00:00:00",
          "2018-02-28T00:00:00",
          "2018-01-31T00:00:00",
          "2017-12-29T00:00:00",
          "2017-11-30T00:00:00",
          "2017-10-31T00:00:00",
          "2017-09-29T00:00:00",
          "2017-08-31T00:00:00",
          "2017-07-31T00:00:00",
          "2017-06-30T00:00:00",
          "2017-05-31T00:00:00",
          "2017-04-28T00:00:00",
          "2017-03-31T00:00:00",
          "2017-02-28T00:00:00",
          "2017-01-31T00:00:00",
          "2016-12-30T00:00:00",
          "2016-11-30T00:00:00",
          "2016-10-31T00:00:00",
          "2016-09-30T00:00:00",
          "2016-08-31T00:00:00",
          "2016-07-29T00:00:00",
          "2016-06-30T00:00:00",
          "2016-05-31T00:00:00",
          "2016-04-29T00:00:00",
          "2016-03-31T00:00:00",
          "2016-02-29T00:00:00",
          "2016-01-29T00:00:00",
          "2015-12-31T00:00:00",
          "2015-11-30T00:00:00",
          "2015-10-30T00:00:00",
          "2015-09-30T00:00:00",
          "2015-08-31T00:00:00",
          "2015-07-31T00:00:00",
          "2015-06-30T00:00:00",
          "2015-05-29T00:00:00",
          "2015-04-30T00:00:00",
          "2015-03-31T00:00:00",
          "2015-02-27T00:00:00",
          "2015-01-30T00:00:00",
          "2014-12-31T00:00:00",
          "2014-11-28T00:00:00",
          "2014-10-31T00:00:00",
          "2014-09-30T00:00:00",
          "2014-08-29T00:00:00",
          "2014-07-31T00:00:00",
          "2014-06-30T00:00:00",
          "2014-05-30T00:00:00",
          "2014-04-30T00:00:00",
          "2014-03-31T00:00:00",
          "2014-02-28T00:00:00",
          "2014-01-31T00:00:00",
          "2013-12-31T00:00:00",
          "2013-11-29T00:00:00",
          "2013-10-31T00:00:00",
          "2013-09-30T00:00:00",
          "2013-08-30T00:00:00",
          "2013-07-31T00:00:00",
          "2013-06-28T00:00:00",
          "2013-05-31T00:00:00",
          "2013-04-30T00:00:00",
          "2013-03-28T00:00:00",
          "2013-02-28T00:00:00",
          "2013-01-31T00:00:00",
          "2012-12-31T00:00:00",
          "2012-11-30T00:00:00",
          "2012-10-31T00:00:00",
          "2012-09-28T00:00:00",
          "2012-08-31T00:00:00",
          "2012-07-31T00:00:00",
          "2012-06-29T00:00:00",
          "2012-05-31T00:00:00",
          "2012-04-30T00:00:00",
          "2012-03-30T00:00:00",
          "2012-02-29T00:00:00",
          "2012-01-31T00:00:00",
          "2011-12-30T00:00:00",
          "2011-11-30T00:00:00",
          "2011-10-31T00:00:00",
          "2011-09-30T00:00:00",
          "2011-08-31T00:00:00",
          "2011-07-29T00:00:00",
          "2011-06-30T00:00:00",
          "2011-05-31T00:00:00",
          "2011-04-29T00:00:00",
          "2011-03-31T00:00:00",
          "2011-02-28T00:00:00",
          "2011-01-31T00:00:00",
          "2010-12-31T00:00:00",
          "2010-11-30T00:00:00",
          "2010-10-29T00:00:00",
          "2010-09-30T00:00:00",
          "2010-08-31T00:00:00",
          "2010-07-30T00:00:00"
         ],
         "xaxis": "x",
         "y": [
          0,
          76.52,
          -24.46,
          -35.96,
          -7.95,
          -25.17,
          -43.45,
          -20.78,
          15.31,
          -3.22,
          -22.39,
          14.15,
          -19.42,
          37.75,
          -20.08,
          26.74,
          -18.2,
          -26.23,
          -2.13,
          17.25,
          16.04,
          20.31,
          8.54,
          38.75,
          -44.89,
          36.01,
          69.32,
          -34.63,
          6.75,
          108.29,
          -76.77,
          -6.27,
          -32.34,
          6.59,
          39.88,
          10.31,
          12.5,
          -13.91,
          -49.12,
          -23.87,
          48.75,
          -41.85,
          -1.81,
          48.69,
          7.82,
          31.46,
          -18.34,
          -7.35,
          -39.87,
          36.65,
          -16.63,
          -9.17,
          115.28,
          -31.53,
          41.46,
          -37.86,
          23.83,
          -27.1,
          22.35,
          -17.86,
          -31.84,
          15.34,
          -11.27,
          34.52,
          -17.18,
          -8.97,
          19.88,
          35.85,
          2.02,
          -20.87,
          -20.07,
          -7.91,
          11.67,
          -15.77,
          -12.6,
          12.38,
          -6.83,
          -23.32,
          -11.82,
          18.91,
          64.29,
          -15.1,
          31.16,
          -24.19,
          30.15,
          -40.73,
          -24.47,
          31.14,
          28.5,
          -20.46,
          41.94,
          -29.68,
          -18.22,
          36.13,
          11.01,
          24.3,
          -13.23,
          -15.55,
          41.03,
          -15.24,
          41.23,
          -12.73,
          -13.6,
          -5.96,
          14.25,
          9.39,
          22.55,
          0.89,
          35.56,
          -18.6,
          7.45,
          56.04,
          -16.19,
          -33.76,
          51.43,
          -11.47,
          -21.96,
          84.92,
          -75.38,
          -63.63,
          49.24,
          -35.68,
          -23.71,
          9.43,
          -25.84,
          88.95,
          -26.47,
          32.93,
          -19.72,
          30.84,
          -33.44,
          -2.59,
          4.65,
          10.42,
          -17.5,
          22.33,
          -16.19,
          -16.81,
          51.02,
          -22.46,
          88.26,
          -23.61,
          -1.5,
          8.93,
          -10.01,
          -3.01,
          29.81,
          -23.25,
          -76.88,
          175.6,
          -16.67,
          329.41
         ],
         "yaxis": "y"
        }
       ],
       "layout": {
        "autosize": true,
        "legend": {
         "itemsizing": "constant",
         "tracegroupgap": 0
        },
        "plot_bgcolor": "rgb(255, 255, 255)",
        "template": {
         "data": {
          "bar": [
           {
            "error_x": {
             "color": "#2a3f5f"
            },
            "error_y": {
             "color": "#2a3f5f"
            },
            "marker": {
             "line": {
              "color": "#E5ECF6",
              "width": 0.5
             },
             "pattern": {
              "fillmode": "overlay",
              "size": 10,
              "solidity": 0.2
             }
            },
            "type": "bar"
           }
          ],
          "barpolar": [
           {
            "marker": {
             "line": {
              "color": "#E5ECF6",
              "width": 0.5
             },
             "pattern": {
              "fillmode": "overlay",
              "size": 10,
              "solidity": 0.2
             }
            },
            "type": "barpolar"
           }
          ],
          "carpet": [
           {
            "aaxis": {
             "endlinecolor": "#2a3f5f",
             "gridcolor": "white",
             "linecolor": "white",
             "minorgridcolor": "white",
             "startlinecolor": "#2a3f5f"
            },
            "baxis": {
             "endlinecolor": "#2a3f5f",
             "gridcolor": "white",
             "linecolor": "white",
             "minorgridcolor": "white",
             "startlinecolor": "#2a3f5f"
            },
            "type": "carpet"
           }
          ],
          "choropleth": [
           {
            "colorbar": {
             "outlinewidth": 0,
             "ticks": ""
            },
            "type": "choropleth"
           }
          ],
          "contour": [
           {
            "colorbar": {
             "outlinewidth": 0,
             "ticks": ""
            },
            "colorscale": [
             [
              0,
              "#0d0887"
             ],
             [
              0.1111111111111111,
              "#46039f"
             ],
             [
              0.2222222222222222,
              "#7201a8"
             ],
             [
              0.3333333333333333,
              "#9c179e"
             ],
             [
              0.4444444444444444,
              "#bd3786"
             ],
             [
              0.5555555555555556,
              "#d8576b"
             ],
             [
              0.6666666666666666,
              "#ed7953"
             ],
             [
              0.7777777777777778,
              "#fb9f3a"
             ],
             [
              0.8888888888888888,
              "#fdca26"
             ],
             [
              1,
              "#f0f921"
             ]
            ],
            "type": "contour"
           }
          ],
          "contourcarpet": [
           {
            "colorbar": {
             "outlinewidth": 0,
             "ticks": ""
            },
            "type": "contourcarpet"
           }
          ],
          "heatmap": [
           {
            "colorbar": {
             "outlinewidth": 0,
             "ticks": ""
            },
            "colorscale": [
             [
              0,
              "#0d0887"
             ],
             [
              0.1111111111111111,
              "#46039f"
             ],
             [
              0.2222222222222222,
              "#7201a8"
             ],
             [
              0.3333333333333333,
              "#9c179e"
             ],
             [
              0.4444444444444444,
              "#bd3786"
             ],
             [
              0.5555555555555556,
              "#d8576b"
             ],
             [
              0.6666666666666666,
              "#ed7953"
             ],
             [
              0.7777777777777778,
              "#fb9f3a"
             ],
             [
              0.8888888888888888,
              "#fdca26"
             ],
             [
              1,
              "#f0f921"
             ]
            ],
            "type": "heatmap"
           }
          ],
          "heatmapgl": [
           {
            "colorbar": {
             "outlinewidth": 0,
             "ticks": ""
            },
            "colorscale": [
             [
              0,
              "#0d0887"
             ],
             [
              0.1111111111111111,
              "#46039f"
             ],
             [
              0.2222222222222222,
              "#7201a8"
             ],
             [
              0.3333333333333333,
              "#9c179e"
             ],
             [
              0.4444444444444444,
              "#bd3786"
             ],
             [
              0.5555555555555556,
              "#d8576b"
             ],
             [
              0.6666666666666666,
              "#ed7953"
             ],
             [
              0.7777777777777778,
              "#fb9f3a"
             ],
             [
              0.8888888888888888,
              "#fdca26"
             ],
             [
              1,
              "#f0f921"
             ]
            ],
            "type": "heatmapgl"
           }
          ],
          "histogram": [
           {
            "marker": {
             "pattern": {
              "fillmode": "overlay",
              "size": 10,
              "solidity": 0.2
             }
            },
            "type": "histogram"
           }
          ],
          "histogram2d": [
           {
            "colorbar": {
             "outlinewidth": 0,
             "ticks": ""
            },
            "colorscale": [
             [
              0,
              "#0d0887"
             ],
             [
              0.1111111111111111,
              "#46039f"
             ],
             [
              0.2222222222222222,
              "#7201a8"
             ],
             [
              0.3333333333333333,
              "#9c179e"
             ],
             [
              0.4444444444444444,
              "#bd3786"
             ],
             [
              0.5555555555555556,
              "#d8576b"
             ],
             [
              0.6666666666666666,
              "#ed7953"
             ],
             [
              0.7777777777777778,
              "#fb9f3a"
             ],
             [
              0.8888888888888888,
              "#fdca26"
             ],
             [
              1,
              "#f0f921"
             ]
            ],
            "type": "histogram2d"
           }
          ],
          "histogram2dcontour": [
           {
            "colorbar": {
             "outlinewidth": 0,
             "ticks": ""
            },
            "colorscale": [
             [
              0,
              "#0d0887"
             ],
             [
              0.1111111111111111,
              "#46039f"
             ],
             [
              0.2222222222222222,
              "#7201a8"
             ],
             [
              0.3333333333333333,
              "#9c179e"
             ],
             [
              0.4444444444444444,
              "#bd3786"
             ],
             [
              0.5555555555555556,
              "#d8576b"
             ],
             [
              0.6666666666666666,
              "#ed7953"
             ],
             [
              0.7777777777777778,
              "#fb9f3a"
             ],
             [
              0.8888888888888888,
              "#fdca26"
             ],
             [
              1,
              "#f0f921"
             ]
            ],
            "type": "histogram2dcontour"
           }
          ],
          "mesh3d": [
           {
            "colorbar": {
             "outlinewidth": 0,
             "ticks": ""
            },
            "type": "mesh3d"
           }
          ],
          "parcoords": [
           {
            "line": {
             "colorbar": {
              "outlinewidth": 0,
              "ticks": ""
             }
            },
            "type": "parcoords"
           }
          ],
          "pie": [
           {
            "automargin": true,
            "type": "pie"
           }
          ],
          "scatter": [
           {
            "fillpattern": {
             "fillmode": "overlay",
             "size": 10,
             "solidity": 0.2
            },
            "type": "scatter"
           }
          ],
          "scatter3d": [
           {
            "line": {
             "colorbar": {
              "outlinewidth": 0,
              "ticks": ""
             }
            },
            "marker": {
             "colorbar": {
              "outlinewidth": 0,
              "ticks": ""
             }
            },
            "type": "scatter3d"
           }
          ],
          "scattercarpet": [
           {
            "marker": {
             "colorbar": {
              "outlinewidth": 0,
              "ticks": ""
             }
            },
            "type": "scattercarpet"
           }
          ],
          "scattergeo": [
           {
            "marker": {
             "colorbar": {
              "outlinewidth": 0,
              "ticks": ""
             }
            },
            "type": "scattergeo"
           }
          ],
          "scattergl": [
           {
            "marker": {
             "colorbar": {
              "outlinewidth": 0,
              "ticks": ""
             }
            },
            "type": "scattergl"
           }
          ],
          "scattermapbox": [
           {
            "marker": {
             "colorbar": {
              "outlinewidth": 0,
              "ticks": ""
             }
            },
            "type": "scattermapbox"
           }
          ],
          "scatterpolar": [
           {
            "marker": {
             "colorbar": {
              "outlinewidth": 0,
              "ticks": ""
             }
            },
            "type": "scatterpolar"
           }
          ],
          "scatterpolargl": [
           {
            "marker": {
             "colorbar": {
              "outlinewidth": 0,
              "ticks": ""
             }
            },
            "type": "scatterpolargl"
           }
          ],
          "scatterternary": [
           {
            "marker": {
             "colorbar": {
              "outlinewidth": 0,
              "ticks": ""
             }
            },
            "type": "scatterternary"
           }
          ],
          "surface": [
           {
            "colorbar": {
             "outlinewidth": 0,
             "ticks": ""
            },
            "colorscale": [
             [
              0,
              "#0d0887"
             ],
             [
              0.1111111111111111,
              "#46039f"
             ],
             [
              0.2222222222222222,
              "#7201a8"
             ],
             [
              0.3333333333333333,
              "#9c179e"
             ],
             [
              0.4444444444444444,
              "#bd3786"
             ],
             [
              0.5555555555555556,
              "#d8576b"
             ],
             [
              0.6666666666666666,
              "#ed7953"
             ],
             [
              0.7777777777777778,
              "#fb9f3a"
             ],
             [
              0.8888888888888888,
              "#fdca26"
             ],
             [
              1,
              "#f0f921"
             ]
            ],
            "type": "surface"
           }
          ],
          "table": [
           {
            "cells": {
             "fill": {
              "color": "#EBF0F8"
             },
             "line": {
              "color": "white"
             }
            },
            "header": {
             "fill": {
              "color": "#C8D4E3"
             },
             "line": {
              "color": "white"
             }
            },
            "type": "table"
           }
          ]
         },
         "layout": {
          "annotationdefaults": {
           "arrowcolor": "#2a3f5f",
           "arrowhead": 0,
           "arrowwidth": 1
          },
          "autotypenumbers": "strict",
          "coloraxis": {
           "colorbar": {
            "outlinewidth": 0,
            "ticks": ""
           }
          },
          "colorscale": {
           "diverging": [
            [
             0,
             "#8e0152"
            ],
            [
             0.1,
             "#c51b7d"
            ],
            [
             0.2,
             "#de77ae"
            ],
            [
             0.3,
             "#f1b6da"
            ],
            [
             0.4,
             "#fde0ef"
            ],
            [
             0.5,
             "#f7f7f7"
            ],
            [
             0.6,
             "#e6f5d0"
            ],
            [
             0.7,
             "#b8e186"
            ],
            [
             0.8,
             "#7fbc41"
            ],
            [
             0.9,
             "#4d9221"
            ],
            [
             1,
             "#276419"
            ]
           ],
           "sequential": [
            [
             0,
             "#0d0887"
            ],
            [
             0.1111111111111111,
             "#46039f"
            ],
            [
             0.2222222222222222,
             "#7201a8"
            ],
            [
             0.3333333333333333,
             "#9c179e"
            ],
            [
             0.4444444444444444,
             "#bd3786"
            ],
            [
             0.5555555555555556,
             "#d8576b"
            ],
            [
             0.6666666666666666,
             "#ed7953"
            ],
            [
             0.7777777777777778,
             "#fb9f3a"
            ],
            [
             0.8888888888888888,
             "#fdca26"
            ],
            [
             1,
             "#f0f921"
            ]
           ],
           "sequentialminus": [
            [
             0,
             "#0d0887"
            ],
            [
             0.1111111111111111,
             "#46039f"
            ],
            [
             0.2222222222222222,
             "#7201a8"
            ],
            [
             0.3333333333333333,
             "#9c179e"
            ],
            [
             0.4444444444444444,
             "#bd3786"
            ],
            [
             0.5555555555555556,
             "#d8576b"
            ],
            [
             0.6666666666666666,
             "#ed7953"
            ],
            [
             0.7777777777777778,
             "#fb9f3a"
            ],
            [
             0.8888888888888888,
             "#fdca26"
            ],
            [
             1,
             "#f0f921"
            ]
           ]
          },
          "colorway": [
           "#636efa",
           "#EF553B",
           "#00cc96",
           "#ab63fa",
           "#FFA15A",
           "#19d3f3",
           "#FF6692",
           "#B6E880",
           "#FF97FF",
           "#FECB52"
          ],
          "font": {
           "color": "#2a3f5f"
          },
          "geo": {
           "bgcolor": "white",
           "lakecolor": "white",
           "landcolor": "#E5ECF6",
           "showlakes": true,
           "showland": true,
           "subunitcolor": "white"
          },
          "hoverlabel": {
           "align": "left"
          },
          "hovermode": "closest",
          "mapbox": {
           "style": "light"
          },
          "paper_bgcolor": "white",
          "plot_bgcolor": "#E5ECF6",
          "polar": {
           "angularaxis": {
            "gridcolor": "white",
            "linecolor": "white",
            "ticks": ""
           },
           "bgcolor": "#E5ECF6",
           "radialaxis": {
            "gridcolor": "white",
            "linecolor": "white",
            "ticks": ""
           }
          },
          "scene": {
           "xaxis": {
            "backgroundcolor": "#E5ECF6",
            "gridcolor": "white",
            "gridwidth": 2,
            "linecolor": "white",
            "showbackground": true,
            "ticks": "",
            "zerolinecolor": "white"
           },
           "yaxis": {
            "backgroundcolor": "#E5ECF6",
            "gridcolor": "white",
            "gridwidth": 2,
            "linecolor": "white",
            "showbackground": true,
            "ticks": "",
            "zerolinecolor": "white"
           },
           "zaxis": {
            "backgroundcolor": "#E5ECF6",
            "gridcolor": "white",
            "gridwidth": 2,
            "linecolor": "white",
            "showbackground": true,
            "ticks": "",
            "zerolinecolor": "white"
           }
          },
          "shapedefaults": {
           "line": {
            "color": "#2a3f5f"
           }
          },
          "ternary": {
           "aaxis": {
            "gridcolor": "white",
            "linecolor": "white",
            "ticks": ""
           },
           "baxis": {
            "gridcolor": "white",
            "linecolor": "white",
            "ticks": ""
           },
           "bgcolor": "#E5ECF6",
           "caxis": {
            "gridcolor": "white",
            "linecolor": "white",
            "ticks": ""
           }
          },
          "title": {
           "x": 0.05
          },
          "xaxis": {
           "automargin": true,
           "gridcolor": "white",
           "linecolor": "white",
           "ticks": "",
           "title": {
            "standoff": 15
           },
           "zerolinecolor": "white",
           "zerolinewidth": 2
          },
          "yaxis": {
           "automargin": true,
           "gridcolor": "white",
           "linecolor": "white",
           "ticks": "",
           "title": {
            "standoff": 15
           },
           "zerolinecolor": "white",
           "zerolinewidth": 2
          }
         }
        },
        "title": {
         "text": "Trade over time"
        },
        "xaxis": {
         "anchor": "y",
         "autorange": true,
         "domain": [
          0,
          1
         ],
         "gridcolor": "lightgray",
         "range": [
          "2009-08-10 00:50:17.9589",
          "2023-12-03 00:18:36.5197"
         ],
         "showgrid": false,
         "title": {
          "text": "x"
         },
         "type": "date"
        },
        "yaxis": {
         "anchor": "x",
         "autorange": true,
         "domain": [
          0,
          1
         ],
         "gridcolor": "lightgray",
         "range": [
          -125.67142886603742,
          402.16792931240246
         ],
         "tickformat": ".2%",
         "title": {
          "text": "Percent Change"
         },
         "type": "linear"
        }
       }
      },
      "image/png": "[encoded data removed]",
      "text/html": [
       "<div>                            <div id=\"4252e2bd-8be2-47f2-9b8f-f5f84e0bccfe\" class=\"plotly-graph-div\" style=\"height:525px; width:100%;\"></div>            <script type=\"text/javascript\">                require([\"plotly\"], function(Plotly) {                    window.PLOTLYENV=window.PLOTLYENV || {};                                    if (document.getElementById(\"4252e2bd-8be2-47f2-9b8f-f5f84e0bccfe\")) {                    Plotly.newPlot(                        \"4252e2bd-8be2-47f2-9b8f-f5f84e0bccfe\",                        [{\"hovertemplate\":\"x=%{x}<br>y=%{y}<br>size=%{marker.size}<extra></extra>\",\"legendgroup\":\"\",\"marker\":{\"color\":\"#636efa\",\"size\":[0.0,76.52,24.46,35.96,7.95,25.17,43.45,20.78,15.31,3.22,22.39,14.15,19.42,37.75,20.08,26.74,18.2,26.23,2.13,17.25,16.04,20.31,8.54,38.75,44.89,36.01,69.32,34.63,6.75,108.29,76.77,6.27,32.34,6.59,39.88,10.31,12.5,13.91,49.12,23.87,48.75,41.85,1.81,48.69,7.82,31.46,18.34,7.35,39.87,36.65,16.63,9.17,115.28,31.53,41.46,37.86,23.83,27.1,22.35,17.86,31.84,15.34,11.27,34.52,17.18,8.97,19.88,35.85,2.02,20.87,20.07,7.91,11.67,15.77,12.6,12.38,6.83,23.32,11.82,18.91,64.29,15.1,31.16,24.19,30.15,40.73,24.47,31.14,28.5,20.46,41.94,29.68,18.22,36.13,11.01,24.3,13.23,15.55,41.03,15.24,41.23,12.73,13.6,5.96,14.25,9.39,22.55,0.89,35.56,18.6,7.45,56.04,16.19,33.76,51.43,11.47,21.96,84.92,75.38,63.63,49.24,35.68,23.71,9.43,25.84,88.95,26.47,32.93,19.72,30.84,33.44,2.59,4.65,10.42,17.5,22.33,16.19,16.81,51.02,22.46,88.26,23.61,1.5,8.93,10.01,3.01,29.81,23.25,76.88,175.6,16.67,329.41],\"sizemode\":\"area\",\"sizeref\":0.8235250000000001,\"symbol\":\"circle\"},\"mode\":\"markers\",\"name\":\"\",\"orientation\":\"v\",\"showlegend\":false,\"x\":[\"2023-02-15T00:00:00\",\"2023-01-31T00:00:00\",\"2022-12-30T00:00:00\",\"2022-11-30T00:00:00\",\"2022-10-31T00:00:00\",\"2022-09-30T00:00:00\",\"2022-08-31T00:00:00\",\"2022-07-29T00:00:00\",\"2022-06-30T00:00:00\",\"2022-05-31T00:00:00\",\"2022-04-29T00:00:00\",\"2022-03-31T00:00:00\",\"2022-02-28T00:00:00\",\"2022-01-31T00:00:00\",\"2021-12-31T00:00:00\",\"2021-11-30T00:00:00\",\"2021-10-29T00:00:00\",\"2021-09-30T00:00:00\",\"2021-08-31T00:00:00\",\"2021-07-30T00:00:00\",\"2021-06-30T00:00:00\",\"2021-05-28T00:00:00\",\"2021-04-30T00:00:00\",\"2021-03-31T00:00:00\",\"2021-02-26T00:00:00\",\"2021-01-29T00:00:00\",\"2020-12-31T00:00:00\",\"2020-11-30T00:00:00\",\"2020-10-30T00:00:00\",\"2020-09-30T00:00:00\",\"2020-08-31T00:00:00\",\"2020-07-31T00:00:00\",\"2020-06-30T00:00:00\",\"2020-05-29T00:00:00\",\"2020-04-30T00:00:00\",\"2020-03-31T00:00:00\",\"2020-02-28T00:00:00\",\"2020-01-31T00:00:00\",\"2019-12-31T00:00:00\",\"2019-11-29T00:00:00\",\"2019-10-31T00:00:00\",\"2019-09-30T00:00:00\",\"2019-08-30T00:00:00\",\"2019-07-31T00:00:00\",\"2019-06-28T00:00:00\",\"2019-05-31T00:00:00\",\"2019-04-30T00:00:00\",\"2019-03-29T00:00:00\",\"2019-02-28T00:00:00\",\"2019-01-31T00:00:00\",\"2018-12-31T00:00:00\",\"2018-11-30T00:00:00\",\"2018-10-31T00:00:00\",\"2018-09-28T00:00:00\",\"2018-08-31T00:00:00\",\"2018-07-31T00:00:00\",\"2018-06-29T00:00:00\",\"2018-05-31T00:00:00\",\"2018-04-30T00:00:00\",\"2018-03-29T00:00:00\",\"2018-02-28T00:00:00\",\"2018-01-31T00:00:00\",\"2017-12-29T00:00:00\",\"2017-11-30T00:00:00\",\"2017-10-31T00:00:00\",\"2017-09-29T00:00:00\",\"2017-08-31T00:00:00\",\"2017-07-31T00:00:00\",\"2017-06-30T00:00:00\",\"2017-05-31T00:00:00\",\"2017-04-28T00:00:00\",\"2017-03-31T00:00:00\",\"2017-02-28T00:00:00\",\"2017-01-31T00:00:00\",\"2016-12-30T00:00:00\",\"2016-11-30T00:00:00\",\"2016-10-31T00:00:00\",\"2016-09-30T00:00:00\",\"2016-08-31T00:00:00\",\"2016-07-29T00:00:00\",\"2016-06-30T00:00:00\",\"2016-05-31T00:00:00\",\"2016-04-29T00:00:00\",\"2016-03-31T00:00:00\",\"2016-02-29T00:00:00\",\"2016-01-29T00:00:00\",\"2015-12-31T00:00:00\",\"2015-11-30T00:00:00\",\"2015-10-30T00:00:00\",\"2015-09-30T00:00:00\",\"2015-08-31T00:00:00\",\"2015-07-31T00:00:00\",\"2015-06-30T00:00:00\",\"2015-05-29T00:00:00\",\"2015-04-30T00:00:00\",\"2015-03-31T00:00:00\",\"2015-02-27T00:00:00\",\"2015-01-30T00:00:00\",\"2014-12-31T00:00:00\",\"2014-11-28T00:00:00\",\"2014-10-31T00:00:00\",\"2014-09-30T00:00:00\",\"2014-08-29T00:00:00\",\"2014-07-31T00:00:00\",\"2014-06-30T00:00:00\",\"2014-05-30T00:00:00\",\"2014-04-30T00:00:00\",\"2014-03-31T00:00:00\",\"2014-02-28T00:00:00\",\"2014-01-31T00:00:00\",\"2013-12-31T00:00:00\",\"2013-11-29T00:00:00\",\"2013-10-31T00:00:00\",\"2013-09-30T00:00:00\",\"2013-08-30T00:00:00\",\"2013-07-31T00:00:00\",\"2013-06-28T00:00:00\",\"2013-05-31T00:00:00\",\"2013-04-30T00:00:00\",\"2013-03-28T00:00:00\",\"2013-02-28T00:00:00\",\"2013-01-31T00:00:00\",\"2012-12-31T00:00:00\",\"2012-11-30T00:00:00\",\"2012-10-31T00:00:00\",\"2012-09-28T00:00:00\",\"2012-08-31T00:00:00\",\"2012-07-31T00:00:00\",\"2012-06-29T00:00:00\",\"2012-05-31T00:00:00\",\"2012-04-30T00:00:00\",\"2012-03-30T00:00:00\",\"2012-02-29T00:00:00\",\"2012-01-31T00:00:00\",\"2011-12-30T00:00:00\",\"2011-11-30T00:00:00\",\"2011-10-31T00:00:00\",\"2011-09-30T00:00:00\",\"2011-08-31T00:00:00\",\"2011-07-29T00:00:00\",\"2011-06-30T00:00:00\",\"2011-05-31T00:00:00\",\"2011-04-29T00:00:00\",\"2011-03-31T00:00:00\",\"2011-02-28T00:00:00\",\"2011-01-31T00:00:00\",\"2010-12-31T00:00:00\",\"2010-11-30T00:00:00\",\"2010-10-29T00:00:00\",\"2010-09-30T00:00:00\",\"2010-08-31T00:00:00\",\"2010-07-30T00:00:00\"],\"xaxis\":\"x\",\"y\":[0.0,76.52,-24.46,-35.96,-7.95,-25.17,-43.45,-20.78,15.31,-3.22,-22.39,14.15,-19.42,37.75,-20.08,26.74,-18.2,-26.23,-2.13,17.25,16.04,20.31,8.54,38.75,-44.89,36.01,69.32,-34.63,6.75,108.29,-76.77,-6.27,-32.34,6.59,39.88,10.31,12.5,-13.91,-49.12,-23.87,48.75,-41.85,-1.81,48.69,7.82,31.46,-18.34,-7.35,-39.87,36.65,-16.63,-9.17,115.28,-31.53,41.46,-37.86,23.83,-27.1,22.35,-17.86,-31.84,15.34,-11.27,34.52,-17.18,-8.97,19.88,35.85,2.02,-20.87,-20.07,-7.91,11.67,-15.77,-12.6,12.38,-6.83,-23.32,-11.82,18.91,64.29,-15.1,31.16,-24.19,30.15,-40.73,-24.47,31.14,28.5,-20.46,41.94,-29.68,-18.22,36.13,11.01,24.3,-13.23,-15.55,41.03,-15.24,41.23,-12.73,-13.6,-5.96,14.25,9.39,22.55,0.89,35.56,-18.6,7.45,56.04,-16.19,-33.76,51.43,-11.47,-21.96,84.92,-75.38,-63.63,49.24,-35.68,-23.71,9.43,-25.84,88.95,-26.47,32.93,-19.72,30.84,-33.44,-2.59,4.65,10.42,-17.5,22.33,-16.19,-16.81,51.02,-22.46,88.26,-23.61,-1.5,8.93,-10.01,-3.01,29.81,-23.25,-76.88,175.6,-16.67,329.41],\"yaxis\":\"y\",\"type\":\"scatter\"}],                        {\"template\":{\"data\":{\"histogram2dcontour\":[{\"type\":\"histogram2dcontour\",\"colorbar\":{\"outlinewidth\":0,\"ticks\":\"\"},\"colorscale\":[[0.0,\"#0d0887\"],[0.1111111111111111,\"#46039f\"],[0.2222222222222222,\"#7201a8\"],[0.3333333333333333,\"#9c179e\"],[0.4444444444444444,\"#bd3786\"],[0.5555555555555556,\"#d8576b\"],[0.6666666666666666,\"#ed7953\"],[0.7777777777777778,\"#fb9f3a\"],[0.8888888888888888,\"#fdca26\"],[1.0,\"#f0f921\"]]}],\"choropleth\":[{\"type\":\"choropleth\",\"colorbar\":{\"outlinewidth\":0,\"ticks\":\"\"}}],\"histogram2d\":[{\"type\":\"histogram2d\",\"colorbar\":{\"outlinewidth\":0,\"ticks\":\"\"},\"colorscale\":[[0.0,\"#0d0887\"],[0.1111111111111111,\"#46039f\"],[0.2222222222222222,\"#7201a8\"],[0.3333333333333333,\"#9c179e\"],[0.4444444444444444,\"#bd3786\"],[0.5555555555555556,\"#d8576b\"],[0.6666666666666666,\"#ed7953\"],[0.7777777777777778,\"#fb9f3a\"],[0.8888888888888888,\"#fdca26\"],[1.0,\"#f0f921\"]]}],\"heatmap\":[{\"type\":\"heatmap\",\"colorbar\":{\"outlinewidth\":0,\"ticks\":\"\"},\"colorscale\":[[0.0,\"#0d0887\"],[0.1111111111111111,\"#46039f\"],[0.2222222222222222,\"#7201a8\"],[0.3333333333333333,\"#9c179e\"],[0.4444444444444444,\"#bd3786\"],[0.5555555555555556,\"#d8576b\"],[0.6666666666666666,\"#ed7953\"],[0.7777777777777778,\"#fb9f3a\"],[0.8888888888888888,\"#fdca26\"],[1.0,\"#f0f921\"]]}],\"heatmapgl\":[{\"type\":\"heatmapgl\",\"colorbar\":{\"outlinewidth\":0,\"ticks\":\"\"},\"colorscale\":[[0.0,\"#0d0887\"],[0.1111111111111111,\"#46039f\"],[0.2222222222222222,\"#7201a8\"],[0.3333333333333333,\"#9c179e\"],[0.4444444444444444,\"#bd3786\"],[0.5555555555555556,\"#d8576b\"],[0.6666666666666666,\"#ed7953\"],[0.7777777777777778,\"#fb9f3a\"],[0.8888888888888888,\"#fdca26\"],[1.0,\"#f0f921\"]]}],\"contourcarpet\":[{\"type\":\"contourcarpet\",\"colorbar\":{\"outlinewidth\":0,\"ticks\":\"\"}}],\"contour\":[{\"type\":\"contour\",\"colorbar\":{\"outlinewidth\":0,\"ticks\":\"\"},\"colorscale\":[[0.0,\"#0d0887\"],[0.1111111111111111,\"#46039f\"],[0.2222222222222222,\"#7201a8\"],[0.3333333333333333,\"#9c179e\"],[0.4444444444444444,\"#bd3786\"],[0.5555555555555556,\"#d8576b\"],[0.6666666666666666,\"#ed7953\"],[0.7777777777777778,\"#fb9f3a\"],[0.8888888888888888,\"#fdca26\"],[1.0,\"#f0f921\"]]}],\"surface\":[{\"type\":\"surface\",\"colorbar\":{\"outlinewidth\":0,\"ticks\":\"\"},\"colorscale\":[[0.0,\"#0d0887\"],[0.1111111111111111,\"#46039f\"],[0.2222222222222222,\"#7201a8\"],[0.3333333333333333,\"#9c179e\"],[0.4444444444444444,\"#bd3786\"],[0.5555555555555556,\"#d8576b\"],[0.6666666666666666,\"#ed7953\"],[0.7777777777777778,\"#fb9f3a\"],[0.8888888888888888,\"#fdca26\"],[1.0,\"#f0f921\"]]}],\"mesh3d\":[{\"type\":\"mesh3d\",\"colorbar\":{\"outlinewidth\":0,\"ticks\":\"\"}}],\"scatter\":[{\"fillpattern\":{\"fillmode\":\"overlay\",\"size\":10,\"solidity\":0.2},\"type\":\"scatter\"}],\"parcoords\":[{\"type\":\"parcoords\",\"line\":{\"colorbar\":{\"outlinewidth\":0,\"ticks\":\"\"}}}],\"scatterpolargl\":[{\"type\":\"scatterpolargl\",\"marker\":{\"colorbar\":{\"outlinewidth\":0,\"ticks\":\"\"}}}],\"bar\":[{\"error_x\":{\"color\":\"#2a3f5f\"},\"error_y\":{\"color\":\"#2a3f5f\"},\"marker\":{\"line\":{\"color\":\"#E5ECF6\",\"width\":0.5},\"pattern\":{\"fillmode\":\"overlay\",\"size\":10,\"solidity\":0.2}},\"type\":\"bar\"}],\"scattergeo\":[{\"type\":\"scattergeo\",\"marker\":{\"colorbar\":{\"outlinewidth\":0,\"ticks\":\"\"}}}],\"scatterpolar\":[{\"type\":\"scatterpolar\",\"marker\":{\"colorbar\":{\"outlinewidth\":0,\"ticks\":\"\"}}}],\"histogram\":[{\"marker\":{\"pattern\":{\"fillmode\":\"overlay\",\"size\":10,\"solidity\":0.2}},\"type\":\"histogram\"}],\"scattergl\":[{\"type\":\"scattergl\",\"marker\":{\"colorbar\":{\"outlinewidth\":0,\"ticks\":\"\"}}}],\"scatter3d\":[{\"type\":\"scatter3d\",\"line\":{\"colorbar\":{\"outlinewidth\":0,\"ticks\":\"\"}},\"marker\":{\"colorbar\":{\"outlinewidth\":0,\"ticks\":\"\"}}}],\"scattermapbox\":[{\"type\":\"scattermapbox\",\"marker\":{\"colorbar\":{\"outlinewidth\":0,\"ticks\":\"\"}}}],\"scatterternary\":[{\"type\":\"scatterternary\",\"marker\":{\"colorbar\":{\"outlinewidth\":0,\"ticks\":\"\"}}}],\"scattercarpet\":[{\"type\":\"scattercarpet\",\"marker\":{\"colorbar\":{\"outlinewidth\":0,\"ticks\":\"\"}}}],\"carpet\":[{\"aaxis\":{\"endlinecolor\":\"#2a3f5f\",\"gridcolor\":\"white\",\"linecolor\":\"white\",\"minorgridcolor\":\"white\",\"startlinecolor\":\"#2a3f5f\"},\"baxis\":{\"endlinecolor\":\"#2a3f5f\",\"gridcolor\":\"white\",\"linecolor\":\"white\",\"minorgridcolor\":\"white\",\"startlinecolor\":\"#2a3f5f\"},\"type\":\"carpet\"}],\"table\":[{\"cells\":{\"fill\":{\"color\":\"#EBF0F8\"},\"line\":{\"color\":\"white\"}},\"header\":{\"fill\":{\"color\":\"#C8D4E3\"},\"line\":{\"color\":\"white\"}},\"type\":\"table\"}],\"barpolar\":[{\"marker\":{\"line\":{\"color\":\"#E5ECF6\",\"width\":0.5},\"pattern\":{\"fillmode\":\"overlay\",\"size\":10,\"solidity\":0.2}},\"type\":\"barpolar\"}],\"pie\":[{\"automargin\":true,\"type\":\"pie\"}]},\"layout\":{\"autotypenumbers\":\"strict\",\"colorway\":[\"#636efa\",\"#EF553B\",\"#00cc96\",\"#ab63fa\",\"#FFA15A\",\"#19d3f3\",\"#FF6692\",\"#B6E880\",\"#FF97FF\",\"#FECB52\"],\"font\":{\"color\":\"#2a3f5f\"},\"hovermode\":\"closest\",\"hoverlabel\":{\"align\":\"left\"},\"paper_bgcolor\":\"white\",\"plot_bgcolor\":\"#E5ECF6\",\"polar\":{\"bgcolor\":\"#E5ECF6\",\"angularaxis\":{\"gridcolor\":\"white\",\"linecolor\":\"white\",\"ticks\":\"\"},\"radialaxis\":{\"gridcolor\":\"white\",\"linecolor\":\"white\",\"ticks\":\"\"}},\"ternary\":{\"bgcolor\":\"#E5ECF6\",\"aaxis\":{\"gridcolor\":\"white\",\"linecolor\":\"white\",\"ticks\":\"\"},\"baxis\":{\"gridcolor\":\"white\",\"linecolor\":\"white\",\"ticks\":\"\"},\"caxis\":{\"gridcolor\":\"white\",\"linecolor\":\"white\",\"ticks\":\"\"}},\"coloraxis\":{\"colorbar\":{\"outlinewidth\":0,\"ticks\":\"\"}},\"colorscale\":{\"sequential\":[[0.0,\"#0d0887\"],[0.1111111111111111,\"#46039f\"],[0.2222222222222222,\"#7201a8\"],[0.3333333333333333,\"#9c179e\"],[0.4444444444444444,\"#bd3786\"],[0.5555555555555556,\"#d8576b\"],[0.6666666666666666,\"#ed7953\"],[0.7777777777777778,\"#fb9f3a\"],[0.8888888888888888,\"#fdca26\"],[1.0,\"#f0f921\"]],\"sequentialminus\":[[0.0,\"#0d0887\"],[0.1111111111111111,\"#46039f\"],[0.2222222222222222,\"#7201a8\"],[0.3333333333333333,\"#9c179e\"],[0.4444444444444444,\"#bd3786\"],[0.5555555555555556,\"#d8576b\"],[0.6666666666666666,\"#ed7953\"],[0.7777777777777778,\"#fb9f3a\"],[0.8888888888888888,\"#fdca26\"],[1.0,\"#f0f921\"]],\"diverging\":[[0,\"#8e0152\"],[0.1,\"#c51b7d\"],[0.2,\"#de77ae\"],[0.3,\"#f1b6da\"],[0.4,\"#fde0ef\"],[0.5,\"#f7f7f7\"],[0.6,\"#e6f5d0\"],[0.7,\"#b8e186\"],[0.8,\"#7fbc41\"],[0.9,\"#4d9221\"],[1,\"#276419\"]]},\"xaxis\":{\"gridcolor\":\"white\",\"linecolor\":\"white\",\"ticks\":\"\",\"title\":{\"standoff\":15},\"zerolinecolor\":\"white\",\"automargin\":true,\"zerolinewidth\":2},\"yaxis\":{\"gridcolor\":\"white\",\"linecolor\":\"white\",\"ticks\":\"\",\"title\":{\"standoff\":15},\"zerolinecolor\":\"white\",\"automargin\":true,\"zerolinewidth\":2},\"scene\":{\"xaxis\":{\"backgroundcolor\":\"#E5ECF6\",\"gridcolor\":\"white\",\"linecolor\":\"white\",\"showbackground\":true,\"ticks\":\"\",\"zerolinecolor\":\"white\",\"gridwidth\":2},\"yaxis\":{\"backgroundcolor\":\"#E5ECF6\",\"gridcolor\":\"white\",\"linecolor\":\"white\",\"showbackground\":true,\"ticks\":\"\",\"zerolinecolor\":\"white\",\"gridwidth\":2},\"zaxis\":{\"backgroundcolor\":\"#E5ECF6\",\"gridcolor\":\"white\",\"linecolor\":\"white\",\"showbackground\":true,\"ticks\":\"\",\"zerolinecolor\":\"white\",\"gridwidth\":2}},\"shapedefaults\":{\"line\":{\"color\":\"#2a3f5f\"}},\"annotationdefaults\":{\"arrowcolor\":\"#2a3f5f\",\"arrowhead\":0,\"arrowwidth\":1},\"geo\":{\"bgcolor\":\"white\",\"landcolor\":\"#E5ECF6\",\"subunitcolor\":\"white\",\"showland\":true,\"showlakes\":true,\"lakecolor\":\"white\"},\"title\":{\"x\":0.05},\"mapbox\":{\"style\":\"light\"}}},\"xaxis\":{\"anchor\":\"y\",\"domain\":[0.0,1.0],\"title\":{\"text\":\"x\"},\"showgrid\":false,\"gridcolor\":\"lightgray\"},\"yaxis\":{\"anchor\":\"x\",\"domain\":[0.0,1.0],\"title\":{\"text\":\"Percent Change\"},\"tickformat\":\".2%\",\"gridcolor\":\"lightgray\"},\"legend\":{\"tracegroupgap\":0,\"itemsizing\":\"constant\"},\"title\":{\"text\":\"Trade over time\"},\"plot_bgcolor\":\"rgb(255, 255, 255)\"},                        {\"responsive\": true}                    ).then(function(){\n",
       "                            \n",
       "var gd = document.getElementById('4252e2bd-8be2-47f2-9b8f-f5f84e0bccfe');\n",
       "var x = new MutationObserver(function (mutations, observer) {{\n",
       "        var display = window.getComputedStyle(gd).display;\n",
       "        if (!display || display === 'none') {{\n",
       "            console.log([gd, 'removed!']);\n",
       "            Plotly.purge(gd);\n",
       "            observer.disconnect();\n",
       "        }}\n",
       "}});\n",
       "\n",
       "// Listen for the removal of the full notebook cells\n",
       "var notebookContainer = gd.closest('#notebook-container');\n",
       "if (notebookContainer) {{\n",
       "    x.observe(notebookContainer, {childList: true});\n",
       "}}\n",
       "\n",
       "// Listen for the clearing of the current output cell\n",
       "var outputEl = gd.closest('.output');\n",
       "if (outputEl) {{\n",
       "    x.observe(outputEl, {childList: true});\n",
       "}}\n",
       "\n",
       "                        })                };                });            </script>        </div>"
      ]
     },
     "metadata": {},
     "output_type": "display_data"
    }
   ],
   "source": [
    "changeTracker = px.scatter( x = date, y = stock_Volume_Change, title = 'Trade over time', size = stock_Volume_Change_abs)\n",
    "\n",
    "changeTracker.update_layout(\n",
    "    yaxis_tickformat = '.2%',\n",
    "    yaxis_title = 'Percent Change',\n",
    "    xaxis_showgrid=False,   # Set the x-axis grid lines to show\n",
    "    # yaxis_showgrid=False,   # Set the y-axis grid lines to show\n",
    "    xaxis_gridcolor='lightgray',  # Set the x-axis grid color\n",
    "    yaxis_gridcolor='lightgray',  # Set the y-axis grid color\n",
    "    plot_bgcolor='rgb(255, 255, 255)',  # Set the background color to white\n",
    ")"
   ]
  }
 ],
 "metadata": {
  "kernelspec": {
   "display_name": "Python 3 (ipykernel)",
   "language": "python",
   "name": "python3"
  },
  "language_info": {
   "codemirror_mode": {
    "name": "ipython",
    "version": 3
   },
   "file_extension": ".py",
   "mimetype": "text/x-python",
   "name": "python",
   "nbconvert_exporter": "python",
   "pygments_lexer": "ipython3",
   "version": "3.10.6"
  }
 },
 "nbformat": 4,
 "nbformat_minor": 5
}
