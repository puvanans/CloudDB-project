{
 "cells": [
  {
   "cell_type": "code",
   "execution_count": 45,
   "id": "780681de-bdac-43b6-9700-002a3e5d3cb8",
   "metadata": {},
   "outputs": [],
   "source": [
    "import pickle\n",
    "import pprint\n",
    "import time\n",
    "from datetime import datetime\n",
    "import plotly.express as px\n",
    "import plotly.graph_objs as go"
   ]
  },
  {
   "cell_type": "code",
   "execution_count": 6,
   "id": "5dedbfac-cc04-4cb3-a772-d7568e79c4a4",
   "metadata": {},
   "outputs": [],
   "source": [
    "with open(\"data_for_visualization.pkl\", \"rb\") as file:\n",
    "    data_for_visualization = pickle.load(file)\n",
    "\n"
   ]
  },
  {
   "cell_type": "code",
   "execution_count": null,
   "id": "0c72557e-69bc-4b8b-a669-03a82dbe4420",
   "metadata": {},
   "outputs": [],
   "source": []
  },
  {
   "cell_type": "code",
   "execution_count": null,
   "id": "b689d29f-9223-45ab-9da2-792c34475d6f",
   "metadata": {},
   "outputs": [],
   "source": []
  },
  {
   "cell_type": "code",
   "execution_count": 7,
   "id": "6e2613a8-453f-4da5-a6af-0ff971dc3dc3",
   "metadata": {},
   "outputs": [],
   "source": [
    "dateString = data_for_visualization[0]\n",
    "date = data_for_visualization[1]\n",
    "stock_Price = data_for_visualization[2]\n",
    "stock_Volume = data_for_visualization[3]\n",
    "stock_Price_Change = data_for_visualization[4]\n",
    "stock_Volume_Change = data_for_visualization[5]\n",
    "\n",
    "stock_Price_Change_abs = [abs(change) for change in stock_Price_Change]\n",
    "stock_Volume_Change_abs = [abs(change) for change in stock_Volume_Change]\n"
   ]
  },
  {
   "cell_type": "code",
   "execution_count": 59,
   "id": "76d41140-3360-43c2-b074-740c46a9d55d",
   "metadata": {},
   "outputs": [],
   "source": [
    "# priceTracker = px.line(x = date, y = stock_Price, title = \"Stock Price over time\" )\n",
    "\n",
    "\n",
    "# priceTracker.update_layout(\n",
    "#     title='Stock Price',\n",
    "#     yaxis_tickformat='$',\n",
    "#     yaxis_title='Price',\n",
    "#     xaxis_showgrid=False,   # Set the x-axis grid lines to show\n",
    "#     # yaxis_showgrid=False,   # Set the y-axis grid lines to show\n",
    "#     xaxis_gridcolor='lightgray',  # Set the x-axis grid color\n",
    "#     yaxis_gridcolor='lightgray',  # Set the y-axis grid color\n",
    "#     plot_bgcolor='rgb(255, 255, 255)',  # Set the background color to white\n",
    "# )\n"
   ]
  },
  {
   "cell_type": "code",
   "execution_count": 58,
   "id": "ec361aae-986e-4d1b-881d-e2e380d0c3b3",
   "metadata": {},
   "outputs": [],
   "source": [
    "# changeTracker = px.scatter( x = date, y = stock_Volume_Change, title = 'Trade over time', size = stock_Volume_Change_abs)\n",
    "\n",
    "# changeTracker.update_layout(\n",
    "#     yaxis_tickformat = '.2%',\n",
    "#     yaxis_title = 'Percent Change',\n",
    "#     xaxis_showgrid=False,   # Set the x-axis grid lines to show\n",
    "#     # yaxis_showgrid=False,   # Set the y-axis grid lines to show\n",
    "#     xaxis_gridcolor='lightgray',  # Set the x-axis grid color\n",
    "#     yaxis_gridcolor='lightgray',  # Set the y-axis grid color\n",
    "#     plot_bgcolor='rgb(255, 255, 255)',  # Set the background color to white\n",
    "# )"
   ]
  }
 ],
 "metadata": {
  "kernelspec": {
   "display_name": "Python 3 (ipykernel)",
   "language": "python",
   "name": "python3"
  },
  "language_info": {
   "codemirror_mode": {
    "name": "ipython",
    "version": 3
   },
   "file_extension": ".py",
   "mimetype": "text/x-python",
   "name": "python",
   "nbconvert_exporter": "python",
   "pygments_lexer": "ipython3",
   "version": "3.10.6"
  }
 },
 "nbformat": 4,
 "nbformat_minor": 5
}
